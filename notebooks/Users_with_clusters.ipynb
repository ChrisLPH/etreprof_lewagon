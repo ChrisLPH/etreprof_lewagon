{
 "cells": [
  {
   "cell_type": "code",
   "execution_count": 1,
   "id": "e702e8b1-df0a-4f34-824f-ada6eb616ee0",
   "metadata": {},
   "outputs": [],
   "source": [
    "import pandas as pd"
   ]
  },
  {
   "cell_type": "code",
   "execution_count": 2,
   "id": "d544429c-84ea-4b66-9e97-2b18adee639b",
   "metadata": {},
   "outputs": [],
   "source": [
    "df_users = pd.read_csv(\"../data/users_final_dataset.csv\", low_memory=False)"
   ]
  },
  {
   "cell_type": "code",
   "execution_count": 3,
   "id": "dba9cd35-b25a-4440-b0e4-903773189ccc",
   "metadata": {},
   "outputs": [],
   "source": [
    "df_users_clusters = pd.read_csv(\"../data/user_cluster_assignments.csv\", low_memory=False)"
   ]
  },
  {
   "cell_type": "code",
   "execution_count": 4,
   "id": "50362344-35aa-43a5-ae70-e4105b7b71c4",
   "metadata": {},
   "outputs": [
    {
     "data": {
      "text/plain": [
       "(198895, 102)"
      ]
     },
     "execution_count": 4,
     "metadata": {},
     "output_type": "execute_result"
    }
   ],
   "source": [
    "df_users.shape"
   ]
  },
  {
   "cell_type": "code",
   "execution_count": 5,
   "id": "fbbb8d2a-668b-44b3-b3b0-df988c43b0c4",
   "metadata": {},
   "outputs": [
    {
     "data": {
      "text/plain": [
       "(198895, 5)"
      ]
     },
     "execution_count": 5,
     "metadata": {},
     "output_type": "execute_result"
    }
   ],
   "source": [
    "df_users_clusters.shape"
   ]
  },
  {
   "cell_type": "code",
   "execution_count": 8,
   "id": "1125817d-6e90-4ae0-9e4b-73cbd34d54f1",
   "metadata": {},
   "outputs": [],
   "source": [
    "df_merged = pd.merge(df_users, df_users_clusters, on='id')"
   ]
  },
  {
   "cell_type": "code",
   "execution_count": 11,
   "id": "28b65607-e5f8-41d1-b68f-63afc989ecbc",
   "metadata": {},
   "outputs": [],
   "source": [
    "df_merged.to_csv(\"../data/users_final_with_clusters.csv\", index = False)"
   ]
  },
  {
   "cell_type": "code",
   "execution_count": 12,
   "id": "a231cd63-ad62-4af1-aba7-dc2923351bf2",
   "metadata": {},
   "outputs": [],
   "source": [
    "df_contents = pd.read_csv(\"../data/content_with_topics.csv\", low_memory=False)"
   ]
  },
  {
   "cell_type": "code",
   "execution_count": 13,
   "id": "b73be8c9-3836-4856-86de-17d873cac9b9",
   "metadata": {},
   "outputs": [
    {
     "data": {
      "text/html": [
       "<div>\n",
       "<style scoped>\n",
       "    .dataframe tbody tr th:only-of-type {\n",
       "        vertical-align: middle;\n",
       "    }\n",
       "\n",
       "    .dataframe tbody tr th {\n",
       "        vertical-align: top;\n",
       "    }\n",
       "\n",
       "    .dataframe thead th {\n",
       "        text-align: right;\n",
       "    }\n",
       "</style>\n",
       "<table border=\"1\" class=\"dataframe\">\n",
       "  <thead>\n",
       "    <tr style=\"text-align: right;\">\n",
       "      <th></th>\n",
       "      <th>id</th>\n",
       "      <th>reduced topics</th>\n",
       "    </tr>\n",
       "  </thead>\n",
       "  <tbody>\n",
       "    <tr>\n",
       "      <th>0</th>\n",
       "      <td>371</td>\n",
       "      <td>0</td>\n",
       "    </tr>\n",
       "    <tr>\n",
       "      <th>1</th>\n",
       "      <td>45</td>\n",
       "      <td>-1</td>\n",
       "    </tr>\n",
       "    <tr>\n",
       "      <th>2</th>\n",
       "      <td>597</td>\n",
       "      <td>-1</td>\n",
       "    </tr>\n",
       "    <tr>\n",
       "      <th>3</th>\n",
       "      <td>625</td>\n",
       "      <td>3</td>\n",
       "    </tr>\n",
       "    <tr>\n",
       "      <th>4</th>\n",
       "      <td>542</td>\n",
       "      <td>-1</td>\n",
       "    </tr>\n",
       "  </tbody>\n",
       "</table>\n",
       "</div>"
      ],
      "text/plain": [
       "    id  reduced topics\n",
       "0  371               0\n",
       "1   45              -1\n",
       "2  597              -1\n",
       "3  625               3\n",
       "4  542              -1"
      ]
     },
     "execution_count": 13,
     "metadata": {},
     "output_type": "execute_result"
    }
   ],
   "source": [
    "df_contents.head()"
   ]
  }
 ],
 "metadata": {
  "kernelspec": {
   "display_name": "Python 3 (ipykernel)",
   "language": "python",
   "name": "python3"
  },
  "language_info": {
   "codemirror_mode": {
    "name": "ipython",
    "version": 3
   },
   "file_extension": ".py",
   "mimetype": "text/x-python",
   "name": "python",
   "nbconvert_exporter": "python",
   "pygments_lexer": "ipython3",
   "version": "3.10.6"
  }
 },
 "nbformat": 4,
 "nbformat_minor": 5
}
