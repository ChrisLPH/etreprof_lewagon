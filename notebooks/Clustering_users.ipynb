{
 "cells": [
  {
   "cell_type": "markdown",
   "id": "01416487-3865-4959-a590-63b6cc5e9100",
   "metadata": {},
   "source": [
    "# Clustering Users"
   ]
  },
  {
   "cell_type": "markdown",
   "id": "5a31f088-9495-4e81-b014-12860aa134ac",
   "metadata": {},
   "source": [
    "## IMPORTS"
   ]
  },
  {
   "cell_type": "code",
   "execution_count": 1,
   "id": "64ae77f7-2010-46c5-80d6-749645dd9d85",
   "metadata": {},
   "outputs": [],
   "source": [
    "import pandas as pd"
   ]
  },
  {
   "cell_type": "markdown",
   "id": "c812b135-342c-48b3-9cd9-515d8746e84e",
   "metadata": {},
   "source": [
    "## Import Database"
   ]
  },
  {
   "cell_type": "code",
   "execution_count": null,
   "id": "0eab1408-1be6-475b-853c-93736d703ca9",
   "metadata": {},
   "outputs": [],
   "source": [
    "df_users = pd.read_csv(\"../data/"
   ]
  },
  {
   "cell_type": "code",
   "execution_count": null,
   "id": "de58f1cd-5a87-4759-b3c5-8837340d00ce",
   "metadata": {},
   "outputs": [],
   "source": []
  },
  {
   "cell_type": "code",
   "execution_count": null,
   "id": "d31abd7c-4381-4dc7-a584-6cc0a6822ce4",
   "metadata": {},
   "outputs": [],
   "source": []
  },
  {
   "cell_type": "code",
   "execution_count": null,
   "id": "995f47bb-643f-4949-b934-f74603de00f4",
   "metadata": {},
   "outputs": [],
   "source": []
  },
  {
   "cell_type": "code",
   "execution_count": null,
   "id": "f846ab43-21e3-4b57-aca3-d198678bf10c",
   "metadata": {},
   "outputs": [],
   "source": []
  },
  {
   "cell_type": "code",
   "execution_count": null,
   "id": "9eae2288-b0da-4b92-9c42-751e97de842a",
   "metadata": {},
   "outputs": [],
   "source": []
  },
  {
   "cell_type": "code",
   "execution_count": null,
   "id": "d83ad1b1-a10b-483a-bf54-af3860be241d",
   "metadata": {},
   "outputs": [],
   "source": []
  }
 ],
 "metadata": {
  "kernelspec": {
   "display_name": "Python 3 (ipykernel)",
   "language": "python",
   "name": "python3"
  },
  "language_info": {
   "codemirror_mode": {
    "name": "ipython",
    "version": 3
   },
   "file_extension": ".py",
   "mimetype": "text/x-python",
   "name": "python",
   "nbconvert_exporter": "python",
   "pygments_lexer": "ipython3",
   "version": "3.10.6"
  }
 },
 "nbformat": 4,
 "nbformat_minor": 5
}
