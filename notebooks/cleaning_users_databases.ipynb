{
 "cells": [
  {
   "cell_type": "markdown",
   "id": "dff5e6ab-1274-439a-a7c6-ebccac82b73c",
   "metadata": {},
   "source": [
    "# Cleaning users database"
   ]
  },
  {
   "cell_type": "markdown",
   "id": "8cdcbbd1-463a-41ad-a1f2-84609d0a3005",
   "metadata": {
    "heading_collapsed": true
   },
   "source": [
    "## Imports"
   ]
  },
  {
   "cell_type": "code",
   "execution_count": 5,
   "id": "7ff34ef9-e273-4355-88bf-3e5fa142f0ef",
   "metadata": {
    "hidden": true
   },
   "outputs": [],
   "source": [
    "import pandas as pd\n",
    "import numpy as np\n",
    "import matplotlib.pyplot as plt\n",
    "import seaborn as sns\n",
    "import json\n",
    "from collections import Counter\n",
    "import os\n",
    "from dotenv import load_dotenv\n"
   ]
  },
  {
   "cell_type": "markdown",
   "id": "631f60fe-7e8e-4d89-b09f-fba0df45a801",
   "metadata": {
    "heading_collapsed": true
   },
   "source": [
    "## Loading database and discovery"
   ]
  },
  {
   "cell_type": "code",
   "execution_count": 6,
   "id": "5ea72dc9",
   "metadata": {},
   "outputs": [],
   "source": [
    "# Load the users data\n",
    "load_dotenv()\n",
    "df_users = pd.read_csv(os.getenv(\"USER_DB_URL\"), low_memory=False)"
   ]
  },
  {
   "cell_type": "code",
   "execution_count": 7,
   "id": "fe5be6b8-813f-4677-992c-144b3e139e1a",
   "metadata": {
    "hidden": true
   },
   "outputs": [
    {
     "name": "stdout",
     "output_type": "stream",
     "text": [
      "<class 'pandas.core.frame.DataFrame'>\n",
      "RangeIndex: 207852 entries, 0 to 207851\n",
      "Data columns (total 24 columns):\n",
      " #   Column                Non-Null Count   Dtype  \n",
      "---  ------                --------------   -----  \n",
      " 0   id                    207852 non-null  int64  \n",
      " 1   locale                207852 non-null  object \n",
      " 2   name                  207842 non-null  object \n",
      " 3   statut_infolettre     207852 non-null  int64  \n",
      " 4   statut_mailchimp      207666 non-null  object \n",
      " 5   public                207852 non-null  int64  \n",
      " 6   prenom                12400 non-null   object \n",
      " 7   codepostal            135905 non-null  object \n",
      " 8   pays                  148899 non-null  object \n",
      " 9   anciennete            195169 non-null  float64\n",
      " 10  statut                19061 non-null   object \n",
      " 11  fonction              214 non-null     object \n",
      " 12  fonction_longue       31 non-null      object \n",
      " 13  enseigne_en_eefe      207852 non-null  int64  \n",
      " 14  aucun_etablissement   207852 non-null  int64  \n",
      " 15  json_niveau           207848 non-null  object \n",
      " 16  json_discipline       207848 non-null  object \n",
      " 17  json_etablissement    160214 non-null  object \n",
      " 18  json_centre_interet   103869 non-null  object \n",
      " 19  json_format           34012 non-null   object \n",
      " 20  json_metadata         202672 non-null  object \n",
      " 21  created_at            207824 non-null  object \n",
      " 22  updated_at            207840 non-null  object \n",
      " 23  date_derniere_action  64403 non-null   object \n",
      "dtypes: float64(1), int64(5), object(18)\n",
      "memory usage: 38.1+ MB\n"
     ]
    }
   ],
   "source": [
    "df_users.info()"
   ]
  },
  {
   "cell_type": "code",
   "execution_count": 8,
   "id": "820e0dc6-edaf-421e-9688-36a8fc010ffe",
   "metadata": {
    "hidden": true
   },
   "outputs": [
    {
     "data": {
      "text/plain": [
       "(207852, 24)"
      ]
     },
     "execution_count": 8,
     "metadata": {},
     "output_type": "execute_result"
    }
   ],
   "source": [
    "df_users.shape"
   ]
  },
  {
   "cell_type": "code",
   "execution_count": 5,
   "id": "56b4627a",
   "metadata": {
    "hidden": true
   },
   "outputs": [
    {
     "data": {
      "text/html": [
       "<div>\n",
       "<style scoped>\n",
       "    .dataframe tbody tr th:only-of-type {\n",
       "        vertical-align: middle;\n",
       "    }\n",
       "\n",
       "    .dataframe tbody tr th {\n",
       "        vertical-align: top;\n",
       "    }\n",
       "\n",
       "    .dataframe thead th {\n",
       "        text-align: right;\n",
       "    }\n",
       "</style>\n",
       "<table border=\"1\" class=\"dataframe\">\n",
       "  <thead>\n",
       "    <tr style=\"text-align: right;\">\n",
       "      <th></th>\n",
       "      <th>id</th>\n",
       "      <th>locale</th>\n",
       "      <th>name</th>\n",
       "      <th>statut_infolettre</th>\n",
       "      <th>statut_mailchimp</th>\n",
       "      <th>public</th>\n",
       "      <th>prenom</th>\n",
       "      <th>codepostal</th>\n",
       "      <th>pays</th>\n",
       "      <th>anciennete</th>\n",
       "      <th>...</th>\n",
       "      <th>aucun_etablissement</th>\n",
       "      <th>json_niveau</th>\n",
       "      <th>json_discipline</th>\n",
       "      <th>json_etablissement</th>\n",
       "      <th>json_centre_interet</th>\n",
       "      <th>json_format</th>\n",
       "      <th>json_metadata</th>\n",
       "      <th>created_at</th>\n",
       "      <th>updated_at</th>\n",
       "      <th>date_derniere_action</th>\n",
       "    </tr>\n",
       "  </thead>\n",
       "  <tbody>\n",
       "    <tr>\n",
       "      <th>130797</th>\n",
       "      <td>133659</td>\n",
       "      <td>fr</td>\n",
       "      <td>lauriane</td>\n",
       "      <td>1</td>\n",
       "      <td>subscribed</td>\n",
       "      <td>0</td>\n",
       "      <td>NaN</td>\n",
       "      <td>1280</td>\n",
       "      <td>France</td>\n",
       "      <td>12.0</td>\n",
       "      <td>...</td>\n",
       "      <td>0</td>\n",
       "      <td>[\"CP\", \"CE1\", \"CE2\"]</td>\n",
       "      <td>[\"Français\", \"Mathématiques\", \"Sciences et tec...</td>\n",
       "      <td>[{\"id\": 53231, \"nom\": \"ECOLE ALTERNATIVE DU PA...</td>\n",
       "      <td>NaN</td>\n",
       "      <td>NaN</td>\n",
       "      <td>[{\"key\": \"newsletter\", \"value\": \"true\", \"creat...</td>\n",
       "      <td>2023-03-25 16:08:32</td>\n",
       "      <td>2023-10-28 10:27:32</td>\n",
       "      <td>2023-10-28 10:27:19</td>\n",
       "    </tr>\n",
       "    <tr>\n",
       "      <th>108867</th>\n",
       "      <td>111729</td>\n",
       "      <td>fr</td>\n",
       "      <td>Fadoua</td>\n",
       "      <td>0</td>\n",
       "      <td>subscribed</td>\n",
       "      <td>0</td>\n",
       "      <td>NaN</td>\n",
       "      <td>NaN</td>\n",
       "      <td>NaN</td>\n",
       "      <td>1.0</td>\n",
       "      <td>...</td>\n",
       "      <td>1</td>\n",
       "      <td>[\"CE1\", \"CE2\", \"CM1\", \"MS\", \"PS\"]</td>\n",
       "      <td>[]</td>\n",
       "      <td>[]</td>\n",
       "      <td>NaN</td>\n",
       "      <td>NaN</td>\n",
       "      <td>[{\"key\": \"newsletter\", \"value\": \"false\", \"crea...</td>\n",
       "      <td>2022-08-25 19:59:03</td>\n",
       "      <td>2022-08-26 14:42:58</td>\n",
       "      <td>2022-08-26 16:42:54</td>\n",
       "    </tr>\n",
       "    <tr>\n",
       "      <th>122516</th>\n",
       "      <td>125378</td>\n",
       "      <td>fr</td>\n",
       "      <td>Liliana</td>\n",
       "      <td>0</td>\n",
       "      <td>subscribed</td>\n",
       "      <td>0</td>\n",
       "      <td>NaN</td>\n",
       "      <td>NaN</td>\n",
       "      <td>NaN</td>\n",
       "      <td>0.0</td>\n",
       "      <td>...</td>\n",
       "      <td>1</td>\n",
       "      <td>[\"CP\", \"CE1\", \"TPS\", \"CE2\", \"CM1\", \"PS\", \"MS\",...</td>\n",
       "      <td>[]</td>\n",
       "      <td>[]</td>\n",
       "      <td>NaN</td>\n",
       "      <td>NaN</td>\n",
       "      <td>[{\"key\": \"newsletter\", \"value\": \"false\", \"crea...</td>\n",
       "      <td>2022-12-09 06:15:29</td>\n",
       "      <td>2022-12-09 06:15:30</td>\n",
       "      <td>NaN</td>\n",
       "    </tr>\n",
       "  </tbody>\n",
       "</table>\n",
       "<p>3 rows × 24 columns</p>\n",
       "</div>"
      ],
      "text/plain": [
       "            id locale      name  statut_infolettre statut_mailchimp  public  \\\n",
       "130797  133659     fr  lauriane                  1       subscribed       0   \n",
       "108867  111729     fr    Fadoua                  0       subscribed       0   \n",
       "122516  125378     fr   Liliana                  0       subscribed       0   \n",
       "\n",
       "       prenom codepostal    pays  anciennete  ... aucun_etablissement  \\\n",
       "130797    NaN       1280  France        12.0  ...                   0   \n",
       "108867    NaN        NaN     NaN         1.0  ...                   1   \n",
       "122516    NaN        NaN     NaN         0.0  ...                   1   \n",
       "\n",
       "                                              json_niveau  \\\n",
       "130797                               [\"CP\", \"CE1\", \"CE2\"]   \n",
       "108867                  [\"CE1\", \"CE2\", \"CM1\", \"MS\", \"PS\"]   \n",
       "122516  [\"CP\", \"CE1\", \"TPS\", \"CE2\", \"CM1\", \"PS\", \"MS\",...   \n",
       "\n",
       "                                          json_discipline  \\\n",
       "130797  [\"Français\", \"Mathématiques\", \"Sciences et tec...   \n",
       "108867                                                 []   \n",
       "122516                                                 []   \n",
       "\n",
       "                                       json_etablissement  \\\n",
       "130797  [{\"id\": 53231, \"nom\": \"ECOLE ALTERNATIVE DU PA...   \n",
       "108867                                                 []   \n",
       "122516                                                 []   \n",
       "\n",
       "        json_centre_interet json_format  \\\n",
       "130797                  NaN         NaN   \n",
       "108867                  NaN         NaN   \n",
       "122516                  NaN         NaN   \n",
       "\n",
       "                                            json_metadata  \\\n",
       "130797  [{\"key\": \"newsletter\", \"value\": \"true\", \"creat...   \n",
       "108867  [{\"key\": \"newsletter\", \"value\": \"false\", \"crea...   \n",
       "122516  [{\"key\": \"newsletter\", \"value\": \"false\", \"crea...   \n",
       "\n",
       "                 created_at           updated_at date_derniere_action  \n",
       "130797  2023-03-25 16:08:32  2023-10-28 10:27:32  2023-10-28 10:27:19  \n",
       "108867  2022-08-25 19:59:03  2022-08-26 14:42:58  2022-08-26 16:42:54  \n",
       "122516  2022-12-09 06:15:29  2022-12-09 06:15:30                  NaN  \n",
       "\n",
       "[3 rows x 24 columns]"
      ]
     },
     "execution_count": 5,
     "metadata": {},
     "output_type": "execute_result"
    }
   ],
   "source": [
    "df_users.sample(3)"
   ]
  },
  {
   "cell_type": "code",
   "execution_count": 6,
   "id": "c2560cd1",
   "metadata": {
    "hidden": true
   },
   "outputs": [
    {
     "data": {
      "text/plain": [
       "Index(['id', 'locale', 'name', 'statut_infolettre', 'statut_mailchimp',\n",
       "       'public', 'prenom', 'codepostal', 'pays', 'anciennete', 'statut',\n",
       "       'fonction', 'fonction_longue', 'enseigne_en_eefe',\n",
       "       'aucun_etablissement', 'json_niveau', 'json_discipline',\n",
       "       'json_etablissement', 'json_centre_interet', 'json_format',\n",
       "       'json_metadata', 'created_at', 'updated_at', 'date_derniere_action'],\n",
       "      dtype='object')"
      ]
     },
     "execution_count": 6,
     "metadata": {},
     "output_type": "execute_result"
    }
   ],
   "source": [
    "df_users.columns"
   ]
  },
  {
   "cell_type": "markdown",
   "id": "e408fdbf",
   "metadata": {
    "heading_collapsed": true
   },
   "source": [
    "## Let's drop unused columns"
   ]
  },
  {
   "cell_type": "code",
   "execution_count": 7,
   "id": "6e1ae988",
   "metadata": {
    "hidden": true
   },
   "outputs": [
    {
     "data": {
      "text/plain": [
       "(207852, 24)"
      ]
     },
     "execution_count": 7,
     "metadata": {},
     "output_type": "execute_result"
    }
   ],
   "source": [
    "df_users.shape"
   ]
  },
  {
   "cell_type": "markdown",
   "id": "249ded57",
   "metadata": {
    "heading_collapsed": true,
    "hidden": true
   },
   "source": [
    "### utils"
   ]
  },
  {
   "cell_type": "code",
   "execution_count": 8,
   "id": "b7f473fe",
   "metadata": {
    "hidden": true
   },
   "outputs": [],
   "source": [
    "def drop_col(string):\n",
    "    if string in df_users.columns:\n",
    "        df_users.drop(string, axis=1, inplace=True)\n",
    "        return f\"Column `{string}` dropped. New shape : {df_users.shape}\"\n",
    "    else:\n",
    "        return f\"Column `{string}` not found in DataFrame. Shape unchanged : {df_users.shape}\""
   ]
  },
  {
   "cell_type": "markdown",
   "id": "54e32002",
   "metadata": {
    "heading_collapsed": true,
    "hidden": true
   },
   "source": [
    "### `locale`"
   ]
  },
  {
   "cell_type": "markdown",
   "id": "101a3257",
   "metadata": {
    "hidden": true
   },
   "source": [
    "`locale` is to determine if it's for Belgian people or other, because there is a special platform for Belgium.  \n",
    "Let's drop Belgium"
   ]
  },
  {
   "cell_type": "code",
   "execution_count": 9,
   "id": "339a25e5-61f3-4807-81e8-09cbf2181c48",
   "metadata": {
    "hidden": true
   },
   "outputs": [
    {
     "data": {
      "text/plain": [
       "'Column `locale` dropped. New shape : (204545, 23)'"
      ]
     },
     "execution_count": 9,
     "metadata": {},
     "output_type": "execute_result"
    }
   ],
   "source": [
    "df_users = df_users[df_users.locale != \"be\"]\n",
    "drop_col(\"locale\")"
   ]
  },
  {
   "cell_type": "markdown",
   "id": "0d25f131",
   "metadata": {
    "heading_collapsed": true,
    "hidden": true
   },
   "source": [
    "### `public`"
   ]
  },
  {
   "cell_type": "code",
   "execution_count": 10,
   "id": "fd1286a2",
   "metadata": {
    "hidden": true
   },
   "outputs": [
    {
     "data": {
      "text/plain": [
       "0    204545\n",
       "Name: public, dtype: int64"
      ]
     },
     "execution_count": 10,
     "metadata": {},
     "output_type": "execute_result"
    }
   ],
   "source": [
    "df_users.public.value_counts()"
   ]
  },
  {
   "cell_type": "markdown",
   "id": "49267aa4",
   "metadata": {
    "hidden": true
   },
   "source": [
    "It seems to be useless..."
   ]
  },
  {
   "cell_type": "code",
   "execution_count": 11,
   "id": "19711152-ab0c-405a-933b-46447857718b",
   "metadata": {
    "hidden": true
   },
   "outputs": [
    {
     "data": {
      "text/plain": [
       "'Column `public` dropped. New shape : (204545, 22)'"
      ]
     },
     "execution_count": 11,
     "metadata": {},
     "output_type": "execute_result"
    }
   ],
   "source": [
    "drop_col(\"public\")"
   ]
  },
  {
   "cell_type": "markdown",
   "id": "2381c35d",
   "metadata": {
    "heading_collapsed": true,
    "hidden": true
   },
   "source": [
    "### `name` and `prenom`"
   ]
  },
  {
   "cell_type": "code",
   "execution_count": 12,
   "id": "11c5a98c",
   "metadata": {
    "hidden": true
   },
   "outputs": [
    {
     "data": {
      "text/plain": [
       "'Column `prenom` dropped. New shape : (204545, 20)'"
      ]
     },
     "execution_count": 12,
     "metadata": {},
     "output_type": "execute_result"
    }
   ],
   "source": [
    "drop_col('name')\n",
    "drop_col('prenom')"
   ]
  },
  {
   "cell_type": "markdown",
   "id": "1b1611e8",
   "metadata": {
    "heading_collapsed": true,
    "hidden": true
   },
   "source": [
    "### `pays`"
   ]
  },
  {
   "cell_type": "code",
   "execution_count": 13,
   "id": "e8045696",
   "metadata": {
    "hidden": true
   },
   "outputs": [
    {
     "data": {
      "text/plain": [
       "France                138273\n",
       "Canada                   882\n",
       "Maroc                    728\n",
       "Suisse                   535\n",
       "france                   438\n",
       "                       ...  \n",
       "France                     1\n",
       "Dominican Republic         1\n",
       "Malaysia                   1\n",
       "fran                       1\n",
       "Guinée-Équatoriale         1\n",
       "Name: pays, Length: 507, dtype: int64"
      ]
     },
     "execution_count": 13,
     "metadata": {},
     "output_type": "execute_result"
    }
   ],
   "source": [
    "df_users.pays.value_counts()"
   ]
  },
  {
   "cell_type": "code",
   "execution_count": 14,
   "id": "82ea7117",
   "metadata": {
    "hidden": true
   },
   "outputs": [
    {
     "data": {
      "text/plain": [
       "False    145592\n",
       "True      58953\n",
       "Name: pays, dtype: int64"
      ]
     },
     "execution_count": 14,
     "metadata": {},
     "output_type": "execute_result"
    }
   ],
   "source": [
    "df_users.pays.isna().value_counts()"
   ]
  },
  {
   "cell_type": "markdown",
   "id": "9f929d82",
   "metadata": {
    "hidden": true
   },
   "source": [
    "oh my god... let's clean this !"
   ]
  },
  {
   "cell_type": "code",
   "execution_count": 15,
   "id": "107fadf2",
   "metadata": {
    "hidden": true
   },
   "outputs": [],
   "source": [
    "df_users['pays'] = df_users['pays'].fillna('france')\n",
    "df_users['pays'] = df_users['pays'].str.lower().str.strip()"
   ]
  },
  {
   "cell_type": "code",
   "execution_count": 16,
   "id": "7eac97e0",
   "metadata": {
    "hidden": true
   },
   "outputs": [
    {
     "data": {
      "text/plain": [
       "array(['', '600', 'afghanistan', 'afrique du sud', 'aigueperse',\n",
       "       'albanie', 'algeri', 'algeria', 'algerie', 'algérie',\n",
       "       'algérie/ tlemcen', 'allemagne', 'amberieu en bugey', 'amiens',\n",
       "       'andorre', 'angers', 'angleterre', 'angola', 'angouleme',\n",
       "       'arabie saoudite', 'arabie saudite', 'argentina', 'argentine',\n",
       "       'armenia', 'arménie', 'aubervilliers', 'australie', 'autriche',\n",
       "       'azerbaïdjan', 'bahrain', 'bahreïn', 'banjul', 'begique', 'bel',\n",
       "       'belgique', 'belgium', 'benin', 'bolivia', 'bolivie',\n",
       "       'bosnia and herzegovi', 'bosnie-herzégovine', 'bouche', 'bourges',\n",
       "       'brasil', 'brazil', 'bresil', 'bretagne', 'bretagne-france',\n",
       "       'brlgique', 'brèsil', 'brésil', 'bulgarie', 'burkina faso',\n",
       "       'burundi', 'bénin', 'caledonie', 'cambodge', 'cambodia',\n",
       "       'cameroon', 'cameroun', 'canada', 'canada (québec)', 'cananda',\n",
       "       'cap-vert', 'cape verde', 'cayenne', 'central african repu',\n",
       "       'chaumont en vexin', 'chile', 'chili', 'china', 'chine', 'chypre',\n",
       "       'colombia', 'colombie', 'comores', 'congo', 'congo (rép. dém.)',\n",
       "       'corée', 'corée du sud', 'costa rica', 'cote d ivoire',\n",
       "       \"cote d' ivoire\", \"cote d'ivoire\", 'croatie', 'czech republic',\n",
       "       'côte d\"ivoire', \"côte d'ivoire\", 'côte divoire', 'côte d’ivoire',\n",
       "       'danemark', 'djibouti', 'dominican republic', 'dubai', 'dubaï',\n",
       "       'egypt', 'egypte', 'emirats arabes unis', 'equateur', 'espagne',\n",
       "       'españa', 'estonie', 'etats unis', 'etats-unis', 'ethiopie',\n",
       "       'europe', 'eysines', 'f', 'fance', 'farah', 'farnce', 'fidji',\n",
       "       'finlande', 'fr', 'fra', 'fran', 'franc', 'franccccccce',\n",
       "       'francce', 'france', \"france  d'origine it\",\n",
       "       'france (ile de la ré', 'france (la réunion)', 'france (mayotte )',\n",
       "       'france nouvelle-calé', 'france réunion', 'france île de la réu',\n",
       "       'france/ gb/canada/us', 'france0', 'francec', 'francer', 'franche',\n",
       "       'francia', 'francr', 'francs', 'frande', 'frane', 'frankreich',\n",
       "       'frannce', 'franxe', 'français', 'françe', 'french guiana',\n",
       "       'french polynesia', 'frnace', 'frrance', 'gabon',\n",
       "       'gabon libreville', 'germany', 'ghana', 'grece', 'greece',\n",
       "       'grenade', 'grèce', 'guadeloupe', 'guadeloupe (dom)',\n",
       "       'guadeloupe france', 'guatemala', 'guinée', 'guinée conakry',\n",
       "       'guinée-équatoriale', 'guinée/conakry', 'guyana', 'guyane',\n",
       "       'guyane francaise', 'guyane française', 'guyane frse', 'géorgie',\n",
       "       'haiti', 'haïti', 'honduras', 'hong kong', 'hong kong (chine)',\n",
       "       'hongrie', 'ile de la reunion', 'ile de la réunion',\n",
       "       'ile de la réunion (f', 'ile maurice', 'inde', 'india',\n",
       "       'indonésie', 'irak', 'iran', 'iran, islamic republ', 'iraq',\n",
       "       'irlande', 'islande', 'israel', 'israël', 'italia', 'italie',\n",
       "       'italie siena', 'italy', 'japon', 'jordanie', 'juilliart', 'kenya',\n",
       "       'khnis', 'korea, republic of', 'kosovo', 'koweït', 'la lettonie',\n",
       "       'la reunion', 'la réunion', 'la tunisie', 'laos', 'le cannet',\n",
       "       'le creusot', 'lebanon', 'lettonie', 'liban', 'lituanie',\n",
       "       'luxembourg', 'maagascar', 'macao (chine)', 'macédoine',\n",
       "       'macédoine du nord', 'madagascar', 'malaisie', 'malawi',\n",
       "       'malaysia', 'mali', 'mantrs la ville', 'maoc', 'maric', 'maroc',\n",
       "       'maroc -casablanca', 'martiniqie', 'martinique',\n",
       "       'martinique ( france)', 'martinique (france)', 'maurice',\n",
       "       'mauritanie', 'mauritius', 'mayotte', 'mexico', 'mexique',\n",
       "       'micronésie', 'mirepoix', 'moldavie', 'moldova, republic of',\n",
       "       'monaco', 'mongolie', 'montbéliard', 'montpellier', 'moro',\n",
       "       'morocco', 'mozambique', 'mulhouse', 'nantes', 'nice', 'niger',\n",
       "       'nigéria', 'non', 'norvège', 'nouvelle caledonie',\n",
       "       'nouvelle calédonie', 'nouvelle camédonie', 'nouvelle- calédonie',\n",
       "       'nouvelle-caledonie', 'nouvelle-calédonie', 'nouvelle-zélande',\n",
       "       'oman', 'ouzbékistan', 'oyonnax', 'pakistan',\n",
       "       'palestinian territor', 'panama', 'papouasie-nouvelle-guinée',\n",
       "       'paraguay', 'paris', 'pays', 'pays-bas', 'peru', 'philippines',\n",
       "       'pologne', 'polynesie francaise', 'polynesie française',\n",
       "       'polynésie', 'polynésie française', 'porrugal', 'portugal',\n",
       "       'pérou', 'qatar', 'que', 'québec', 'rd congo', 'rdc', 'rdcongo',\n",
       "       'republique democrati', 'reunion', 'reunion france', 'romania',\n",
       "       'romans', 'roumanie', 'royaume-uni', 'runion',\n",
       "       'russian federation', 'russie', 'rwanda', 'ré',\n",
       "       'république centrafricaine', 'république dominicaine',\n",
       "       'république démocrati', 'république tchèque', 'réside à mayotte',\n",
       "       'réunion', 'saint barthelemy', 'saint martin',\n",
       "       'saint pierre and miq', 'saint-martin',\n",
       "       'saint-martin (partie française)', 'salvador', 'samoa', 'sarzana',\n",
       "       'saudi arabia', 'senegal', 'serbia and montenegr', 'serbie',\n",
       "       'seychelles', 'singapore', 'singapour', 'slovaquie', 'slovénie',\n",
       "       'st joseph', 'strasbourg', 'sucy', 'suisse', 'suissr', 'suède',\n",
       "       'switzerland', 'syrian arab republic', 'sénégal', 'tahiti',\n",
       "       'tahiti (polynésie fr', 'tanzania, united rep', 'tanzanie',\n",
       "       'tarbes', 'taïwan', 'tchad', 'thaïlande', 'togo', 'tonga',\n",
       "       'toulouse', 'tuisie', 'tunisia', 'tunisie', 'turquie', 'uae',\n",
       "       'uganda', 'ukraine', 'ukrqine', 'united arab emirates',\n",
       "       'united kingdom', 'united states', 'uruguay', 'usa', 'vanuatu',\n",
       "       'vierzon', 'viet nam', 'vietna.', 'vietnam', 'viggiano italia',\n",
       "       'viêt nam', 'zambie', 'égypte', 'émirats arables unis',\n",
       "       'états unis', 'états-unis', 'île de la reunion'], dtype=object)"
      ]
     },
     "execution_count": 16,
     "metadata": {},
     "output_type": "execute_result"
    }
   ],
   "source": [
    "pays = df_users.pays.unique()\n",
    "pays.sort()\n",
    "pays"
   ]
  },
  {
   "cell_type": "code",
   "execution_count": 17,
   "id": "6f5ced2a",
   "metadata": {
    "hidden": true
   },
   "outputs": [
    {
     "data": {
      "text/plain": [
       "370"
      ]
     },
     "execution_count": 17,
     "metadata": {},
     "output_type": "execute_result"
    }
   ],
   "source": [
    "len(pays)"
   ]
  },
  {
   "cell_type": "code",
   "execution_count": null,
   "id": "80d9a7a4",
   "metadata": {
    "hidden": true
   },
   "outputs": [],
   "source": [
    "variants_france = [\n",
    "    'france', 'f', 'fr', 'fra', 'fran', 'franc', 'francs', 'frnace',\n",
    "    'frrance', 'fance', 'farnce', 'frane', 'francr', 'frande', 'franxe',\n",
    "    'frannce', 'francec', 'francer', 'français', 'françe', 'francia',\n",
    "    'francce', 'franccccccce', 'franche', 'france0', 'frankreich',\n",
    "    \"france  d'origine it\", 'france (ile de la ré', 'france nouvelle-calé',\n",
    "    'france réunion', 'france île de la réu', 'france/ gb/canada/us',\n",
    "    'guadeloupe', 'guadeloupe (dom)', 'guadeloupe france',\n",
    "    'martinique', 'martiniqie', 'martinique (france)', 'martinique ( france)',\n",
    "    'réunion', 'reunion', 'runion', 'reunion france', 'la reunion', 'la réunion',\n",
    "    'ile de la reunion', 'ile de la réunion', 'ile de la réunion (f',\n",
    "    'île de la reunion',\n",
    "    'guyane', 'guyane française', 'guyane francaise', 'french guiana',\n",
    "    'mayotte', 'réside à mayotte',\n",
    "    'nouvelle calédonie', 'nouvelle-calédonie', 'nouvelle calédonie',\n",
    "    'nouvelle caledonie', 'nouvelle-caledonie', 'nouvelle camédonie',\n",
    "    'nouvelle- calédonie', 'caledonie',\n",
    "    'polynésie française', 'polynesie française', 'polynesie francaise',\n",
    "    'polynésie', 'french polynesia', 'tahiti', 'tahiti (polynésie fr',\n",
    "    'saint-martin', 'saint martin', 'saint-martin (partie française)',\n",
    "    'saint barthelemy', 'saint pierre and miq',\n",
    "    'maurice', 'ile maurice',\n",
    "    'france (la réunion)', 'france (mayotte )', 'bretagne-france',\n",
    "    'paris', 'nice', 'angers', 'strasbourg', 'bourges', 'tarbes',\n",
    "    'montpellier', 'nantes', 'toulouse', 'mulhouse', 'cayenne', 'mirepoix',\n",
    "    'eysines', 'aubervilliers', 'amiens', 'angouleme', 'vierzon',\n",
    "    'le cannet', 'oyonnax', 'romans', 'chaumont en vexin', 'sucy',\n",
    "    'amberieu en bugey', 'aigueperse', 'le creusot', 'mantrs la ville',\n",
    "    'montbéliard', 'st joseph', 'bretagne', '', '600'\n",
    "]\n",
    "\n",
    "df_users.loc[df_users['pays'].isin(variants_france), 'pays'] = 'france'\n",
    "\n",
    "df_users.loc[df_users['pays'].isin(['', '600']), 'pays'] = 'france'"
   ]
  },
  {
   "cell_type": "code",
   "execution_count": 19,
   "id": "4a32feae",
   "metadata": {
    "hidden": true
   },
   "outputs": [
    {
     "data": {
      "text/plain": [
       "array(['afghanistan', 'afrique du sud', 'albanie', 'algeri', 'algeria',\n",
       "       'algerie', 'algérie', 'algérie/ tlemcen', 'allemagne', 'andorre',\n",
       "       'angleterre', 'angola', 'arabie saoudite', 'arabie saudite',\n",
       "       'argentina', 'argentine', 'armenia', 'arménie', 'australie',\n",
       "       'autriche', 'azerbaïdjan', 'bahrain', 'bahreïn', 'banjul',\n",
       "       'begique', 'bel', 'belgique', 'belgium', 'benin', 'bolivia',\n",
       "       'bolivie', 'bosnia and herzegovi', 'bosnie-herzégovine', 'bouche',\n",
       "       'brasil', 'brazil', 'bresil', 'brlgique', 'brèsil', 'brésil',\n",
       "       'bulgarie', 'burkina faso', 'burundi', 'bénin', 'cambodge',\n",
       "       'cambodia', 'cameroon', 'cameroun', 'canada', 'canada (québec)',\n",
       "       'cananda', 'cap-vert', 'cape verde', 'central african repu',\n",
       "       'chile', 'chili', 'china', 'chine', 'chypre', 'colombia',\n",
       "       'colombie', 'comores', 'congo', 'congo (rép. dém.)', 'corée',\n",
       "       'corée du sud', 'costa rica', 'cote d ivoire', \"cote d' ivoire\",\n",
       "       \"cote d'ivoire\", 'croatie', 'czech republic', 'côte d\"ivoire',\n",
       "       \"côte d'ivoire\", 'côte divoire', 'côte d’ivoire', 'danemark',\n",
       "       'djibouti', 'dominican republic', 'dubai', 'dubaï', 'egypt',\n",
       "       'egypte', 'emirats arabes unis', 'equateur', 'espagne', 'españa',\n",
       "       'estonie', 'etats unis', 'etats-unis', 'ethiopie', 'europe',\n",
       "       'farah', 'fidji', 'finlande', 'france', 'gabon',\n",
       "       'gabon libreville', 'germany', 'ghana', 'grece', 'greece',\n",
       "       'grenade', 'grèce', 'guatemala', 'guinée', 'guinée conakry',\n",
       "       'guinée-équatoriale', 'guinée/conakry', 'guyana', 'guyane frse',\n",
       "       'géorgie', 'haiti', 'haïti', 'honduras', 'hong kong',\n",
       "       'hong kong (chine)', 'hongrie', 'inde', 'india', 'indonésie',\n",
       "       'irak', 'iran', 'iran, islamic republ', 'iraq', 'irlande',\n",
       "       'islande', 'israel', 'israël', 'italia', 'italie', 'italie siena',\n",
       "       'italy', 'japon', 'jordanie', 'juilliart', 'kenya', 'khnis',\n",
       "       'korea, republic of', 'kosovo', 'koweït', 'la lettonie',\n",
       "       'la tunisie', 'laos', 'lebanon', 'lettonie', 'liban', 'lituanie',\n",
       "       'luxembourg', 'maagascar', 'macao (chine)', 'macédoine',\n",
       "       'macédoine du nord', 'madagascar', 'malaisie', 'malawi',\n",
       "       'malaysia', 'mali', 'maoc', 'maric', 'maroc', 'maroc -casablanca',\n",
       "       'mauritanie', 'mauritius', 'mexico', 'mexique', 'micronésie',\n",
       "       'moldavie', 'moldova, republic of', 'monaco', 'mongolie', 'moro',\n",
       "       'morocco', 'mozambique', 'niger', 'nigéria', 'non', 'norvège',\n",
       "       'nouvelle-zélande', 'oman', 'ouzbékistan', 'pakistan',\n",
       "       'palestinian territor', 'panama', 'papouasie-nouvelle-guinée',\n",
       "       'paraguay', 'pays', 'pays-bas', 'peru', 'philippines', 'pologne',\n",
       "       'porrugal', 'portugal', 'pérou', 'qatar', 'que', 'québec',\n",
       "       'rd congo', 'rdc', 'rdcongo', 'republique democrati', 'romania',\n",
       "       'roumanie', 'royaume-uni', 'russian federation', 'russie',\n",
       "       'rwanda', 'ré', 'république centrafricaine',\n",
       "       'république dominicaine', 'république démocrati',\n",
       "       'république tchèque', 'salvador', 'samoa', 'sarzana',\n",
       "       'saudi arabia', 'senegal', 'serbia and montenegr', 'serbie',\n",
       "       'seychelles', 'singapore', 'singapour', 'slovaquie', 'slovénie',\n",
       "       'suisse', 'suissr', 'suède', 'switzerland', 'syrian arab republic',\n",
       "       'sénégal', 'tanzania, united rep', 'tanzanie', 'taïwan', 'tchad',\n",
       "       'thaïlande', 'togo', 'tonga', 'tuisie', 'tunisia', 'tunisie',\n",
       "       'turquie', 'uae', 'uganda', 'ukraine', 'ukrqine',\n",
       "       'united arab emirates', 'united kingdom', 'united states',\n",
       "       'uruguay', 'usa', 'vanuatu', 'viet nam', 'vietna.', 'vietnam',\n",
       "       'viggiano italia', 'viêt nam', 'zambie', 'égypte',\n",
       "       'émirats arables unis', 'états unis', 'états-unis'], dtype=object)"
      ]
     },
     "execution_count": 19,
     "metadata": {},
     "output_type": "execute_result"
    }
   ],
   "source": [
    "pays = df_users.pays.unique()\n",
    "pays.sort()\n",
    "pays"
   ]
  },
  {
   "cell_type": "code",
   "execution_count": 20,
   "id": "d4623650",
   "metadata": {
    "hidden": true
   },
   "outputs": [
    {
     "data": {
      "text/plain": [
       "france                  198895\n",
       "canada                     904\n",
       "maroc                      835\n",
       "suisse                     547\n",
       "belgium                    257\n",
       "                         ...  \n",
       "rdcongo                      1\n",
       "pays                         1\n",
       "iran, islamic republ         1\n",
       "cape verde                   1\n",
       "guinée-équatoriale           1\n",
       "Name: pays, Length: 261, dtype: int64"
      ]
     },
     "execution_count": 20,
     "metadata": {},
     "output_type": "execute_result"
    }
   ],
   "source": [
    "df_users.pays.value_counts()"
   ]
  },
  {
   "cell_type": "code",
   "execution_count": 21,
   "id": "a2601135",
   "metadata": {
    "hidden": true
   },
   "outputs": [
    {
     "data": {
      "text/plain": [
       "(198895, 20)"
      ]
     },
     "execution_count": 21,
     "metadata": {},
     "output_type": "execute_result"
    }
   ],
   "source": [
    "df_users = df_users[df_users.pays == 'france']\n",
    "df_users.shape"
   ]
  },
  {
   "cell_type": "code",
   "execution_count": 22,
   "id": "15ad6d24",
   "metadata": {
    "hidden": true
   },
   "outputs": [
    {
     "data": {
      "text/plain": [
       "france    198895\n",
       "Name: pays, dtype: int64"
      ]
     },
     "execution_count": 22,
     "metadata": {},
     "output_type": "execute_result"
    }
   ],
   "source": [
    "df_users.pays.value_counts()"
   ]
  },
  {
   "cell_type": "code",
   "execution_count": 23,
   "id": "87a01130",
   "metadata": {
    "hidden": true
   },
   "outputs": [
    {
     "data": {
      "text/plain": [
       "'Column `pays` dropped. New shape : (198895, 19)'"
      ]
     },
     "execution_count": 23,
     "metadata": {},
     "output_type": "execute_result"
    }
   ],
   "source": [
    "drop_col('pays')"
   ]
  },
  {
   "cell_type": "markdown",
   "id": "2b6833b1",
   "metadata": {
    "heading_collapsed": true,
    "hidden": true
   },
   "source": [
    "### `statut`"
   ]
  },
  {
   "cell_type": "code",
   "execution_count": 24,
   "id": "51e9d323",
   "metadata": {
    "hidden": true
   },
   "outputs": [
    {
     "data": {
      "text/plain": [
       "Contractuel                                 6350\n",
       "Fonctionnaire stagiaire                     4806\n",
       "Titulaire                                   2761\n",
       "Préparationnaire au concours                2211\n",
       "Etudiant en M1 MEEF                         1179\n",
       "Etudiant en M2 MEEF                          891\n",
       "Etudiant Contractuel Alternant (M2 MEEF)     761\n",
       "Name: statut, dtype: int64"
      ]
     },
     "execution_count": 24,
     "metadata": {},
     "output_type": "execute_result"
    }
   ],
   "source": [
    "df_users.statut.value_counts()"
   ]
  },
  {
   "cell_type": "markdown",
   "id": "556eb6ee",
   "metadata": {
    "hidden": true
   },
   "source": [
    "Good to know : users never updates there profile... So... it can't be used. Let's drop this column"
   ]
  },
  {
   "cell_type": "code",
   "execution_count": 25,
   "id": "706f7069",
   "metadata": {
    "hidden": true
   },
   "outputs": [
    {
     "data": {
      "text/plain": [
       "'Column `statut` dropped. New shape : (198895, 18)'"
      ]
     },
     "execution_count": 25,
     "metadata": {},
     "output_type": "execute_result"
    }
   ],
   "source": [
    "drop_col('statut')"
   ]
  },
  {
   "cell_type": "markdown",
   "id": "ed2ec78d",
   "metadata": {
    "heading_collapsed": true,
    "hidden": true
   },
   "source": [
    "### `fonction`"
   ]
  },
  {
   "cell_type": "code",
   "execution_count": 26,
   "id": "ef9fc275",
   "metadata": {
    "hidden": true
   },
   "outputs": [
    {
     "data": {
      "text/plain": [
       "Professeure des écoles en maternelle                                                                                       2\n",
       "Formatrice chez ENQUÊTE                                                                                                    2\n",
       "Professeure des écoles depuis 2012                                                                                         2\n",
       "Professeur en lycée professionnel depuis 2012                                                                              2\n",
       "Professeure documentaliste en collège depuis 1997 et facilitatrice qualifiée en discipline positive                        2\n",
       "                                                                                                                          ..\n",
       "Professeure de mathématiques depuis 2005 et chargée de mission pour la CARDIE                                              1\n",
       "Coordonnatrice Ulis au collège depuis 2020                                                                                 1\n",
       "enseignante en maternelle depuis 16 ans                                                                                    1\n",
       "Professeure en lycée pro depuis 2006                                                                                       1\n",
       "Professeur des écoles depuis 16 ans, @livrespourpetiots chroniques de littérature jeunesse, poèmes, idées pédagogiques.    1\n",
       "Name: fonction, Length: 189, dtype: int64"
      ]
     },
     "execution_count": 26,
     "metadata": {},
     "output_type": "execute_result"
    }
   ],
   "source": [
    "df_users.fonction.value_counts()"
   ]
  },
  {
   "cell_type": "code",
   "execution_count": 27,
   "id": "ca9530bf",
   "metadata": {
    "hidden": true
   },
   "outputs": [
    {
     "data": {
      "text/plain": [
       "True     198696\n",
       "False       199\n",
       "Name: fonction, dtype: int64"
      ]
     },
     "execution_count": 27,
     "metadata": {},
     "output_type": "execute_result"
    }
   ],
   "source": [
    "df_users.fonction.isna().value_counts()"
   ]
  },
  {
   "cell_type": "code",
   "execution_count": 28,
   "id": "2db0d9cd",
   "metadata": {
    "hidden": true
   },
   "outputs": [
    {
     "data": {
      "text/plain": [
       "Professeure des écoles en élémentaire depuis 2019                                                                                                                                                                                                                                                                                                                                                              2\n",
       "Jocelyne RAJOHNSON DELAN \\n- ⁠Professeure des écoles depuis 2019. \\n- ⁠Passionée par le monde de l’éducation et de la parentalité, je suis également Psychopédagogue et Consultante en Parentalité Positive pour accompagner parents et enfants. \\n- ⁠Mon compte Instagram: 🐨 Monpetitnideveil 🐨\\n                                                                                                             1\n",
       "Professeur des écoles en Bretagne depuis 2009, j’ai enseigné en cycle 3, puis en cycle 2, avant de revenir au cycle 3. Actuellement en CM1, je mets en œuvre une pédagogie personnalisée et un enseignement flexible, adaptés aux besoins de chaque élève. Je m’attache également à développer la conception universelle de l’apprentissage, afin de rendre mes pratiques inclusives et accessibles à tous.    1\n",
       "Maîtresse d'école hyperactive dans les quartiers Nord de Marseille, autrice, maman, difficile à suivre, pleine d'idées et d'humour (souvent incompris !). Professeur des écoles depuis 2015 je me lance dans mon nouveau métier avec passion.\\nChaque jour, je vous raconte une anecdote de ma vie de maîtresse sur le compte Maîtresse Tête en l'air sur Instagram.\\n                                         1\n",
       "Professeure d’arts (arts plastiques, arts appliqués, techniques graphiques, histoire des arts et chef d’oeuvre) au collège et lycée depuis 2014                                                                                                                                                                                                                                                                1\n",
       "Professeure des écoles depuis 2016 et professeure itinérante auprès des élèves allophones nouvellement arrivés (EANA) et des enfants du voyage (EFIV) depuis 2021                                                                                                                                                                                                                                              1\n",
       "Enseignante spécialisée, coordinatrice d’unité d’enseignement et formatrice                                                                                                                                                                                                                                                                                                                                    1\n",
       "\\n\\n                                                                                                                                                                                                                                                                                                                                                                                                           1\n",
       "PEMF et professeure des écoles depuis 2007\\n                                                                                                                                                                                                                                                                                                                                                                   1\n",
       "Professeure de physique chimie au collège depuis 2006                                                                                                                                                                                                                                                                                                                                                          1\n",
       "Instit du cycle 2, passionnée par la conception et le travail en ateliers autonomes. Adepte des doubles niveaux  des classes multiples. Fraîchement certifiée cafipemf.                                                                                                                                                                                                                                        1\n",
       "Chargée d'accompagnement de la communauté mentors d'ÊtrePROF et de programmation des ateliers                                                                                                                                                                                                                                                                                                                  1\n",
       "Chargé de mission scientifique formé à l’étude scientifique des stéréotypes de genre et aux questions d'égalité des chances à l’école                                                                                                                                                                                                                                                                          1\n",
       "professeure des écoles depuis 2007, formatrice en pédagogie personnalisée et communautaire                                                                                                                                                                                                                                                                                                                     1\n",
       "Coordonnatrice Ulis au collège depuis 2020                                                                                                                                                                                                                                                                                                                                                                     1\n",
       "Professeur d'éco-gestion en lycée professionnel depuis 2012                                                                                                                                                                                                                                                                                                                                                    1\n",
       "Professeure des écoles en maternelle                                                                                                                                                                                                                                                                                                                                                                           1\n",
       "Professeur des écoles depuis 16 ans, enseigne à Nantes depuis plusieurs années. Maman de deux adorables fillettes. \\nTeam CM2 for ever, j'anime depuis 5 ans un compte instagram @livrespourpetiots qui propose des chroniques de littérature jeunesse, des poèmes et d'idées pédagogiques.                                                                                                                    1\n",
       "Name: fonction_longue, dtype: int64"
      ]
     },
     "execution_count": 28,
     "metadata": {},
     "output_type": "execute_result"
    }
   ],
   "source": [
    "df_users.fonction_longue.value_counts()"
   ]
  },
  {
   "cell_type": "code",
   "execution_count": 29,
   "id": "10df5769",
   "metadata": {
    "hidden": true
   },
   "outputs": [
    {
     "data": {
      "text/plain": [
       "True     198876\n",
       "False        19\n",
       "Name: fonction_longue, dtype: int64"
      ]
     },
     "execution_count": 29,
     "metadata": {},
     "output_type": "execute_result"
    }
   ],
   "source": [
    "df_users.fonction_longue.isna().value_counts()"
   ]
  },
  {
   "cell_type": "markdown",
   "id": "29b1988c",
   "metadata": {
    "hidden": true
   },
   "source": [
    "It's useless, it's just for some author on website → Let's drop !"
   ]
  },
  {
   "cell_type": "code",
   "execution_count": 30,
   "id": "dd175e5a",
   "metadata": {
    "hidden": true
   },
   "outputs": [
    {
     "data": {
      "text/plain": [
       "'Column `fonction` dropped. New shape : (198895, 17)'"
      ]
     },
     "execution_count": 30,
     "metadata": {},
     "output_type": "execute_result"
    }
   ],
   "source": [
    "drop_col('fonction')"
   ]
  },
  {
   "cell_type": "code",
   "execution_count": 31,
   "id": "00a4a067",
   "metadata": {
    "hidden": true
   },
   "outputs": [
    {
     "data": {
      "text/plain": [
       "'Column `fonction_longue` dropped. New shape : (198895, 16)'"
      ]
     },
     "execution_count": 31,
     "metadata": {},
     "output_type": "execute_result"
    }
   ],
   "source": [
    "drop_col('fonction_longue')"
   ]
  },
  {
   "cell_type": "markdown",
   "id": "f648808d",
   "metadata": {
    "heading_collapsed": true,
    "hidden": true
   },
   "source": [
    "### `enseigne_en_eefe`"
   ]
  },
  {
   "cell_type": "code",
   "execution_count": 32,
   "id": "db32c0e4",
   "metadata": {
    "hidden": true
   },
   "outputs": [
    {
     "data": {
      "text/plain": [
       "0    198886\n",
       "1         9\n",
       "Name: enseigne_en_eefe, dtype: int64"
      ]
     },
     "execution_count": 32,
     "metadata": {},
     "output_type": "execute_result"
    }
   ],
   "source": [
    "df_users.enseigne_en_eefe.value_counts()"
   ]
  },
  {
   "cell_type": "markdown",
   "id": "973185fa",
   "metadata": {
    "hidden": true
   },
   "source": [
    "Not a lot of people → Let's drop"
   ]
  },
  {
   "cell_type": "code",
   "execution_count": 33,
   "id": "5dea6940",
   "metadata": {
    "hidden": true
   },
   "outputs": [
    {
     "data": {
      "text/plain": [
       "'Column `enseigne_en_eefe` dropped. New shape : (198895, 15)'"
      ]
     },
     "execution_count": 33,
     "metadata": {},
     "output_type": "execute_result"
    }
   ],
   "source": [
    "drop_col('enseigne_en_eefe')"
   ]
  },
  {
   "cell_type": "markdown",
   "id": "8b2fa84c",
   "metadata": {
    "heading_collapsed": true,
    "hidden": true
   },
   "source": [
    "### `date_derniere_action` "
   ]
  },
  {
   "cell_type": "markdown",
   "id": "a40076d9",
   "metadata": {
    "hidden": true
   },
   "source": [
    "It will be determined with the `interactions` table. So let's drop.  \n",
    "Same for `updated_at` "
   ]
  },
  {
   "cell_type": "code",
   "execution_count": 34,
   "id": "3ca8d3ec",
   "metadata": {
    "hidden": true
   },
   "outputs": [
    {
     "data": {
      "text/plain": [
       "'Column `date_derniere_action` dropped. New shape : (198895, 14)'"
      ]
     },
     "execution_count": 34,
     "metadata": {},
     "output_type": "execute_result"
    }
   ],
   "source": [
    "drop_col('date_derniere_action')"
   ]
  },
  {
   "cell_type": "code",
   "execution_count": 35,
   "id": "b783a1f2",
   "metadata": {
    "hidden": true
   },
   "outputs": [
    {
     "data": {
      "text/plain": [
       "'Column `updated_at` dropped. New shape : (198895, 13)'"
      ]
     },
     "execution_count": 35,
     "metadata": {},
     "output_type": "execute_result"
    }
   ],
   "source": [
    "drop_col('updated_at')"
   ]
  },
  {
   "cell_type": "markdown",
   "id": "14c94a4f",
   "metadata": {
    "heading_collapsed": true,
    "hidden": true
   },
   "source": [
    "### `json_format`"
   ]
  },
  {
   "cell_type": "code",
   "execution_count": 36,
   "id": "8280f6ad",
   "metadata": {
    "hidden": true
   },
   "outputs": [
    {
     "data": {
      "text/plain": [
       "[]                             31657\n",
       "[\"PDF\"]                           78\n",
       "[\"Vidéo\", \"Article\", \"PDF\"]       62\n",
       "[\"Article\", \"PDF\"]                47\n",
       "[\"PDF\", \"Article\"]                35\n",
       "[\"PDF\", \"Article\", \"Vidéo\"]       27\n",
       "[\"Vidéo\", \"PDF\"]                  26\n",
       "[\"Vidéo\"]                         25\n",
       "[\"PDF\", \"Vidéo\"]                  21\n",
       "[\"Article\"]                       13\n",
       "[\"Vidéo\", \"PDF\", \"Article\"]        8\n",
       "[\"PDF\", \"Vidéo\", \"Article\"]        7\n",
       "[\"Article\", \"PDF\", \"Vidéo\"]        6\n",
       "[\"Vidéo\", \"Article\"]               6\n",
       "[\"Article\", \"Vidéo\"]               4\n",
       "[\"Article\", \"Vidéo\", \"PDF\"]        2\n",
       "Name: json_format, dtype: int64"
      ]
     },
     "execution_count": 36,
     "metadata": {},
     "output_type": "execute_result"
    }
   ],
   "source": [
    "df_users.json_format.value_counts()"
   ]
  },
  {
   "cell_type": "markdown",
   "id": "cb4e1116",
   "metadata": {
    "hidden": true
   },
   "source": [
    "It seems to be an old column, with few answers. → Let's drop"
   ]
  },
  {
   "cell_type": "code",
   "execution_count": 37,
   "id": "be6db51e",
   "metadata": {
    "hidden": true
   },
   "outputs": [
    {
     "data": {
      "text/plain": [
       "'Column `json_format` dropped. New shape : (198895, 12)'"
      ]
     },
     "execution_count": 37,
     "metadata": {},
     "output_type": "execute_result"
    }
   ],
   "source": [
    "drop_col('json_format')"
   ]
  },
  {
   "cell_type": "markdown",
   "id": "9ae1028f",
   "metadata": {
    "heading_collapsed": true,
    "hidden": true
   },
   "source": [
    "### `json_centre_interet`"
   ]
  },
  {
   "cell_type": "code",
   "execution_count": 38,
   "id": "969fcf3c",
   "metadata": {
    "hidden": true
   },
   "outputs": [
    {
     "data": {
      "text/plain": [
       "[]                                                                                                                                                                                                                                                                                                                                                                                                                                                                                                                                                                                                                                                                                                                                                                                                                                                                               85972\n",
       "[\"Organisation\", \"Politiques éducatives\", \"Théorie des apprentissages\", \"Neurosciences\", \"Psychologie de l’enfant\", \"Didactique\", \"Numérique\", \"Classe inversée\", \"Inspirations internationales\", \"Connaissance de soi\", \"Techniques corporelles\", \"Leadership\", \"Pratiques collaboratives\", \"Interdisciplinarité\", \"Outils de communication\", \"Créativité\", \"Analyse de pratiques\", \"Communauté éducative\", \"Discriminations\", \"Laïcité\", \"Esprit critique\", \"Education à l'environnement\", \"Education à la santé\", \"Education aux médias\", \"Apprendre à apprendre\", \"Orientation\", \"Climat de classe\", \"Aménagement de la classe\", \"Explicitation\", \"Différenciation \", \"Autonomie des élèves\", \"Pédagogies actives\", \"Outils d’évaluation\", \"Pédagogie de projet \", \"Enseignement spécialisé\", \"Elèves allophones\", \"Elèves à besoin spécifique\", \"Education prioritaire\"]       96\n",
       "[\"Organisation\"]                                                                                                                                                                                                                                                                                                                                                                                                                                                                                                                                                                                                                                                                                                                                                                                                                                                                    85\n",
       "[\"Climat de classe\", \"Aménagement de la classe\", \"Explicitation\", \"Différenciation \", \"Autonomie des élèves\", \"Pédagogies actives\", \"Outils d’évaluation\", \"Pédagogie de projet \"]                                                                                                                                                                                                                                                                                                                                                                                                                                                                                                                                                                                                                                                                                                  52\n",
       "[\"Organisation\", \"Pédagogies actives\"]                                                                                                                                                                                                                                                                                                                                                                                                                                                                                                                                                                                                                                                                                                                                                                                                                                              18\n",
       "                                                                                                                                                                                                                                                                                                                                                                                                                                                                                                                                                                                                                                                                                                                                                                                                                                                                                 ...  \n",
       "[\"Neurosciences\", \"Psychologie de l’enfant\", \"Didactique\", \"Apprendre à apprendre\", \"Climat de classe\", \"Différenciation \", \"Autonomie des élèves\", \"Pédagogies actives\", \"Pédagogie de projet \", \"Elèves à besoin spécifique\", \"Education prioritaire\"]                                                                                                                                                                                                                                                                                                                                                                                                                                                                                                                                                                                                                             1\n",
       "[\"Organisation\", \"Neurosciences\", \"Numérique\", \"Classe inversée\", \"Connaissance de soi\", \"Pratiques collaboratives\", \"Apprendre à apprendre\", \"Aménagement de la classe\", \"Différenciation \", \"Elèves à besoin spécifique\"]                                                                                                                                                                                                                                                                                                                                                                                                                                                                                                                                                                                                                                                          1\n",
       "[\"Organisation\", \"Politiques éducatives\", \"Théorie des apprentissages\", \"Neurosciences\", \"Psychologie de l’enfant\", \"Didactique\", \"Inspirations internationales\", \"Connaissance de soi\", \"Outils de communication\", \"Créativité\", \"Communauté éducative\", \"Laïcité\", \"Esprit critique\", \"Apprendre à apprendre\", \"Climat de classe\", \"Aménagement de la classe\", \"Explicitation\", \"Différenciation \", \"Autonomie des élèves\", \"Education prioritaire\"]                                                                                                                                                                                                                                                                                                                                                                                                                               1\n",
       "[\"Organisation\", \"Neurosciences\", \"Pratiques collaboratives\", \"Autonomie des élèves\", \"Outils d’évaluation\", \"Education prioritaire\"]                                                                                                                                                                                                                                                                                                                                                                                                                                                                                                                                                                                                                                                                                                                                                1\n",
       "[\"Apprendre à connaître ses élèves\",\"Prendre soin de sa voix\",\"Période 1\",\"Période 2\",\"Période 3\",\"Periode 4\",\"Période 5\",\"Rentrée\",\"Organiser son temps de préparation\",\"Faire classe pour tous avant de différencier\",\"Apprendre à vivre et travailler ensemble\",\"Construire des séances pédagogiques pour engager ses élèves dans leurs apprentissages\",\"Incarner des postures professionnelles choisies\",\"Installer les règles de la classe et envisager les sanctions\",\"Mettre en place des rituels pour structurer son temps de classe\",\"Aménager sa classe au service de sa pédagogie\",\"Évaluer ses élèves pour leur permettre de se situer dans leurs apprentissages\",\"Entrer en relation avec les parents et installer une communication efficiente\",\"S'approprier les programmes\",\"Gérer le stress de la rentrée\"]                                                         1\n",
       "Name: json_centre_interet, Length: 14332, dtype: int64"
      ]
     },
     "execution_count": 38,
     "metadata": {},
     "output_type": "execute_result"
    }
   ],
   "source": [
    "df_users.json_centre_interet.value_counts()"
   ]
  },
  {
   "cell_type": "code",
   "execution_count": 39,
   "id": "84e922c7",
   "metadata": {
    "hidden": true
   },
   "outputs": [
    {
     "data": {
      "text/plain": [
       "False    101055\n",
       "True      97840\n",
       "Name: json_centre_interet, dtype: int64"
      ]
     },
     "execution_count": 39,
     "metadata": {},
     "output_type": "execute_result"
    }
   ],
   "source": [
    "df_users.json_centre_interet.isna().value_counts()"
   ]
  },
  {
   "cell_type": "markdown",
   "id": "ee482d11",
   "metadata": {
    "hidden": true
   },
   "source": [
    "Around 100 000 with no info. And 85 000 with all selected. → Let's drop !"
   ]
  },
  {
   "cell_type": "code",
   "execution_count": 40,
   "id": "8ea3ec68",
   "metadata": {
    "hidden": true
   },
   "outputs": [
    {
     "data": {
      "text/plain": [
       "'Column `json_centre_interet` dropped. New shape : (198895, 11)'"
      ]
     },
     "execution_count": 40,
     "metadata": {},
     "output_type": "execute_result"
    }
   ],
   "source": [
    "drop_col('json_centre_interet')"
   ]
  },
  {
   "cell_type": "markdown",
   "id": "20cc282c",
   "metadata": {
    "heading_collapsed": true
   },
   "source": [
    "## Explore other columns"
   ]
  },
  {
   "cell_type": "markdown",
   "id": "5ea0c44c",
   "metadata": {
    "heading_collapsed": true,
    "hidden": true
   },
   "source": [
    "### `json_niveau`"
   ]
  },
  {
   "cell_type": "code",
   "execution_count": 41,
   "id": "6c3a110f",
   "metadata": {
    "hidden": true
   },
   "outputs": [
    {
     "data": {
      "text/plain": [
       "array(['[\"MS\"]', '[]', '[\"PS\"]', ..., '[\"CM1\",\"CM2\",\"CP\"]',\n",
       "       '[\"2nde\",\"5e\",\"1ère\",\"3e\",\"Terminale\"]', '[\"CP\",\"PS\",\"CE1\"]'],\n",
       "      dtype=object)"
      ]
     },
     "execution_count": 41,
     "metadata": {},
     "output_type": "execute_result"
    }
   ],
   "source": [
    "df_users.json_niveau.unique()"
   ]
  },
  {
   "cell_type": "code",
   "execution_count": 42,
   "id": "49f0b613",
   "metadata": {
    "hidden": true
   },
   "outputs": [
    {
     "data": {
      "text/plain": [
       "False    198891\n",
       "True          4\n",
       "Name: json_niveau, dtype: int64"
      ]
     },
     "execution_count": 42,
     "metadata": {},
     "output_type": "execute_result"
    }
   ],
   "source": [
    "df_users.json_niveau.isna().value_counts()"
   ]
  },
  {
   "cell_type": "markdown",
   "id": "1848393d",
   "metadata": {
    "heading_collapsed": true,
    "hidden": true
   },
   "source": [
    "#### Clean Niveau"
   ]
  },
  {
   "cell_type": "code",
   "execution_count": 43,
   "id": "77133fbf",
   "metadata": {
    "hidden": true
   },
   "outputs": [],
   "source": [
    "explo_niveaux = df_users.json_niveau.dropna().unique()"
   ]
  },
  {
   "cell_type": "code",
   "execution_count": 44,
   "id": "81b559b4",
   "metadata": {
    "hidden": true
   },
   "outputs": [
    {
     "data": {
      "text/plain": [
       "array(['[\"\", \"PS\"]', '[\"1ère\", \"2nde\", \"4e\", \"3e\"]',\n",
       "       '[\"1ère\", \"2nde\", \"POST BAC\"]', ..., '[\"Études supérieures\"]',\n",
       "       '[\"Étudiant stagiaire\"]', '[]'], dtype=object)"
      ]
     },
     "execution_count": 44,
     "metadata": {},
     "output_type": "execute_result"
    }
   ],
   "source": [
    "explo_niveaux.sort()\n",
    "explo_niveaux"
   ]
  },
  {
   "cell_type": "code",
   "execution_count": 45,
   "id": "f07dd695",
   "metadata": {
    "hidden": true
   },
   "outputs": [
    {
     "data": {
      "text/plain": [
       "6692"
      ]
     },
     "execution_count": 45,
     "metadata": {},
     "output_type": "execute_result"
    }
   ],
   "source": [
    "(df_users['json_niveau'] == '[]').sum()"
   ]
  },
  {
   "cell_type": "code",
   "execution_count": 46,
   "id": "49d338f0",
   "metadata": {
    "hidden": true
   },
   "outputs": [],
   "source": [
    "all_niveaux = set()\n",
    "\n",
    "for niveaux_str in df_users['json_niveau'].dropna():\n",
    "    try:\n",
    "        niveaux_list = json.loads(niveaux_str)\n",
    "        all_niveaux.update(niveaux_list)  # Ajouter tous les éléments au set\n",
    "    except:\n",
    "        print(f\"Erreur de parsing pour : {niveaux_str}\")"
   ]
  },
  {
   "cell_type": "code",
   "execution_count": 47,
   "id": "30dfd254",
   "metadata": {
    "hidden": true
   },
   "outputs": [
    {
     "data": {
      "text/plain": [
       "{'',\n",
       " '1ère',\n",
       " '2nde',\n",
       " '3e',\n",
       " '4e',\n",
       " '5e',\n",
       " '6e',\n",
       " '6ème primaire',\n",
       " 'ASH',\n",
       " 'Autres',\n",
       " 'Bac Pro',\n",
       " 'CAP',\n",
       " 'CE1',\n",
       " 'CE2',\n",
       " 'CM1',\n",
       " 'CM2',\n",
       " 'CP',\n",
       " 'Collège',\n",
       " 'Direction',\n",
       " 'Elémentaire',\n",
       " 'Enseignement spécialisé',\n",
       " 'Formateur-trice /Inspecteur-trice',\n",
       " 'GS',\n",
       " 'Lycée',\n",
       " 'MS',\n",
       " 'Maternelle',\n",
       " 'POST BAC',\n",
       " 'PS',\n",
       " 'Professeur-e documentaliste',\n",
       " 'SEGPA',\n",
       " 'TPS',\n",
       " 'Terminale',\n",
       " 'Études supérieures',\n",
       " 'Étudiant stagiaire'}"
      ]
     },
     "metadata": {},
     "output_type": "display_data"
    },
    {
     "data": {
      "text/plain": [
       "34"
      ]
     },
     "metadata": {},
     "output_type": "display_data"
    }
   ],
   "source": [
    "display(all_niveaux)\n",
    "display(len(all_niveaux))"
   ]
  },
  {
   "cell_type": "code",
   "execution_count": null,
   "id": "091a9c67",
   "metadata": {
    "hidden": true
   },
   "outputs": [],
   "source": []
  },
  {
   "cell_type": "code",
   "execution_count": 48,
   "id": "ae7a838d",
   "metadata": {
    "hidden": true
   },
   "outputs": [
    {
     "name": "stdout",
     "output_type": "stream",
     "text": [
      "Fréquence de chaque niveau :\n",
      "  3e: 26328\n",
      "  6e: 26078\n",
      "  4e: 25041\n",
      "  5e: 24667\n",
      "  GS: 23100\n",
      "  CE2: 22502\n",
      "  MS: 22077\n",
      "  CM1: 21916\n",
      "  CE1: 21838\n",
      "  CP: 21649\n",
      "  CM2: 20864\n",
      "  PS: 19899\n",
      "  2nde: 14123\n",
      "  Bac Pro: 12398\n",
      "  1ère: 12099\n",
      "  Terminale: 11928\n",
      "  ASH: 8133\n",
      "  TPS: 6931\n",
      "  POST BAC: 5478\n",
      "  CAP: 5331\n",
      "  Formateur-trice /Inspecteur-trice: 5250\n",
      "  SEGPA: 2586\n",
      "  Direction: 1873\n",
      "  Professeur-e documentaliste: 942\n",
      "  Études supérieures: 7\n",
      "  Enseignement spécialisé: 7\n",
      "  Maternelle: 4\n",
      "  Elémentaire: 2\n",
      "  Collège: 2\n",
      "  Lycée: 2\n",
      "  Étudiant stagiaire: 2\n",
      "  6ème primaire: 2\n",
      "  : 1\n",
      "  Autres: 1\n"
     ]
    }
   ],
   "source": [
    "# Compter chaque niveau individuellement\n",
    "niveau_counts = Counter()\n",
    "\n",
    "for niveaux_str in df_users['json_niveau'].dropna():\n",
    "    niveaux_list = json.loads(niveaux_str)\n",
    "    niveau_counts.update(niveaux_list)\n",
    "\n",
    "print(\"Fréquence de chaque niveau :\")\n",
    "for niveau, count in niveau_counts.most_common():\n",
    "    print(f\"  {niveau}: {count}\")"
   ]
  },
  {
   "cell_type": "code",
   "execution_count": null,
   "id": "f293df65",
   "metadata": {
    "hidden": true
   },
   "outputs": [
    {
     "data": {
      "text/html": [
       "<div>\n",
       "<style scoped>\n",
       "    .dataframe tbody tr th:only-of-type {\n",
       "        vertical-align: middle;\n",
       "    }\n",
       "\n",
       "    .dataframe tbody tr th {\n",
       "        vertical-align: top;\n",
       "    }\n",
       "\n",
       "    .dataframe thead th {\n",
       "        text-align: right;\n",
       "    }\n",
       "</style>\n",
       "<table border=\"1\" class=\"dataframe\">\n",
       "  <thead>\n",
       "    <tr style=\"text-align: right;\">\n",
       "      <th></th>\n",
       "      <th>id</th>\n",
       "      <th>statut_infolettre</th>\n",
       "      <th>statut_mailchimp</th>\n",
       "      <th>codepostal</th>\n",
       "      <th>anciennete</th>\n",
       "      <th>aucun_etablissement</th>\n",
       "      <th>json_niveau</th>\n",
       "      <th>json_discipline</th>\n",
       "      <th>json_etablissement</th>\n",
       "      <th>json_metadata</th>\n",
       "      <th>created_at</th>\n",
       "    </tr>\n",
       "  </thead>\n",
       "  <tbody>\n",
       "    <tr>\n",
       "      <th>6</th>\n",
       "      <td>7</td>\n",
       "      <td>1</td>\n",
       "      <td>subscribed</td>\n",
       "      <td>31130</td>\n",
       "      <td>25.0</td>\n",
       "      <td>0</td>\n",
       "      <td>[\"CP\", \"Elémentaire\", \"CE1\", \"CE2\", \"CM1\", \"PS...</td>\n",
       "      <td>[]</td>\n",
       "      <td>[{\"id\": 1901, \"nom\": \"Ecole élémentaire publiq...</td>\n",
       "      <td>[{\"key\":\"newsletter\",\"value\":\"undefined\",\"crea...</td>\n",
       "      <td>2017-01-15 16:50:11</td>\n",
       "    </tr>\n",
       "    <tr>\n",
       "      <th>780</th>\n",
       "      <td>781</td>\n",
       "      <td>1</td>\n",
       "      <td>subscribed</td>\n",
       "      <td>94400</td>\n",
       "      <td>3.0</td>\n",
       "      <td>1</td>\n",
       "      <td>[\"\", \"PS\"]</td>\n",
       "      <td>[]</td>\n",
       "      <td>NaN</td>\n",
       "      <td>[{\"key\": \"parcoursOffertCanvasId\", \"value\": 44...</td>\n",
       "      <td>2017-08-17 09:16:35</td>\n",
       "    </tr>\n",
       "    <tr>\n",
       "      <th>20180</th>\n",
       "      <td>20386</td>\n",
       "      <td>1</td>\n",
       "      <td>unsubscribed</td>\n",
       "      <td>NaN</td>\n",
       "      <td>0.0</td>\n",
       "      <td>1</td>\n",
       "      <td>[\"TPS\", \"PS\", \"MS\", \"GS\", \"Maternelle\"]</td>\n",
       "      <td>[]</td>\n",
       "      <td>NaN</td>\n",
       "      <td>[{\"key\": \"programme_thematique\", \"value\": null...</td>\n",
       "      <td>2019-04-24 08:22:53</td>\n",
       "    </tr>\n",
       "    <tr>\n",
       "      <th>40120</th>\n",
       "      <td>42074</td>\n",
       "      <td>0</td>\n",
       "      <td>subscribed</td>\n",
       "      <td>31060</td>\n",
       "      <td>18.0</td>\n",
       "      <td>0</td>\n",
       "      <td>[\"Études supérieures\"]</td>\n",
       "      <td>[]</td>\n",
       "      <td>[{\"id\": 1968, \"nom\": \"Lycée professionnel priv...</td>\n",
       "      <td>[{\"key\": \"inscrit_caprentree\", \"value\": \"true\"...</td>\n",
       "      <td>2020-08-20 12:00:56</td>\n",
       "    </tr>\n",
       "    <tr>\n",
       "      <th>85286</th>\n",
       "      <td>88019</td>\n",
       "      <td>1</td>\n",
       "      <td>subscribed</td>\n",
       "      <td>72405</td>\n",
       "      <td>15.0</td>\n",
       "      <td>1</td>\n",
       "      <td>[\"TPS\", \"PS\", \"MS\", \"GS\", \"Maternelle\", \"CP\", ...</td>\n",
       "      <td>[\"Mathématiques\", \"Sciences et technologies\"]</td>\n",
       "      <td>[]</td>\n",
       "      <td>[{\"key\": \"etablissement_1\", \"value\": \"\", \"crea...</td>\n",
       "      <td>2021-10-21 13:06:33</td>\n",
       "    </tr>\n",
       "    <tr>\n",
       "      <th>90263</th>\n",
       "      <td>93125</td>\n",
       "      <td>1</td>\n",
       "      <td>subscribed</td>\n",
       "      <td>NaN</td>\n",
       "      <td>0.0</td>\n",
       "      <td>1</td>\n",
       "      <td>[\"TPS\",\"PS\",\"MS\",\"GS\",\"Maternelle\",\"Direction\"]</td>\n",
       "      <td>[]</td>\n",
       "      <td>[]</td>\n",
       "      <td>[{\"key\":\"newsletter\",\"value\":\"true\",\"created_a...</td>\n",
       "      <td>2022-02-08 09:04:53</td>\n",
       "    </tr>\n",
       "    <tr>\n",
       "      <th>114254</th>\n",
       "      <td>117116</td>\n",
       "      <td>1</td>\n",
       "      <td>subscribed</td>\n",
       "      <td>NaN</td>\n",
       "      <td>NaN</td>\n",
       "      <td>1</td>\n",
       "      <td>[\"6e\", \"5e\", \"4e\", \"3e\", \"Collège\"]</td>\n",
       "      <td>[]</td>\n",
       "      <td>[]</td>\n",
       "      <td>[{\"key\": \"neo2023\", \"value\": \"true\", \"created_...</td>\n",
       "      <td>2022-09-29 19:10:51</td>\n",
       "    </tr>\n",
       "    <tr>\n",
       "      <th>119129</th>\n",
       "      <td>121991</td>\n",
       "      <td>0</td>\n",
       "      <td>subscribed</td>\n",
       "      <td>82500</td>\n",
       "      <td>20.0</td>\n",
       "      <td>0</td>\n",
       "      <td>[\"ASH\", \"Enseignement spécialisé\"]</td>\n",
       "      <td>[]</td>\n",
       "      <td>[{\"id\": 37170, \"nom\": \"Collège Théodore Despey...</td>\n",
       "      <td>[{\"key\": \"newsletter\", \"value\": \"undefined\", \"...</td>\n",
       "      <td>2022-11-04 08:48:18</td>\n",
       "    </tr>\n",
       "    <tr>\n",
       "      <th>140885</th>\n",
       "      <td>143747</td>\n",
       "      <td>0</td>\n",
       "      <td>subscribed</td>\n",
       "      <td>95680</td>\n",
       "      <td>1.0</td>\n",
       "      <td>0</td>\n",
       "      <td>[\"Enseignement spécialisé\"]</td>\n",
       "      <td>[]</td>\n",
       "      <td>[{\"id\": 19224, \"nom\": \"Ecole primaire publique...</td>\n",
       "      <td>[{\"key\": \"newsletter\", \"value\": \"false\", \"crea...</td>\n",
       "      <td>2023-07-19 15:05:16</td>\n",
       "    </tr>\n",
       "    <tr>\n",
       "      <th>142145</th>\n",
       "      <td>145007</td>\n",
       "      <td>1</td>\n",
       "      <td>subscribed</td>\n",
       "      <td>51450</td>\n",
       "      <td>3.0</td>\n",
       "      <td>0</td>\n",
       "      <td>[\"2nde\", \"1ère\", \"Terminale\", \"Bac Pro\", \"Lycée\"]</td>\n",
       "      <td>[\"Histoire et géographie\"]</td>\n",
       "      <td>[{\"id\": 7659, \"nom\": \"Ecole maternelle la riba...</td>\n",
       "      <td>[{\"key\": \"newsletter\", \"value\": \"undefined\", \"...</td>\n",
       "      <td>2023-07-25 10:07:34</td>\n",
       "    </tr>\n",
       "    <tr>\n",
       "      <th>194847</th>\n",
       "      <td>197716</td>\n",
       "      <td>1</td>\n",
       "      <td>subscribed</td>\n",
       "      <td>75001</td>\n",
       "      <td>0.0</td>\n",
       "      <td>0</td>\n",
       "      <td>[\"TPS\",\"PS\",\"MS\",\"GS\",\"Maternelle\"]</td>\n",
       "      <td>[]</td>\n",
       "      <td>[{\"id\":3801,\"nom\":\"E.E.PU CAMBON 28 rue Cambon...</td>\n",
       "      <td>[{\"key\":\"newsletter\",\"value\":\"undefined\",\"crea...</td>\n",
       "      <td>2024-11-15 09:56:38</td>\n",
       "    </tr>\n",
       "    <tr>\n",
       "      <th>196802</th>\n",
       "      <td>199671</td>\n",
       "      <td>1</td>\n",
       "      <td>subscribed</td>\n",
       "      <td>NaN</td>\n",
       "      <td>42.0</td>\n",
       "      <td>1</td>\n",
       "      <td>[\"Enseignement spécialisé\"]</td>\n",
       "      <td>[\"Arts\"]</td>\n",
       "      <td>[]</td>\n",
       "      <td>[{\"key\": \"newsletter\", \"value\": \"true\", \"creat...</td>\n",
       "      <td>2024-12-20 07:55:41</td>\n",
       "    </tr>\n",
       "    <tr>\n",
       "      <th>196805</th>\n",
       "      <td>199674</td>\n",
       "      <td>0</td>\n",
       "      <td>subscribed</td>\n",
       "      <td>NaN</td>\n",
       "      <td>19.0</td>\n",
       "      <td>1</td>\n",
       "      <td>[\"Études supérieures\"]</td>\n",
       "      <td>[\"Mathématiques\"]</td>\n",
       "      <td>[]</td>\n",
       "      <td>[{\"key\": \"newsletter\", \"value\": \"undefined\", \"...</td>\n",
       "      <td>2024-12-20 10:51:31</td>\n",
       "    </tr>\n",
       "    <tr>\n",
       "      <th>196813</th>\n",
       "      <td>199682</td>\n",
       "      <td>0</td>\n",
       "      <td>subscribed</td>\n",
       "      <td>NaN</td>\n",
       "      <td>25.0</td>\n",
       "      <td>1</td>\n",
       "      <td>[\"Études supérieures\"]</td>\n",
       "      <td>[]</td>\n",
       "      <td>[]</td>\n",
       "      <td>[{\"key\": \"newsletter\", \"value\": \"false\", \"crea...</td>\n",
       "      <td>2024-12-20 18:41:48</td>\n",
       "    </tr>\n",
       "    <tr>\n",
       "      <th>196856</th>\n",
       "      <td>199725</td>\n",
       "      <td>0</td>\n",
       "      <td>unsubscribed</td>\n",
       "      <td>NaN</td>\n",
       "      <td>1.0</td>\n",
       "      <td>1</td>\n",
       "      <td>[\"Études supérieures\"]</td>\n",
       "      <td>[]</td>\n",
       "      <td>[]</td>\n",
       "      <td>[{\"key\": \"newsletter\", \"value\": false, \"create...</td>\n",
       "      <td>2024-12-22 22:02:54</td>\n",
       "    </tr>\n",
       "    <tr>\n",
       "      <th>196874</th>\n",
       "      <td>199743</td>\n",
       "      <td>0</td>\n",
       "      <td>subscribed</td>\n",
       "      <td>NaN</td>\n",
       "      <td>59.0</td>\n",
       "      <td>1</td>\n",
       "      <td>[\"Études supérieures\"]</td>\n",
       "      <td>[]</td>\n",
       "      <td>[]</td>\n",
       "      <td>[{\"key\": \"newsletter\", \"value\": \"false\", \"crea...</td>\n",
       "      <td>2024-12-23 16:00:18</td>\n",
       "    </tr>\n",
       "    <tr>\n",
       "      <th>196885</th>\n",
       "      <td>199754</td>\n",
       "      <td>1</td>\n",
       "      <td>subscribed</td>\n",
       "      <td>NaN</td>\n",
       "      <td>32.0</td>\n",
       "      <td>1</td>\n",
       "      <td>[\"Enseignement spécialisé\"]</td>\n",
       "      <td>[\"Mathématiques\"]</td>\n",
       "      <td>[]</td>\n",
       "      <td>[{\"key\": \"newsletter\", \"value\": \"undefined\", \"...</td>\n",
       "      <td>2024-12-24 10:11:40</td>\n",
       "    </tr>\n",
       "    <tr>\n",
       "      <th>196922</th>\n",
       "      <td>199791</td>\n",
       "      <td>1</td>\n",
       "      <td>subscribed</td>\n",
       "      <td>NaN</td>\n",
       "      <td>0.0</td>\n",
       "      <td>1</td>\n",
       "      <td>[\"Études supérieures\"]</td>\n",
       "      <td>[]</td>\n",
       "      <td>[]</td>\n",
       "      <td>[{\"key\": \"newsletter\", \"value\": \"true\", \"creat...</td>\n",
       "      <td>2024-12-26 08:26:42</td>\n",
       "    </tr>\n",
       "    <tr>\n",
       "      <th>196934</th>\n",
       "      <td>199803</td>\n",
       "      <td>0</td>\n",
       "      <td>subscribed</td>\n",
       "      <td>64050</td>\n",
       "      <td>1.0</td>\n",
       "      <td>0</td>\n",
       "      <td>[\"CAP\", \"SEGPA\", \"Étudiant stagiaire\", \"Bac Pro\"]</td>\n",
       "      <td>[\"Sciences et technologies\", \"Enseignement pro...</td>\n",
       "      <td>[{\"id\": 53145, \"nom\": \"Lycée professionnel Hon...</td>\n",
       "      <td>[{\"key\": \"newsletter\", \"value\": \"false\", \"crea...</td>\n",
       "      <td>2024-12-26 17:04:31</td>\n",
       "    </tr>\n",
       "    <tr>\n",
       "      <th>196942</th>\n",
       "      <td>199811</td>\n",
       "      <td>0</td>\n",
       "      <td>subscribed</td>\n",
       "      <td>91170</td>\n",
       "      <td>27.0</td>\n",
       "      <td>0</td>\n",
       "      <td>[\"Enseignement spécialisé\"]</td>\n",
       "      <td>[]</td>\n",
       "      <td>[{\"id\": 11854, \"nom\": \"Ecole élémentaire Rolan...</td>\n",
       "      <td>[{\"key\": \"newsletter\", \"value\": \"false\", \"crea...</td>\n",
       "      <td>2024-12-27 09:30:35</td>\n",
       "    </tr>\n",
       "    <tr>\n",
       "      <th>196945</th>\n",
       "      <td>199814</td>\n",
       "      <td>0</td>\n",
       "      <td>subscribed</td>\n",
       "      <td>62700</td>\n",
       "      <td>20.0</td>\n",
       "      <td>0</td>\n",
       "      <td>[\"Enseignement spécialisé\"]</td>\n",
       "      <td>[]</td>\n",
       "      <td>[{\"id\": 9488, \"nom\": \"Collège Edmond Rostand\",...</td>\n",
       "      <td>[{\"key\": \"newsletter\", \"value\": \"undefined\", \"...</td>\n",
       "      <td>2024-12-27 12:01:49</td>\n",
       "    </tr>\n",
       "    <tr>\n",
       "      <th>196948</th>\n",
       "      <td>199817</td>\n",
       "      <td>0</td>\n",
       "      <td>subscribed</td>\n",
       "      <td>92250</td>\n",
       "      <td>1.0</td>\n",
       "      <td>0</td>\n",
       "      <td>[\"6ème primaire\"]</td>\n",
       "      <td>[]</td>\n",
       "      <td>[{\"id\": 11306, \"nom\": \"Ecole élémentaire publi...</td>\n",
       "      <td>[{\"key\": \"newsletter\", \"value\": \"undefined\", \"...</td>\n",
       "      <td>2024-12-27 13:42:09</td>\n",
       "    </tr>\n",
       "    <tr>\n",
       "      <th>196956</th>\n",
       "      <td>199825</td>\n",
       "      <td>0</td>\n",
       "      <td>subscribed</td>\n",
       "      <td>53200</td>\n",
       "      <td>20.0</td>\n",
       "      <td>0</td>\n",
       "      <td>[\"Enseignement spécialisé\"]</td>\n",
       "      <td>[]</td>\n",
       "      <td>[{\"id\": 35418, \"nom\": \"Collège Jean Rostand\", ...</td>\n",
       "      <td>[{\"key\": \"newsletter\", \"value\": \"false\", \"crea...</td>\n",
       "      <td>2024-12-27 17:55:29</td>\n",
       "    </tr>\n",
       "    <tr>\n",
       "      <th>196977</th>\n",
       "      <td>199846</td>\n",
       "      <td>0</td>\n",
       "      <td>subscribed</td>\n",
       "      <td>39700</td>\n",
       "      <td>0.0</td>\n",
       "      <td>0</td>\n",
       "      <td>[\"Études supérieures\"]</td>\n",
       "      <td>[]</td>\n",
       "      <td>[{\"id\": 49938, \"nom\": \"Collège Gustave Eiffel\"...</td>\n",
       "      <td>[{\"key\": \"newsletter\", \"value\": \"false\", \"crea...</td>\n",
       "      <td>2024-12-29 10:06:07</td>\n",
       "    </tr>\n",
       "    <tr>\n",
       "      <th>197022</th>\n",
       "      <td>199891</td>\n",
       "      <td>1</td>\n",
       "      <td>subscribed</td>\n",
       "      <td>NaN</td>\n",
       "      <td>0.0</td>\n",
       "      <td>1</td>\n",
       "      <td>[\"Étudiant stagiaire\"]</td>\n",
       "      <td>[\"Enseignement professionnel\"]</td>\n",
       "      <td>[]</td>\n",
       "      <td>[{\"key\": \"newsletter\", \"value\": \"true\", \"creat...</td>\n",
       "      <td>2024-12-30 19:12:44</td>\n",
       "    </tr>\n",
       "    <tr>\n",
       "      <th>198318</th>\n",
       "      <td>201187</td>\n",
       "      <td>0</td>\n",
       "      <td>subscribed</td>\n",
       "      <td>NaN</td>\n",
       "      <td>15.0</td>\n",
       "      <td>1</td>\n",
       "      <td>[\"6ème primaire\",\"CP\"]</td>\n",
       "      <td>[]</td>\n",
       "      <td>[]</td>\n",
       "      <td>[{\"key\":\"newsletter\",\"value\":\"undefined\",\"crea...</td>\n",
       "      <td>2025-01-28 15:29:13</td>\n",
       "    </tr>\n",
       "  </tbody>\n",
       "</table>\n",
       "</div>"
      ],
      "text/plain": [
       "            id  statut_infolettre statut_mailchimp codepostal  anciennete  \\\n",
       "6            7                  1       subscribed      31130        25.0   \n",
       "780        781                  1       subscribed      94400         3.0   \n",
       "20180    20386                  1     unsubscribed        NaN         0.0   \n",
       "40120    42074                  0       subscribed      31060        18.0   \n",
       "85286    88019                  1       subscribed      72405        15.0   \n",
       "90263    93125                  1       subscribed        NaN         0.0   \n",
       "114254  117116                  1       subscribed        NaN         NaN   \n",
       "119129  121991                  0       subscribed      82500        20.0   \n",
       "140885  143747                  0       subscribed      95680         1.0   \n",
       "142145  145007                  1       subscribed      51450         3.0   \n",
       "194847  197716                  1       subscribed      75001         0.0   \n",
       "196802  199671                  1       subscribed        NaN        42.0   \n",
       "196805  199674                  0       subscribed        NaN        19.0   \n",
       "196813  199682                  0       subscribed        NaN        25.0   \n",
       "196856  199725                  0     unsubscribed        NaN         1.0   \n",
       "196874  199743                  0       subscribed        NaN        59.0   \n",
       "196885  199754                  1       subscribed        NaN        32.0   \n",
       "196922  199791                  1       subscribed        NaN         0.0   \n",
       "196934  199803                  0       subscribed      64050         1.0   \n",
       "196942  199811                  0       subscribed      91170        27.0   \n",
       "196945  199814                  0       subscribed      62700        20.0   \n",
       "196948  199817                  0       subscribed      92250         1.0   \n",
       "196956  199825                  0       subscribed      53200        20.0   \n",
       "196977  199846                  0       subscribed      39700         0.0   \n",
       "197022  199891                  1       subscribed        NaN         0.0   \n",
       "198318  201187                  0       subscribed        NaN        15.0   \n",
       "\n",
       "        aucun_etablissement  \\\n",
       "6                         0   \n",
       "780                       1   \n",
       "20180                     1   \n",
       "40120                     0   \n",
       "85286                     1   \n",
       "90263                     1   \n",
       "114254                    1   \n",
       "119129                    0   \n",
       "140885                    0   \n",
       "142145                    0   \n",
       "194847                    0   \n",
       "196802                    1   \n",
       "196805                    1   \n",
       "196813                    1   \n",
       "196856                    1   \n",
       "196874                    1   \n",
       "196885                    1   \n",
       "196922                    1   \n",
       "196934                    0   \n",
       "196942                    0   \n",
       "196945                    0   \n",
       "196948                    0   \n",
       "196956                    0   \n",
       "196977                    0   \n",
       "197022                    1   \n",
       "198318                    1   \n",
       "\n",
       "                                              json_niveau  \\\n",
       "6       [\"CP\", \"Elémentaire\", \"CE1\", \"CE2\", \"CM1\", \"PS...   \n",
       "780                                            [\"\", \"PS\"]   \n",
       "20180             [\"TPS\", \"PS\", \"MS\", \"GS\", \"Maternelle\"]   \n",
       "40120                              [\"Études supérieures\"]   \n",
       "85286   [\"TPS\", \"PS\", \"MS\", \"GS\", \"Maternelle\", \"CP\", ...   \n",
       "90263     [\"TPS\",\"PS\",\"MS\",\"GS\",\"Maternelle\",\"Direction\"]   \n",
       "114254                [\"6e\", \"5e\", \"4e\", \"3e\", \"Collège\"]   \n",
       "119129                 [\"ASH\", \"Enseignement spécialisé\"]   \n",
       "140885                        [\"Enseignement spécialisé\"]   \n",
       "142145  [\"2nde\", \"1ère\", \"Terminale\", \"Bac Pro\", \"Lycée\"]   \n",
       "194847                [\"TPS\",\"PS\",\"MS\",\"GS\",\"Maternelle\"]   \n",
       "196802                        [\"Enseignement spécialisé\"]   \n",
       "196805                             [\"Études supérieures\"]   \n",
       "196813                             [\"Études supérieures\"]   \n",
       "196856                             [\"Études supérieures\"]   \n",
       "196874                             [\"Études supérieures\"]   \n",
       "196885                        [\"Enseignement spécialisé\"]   \n",
       "196922                             [\"Études supérieures\"]   \n",
       "196934  [\"CAP\", \"SEGPA\", \"Étudiant stagiaire\", \"Bac Pro\"]   \n",
       "196942                        [\"Enseignement spécialisé\"]   \n",
       "196945                        [\"Enseignement spécialisé\"]   \n",
       "196948                                  [\"6ème primaire\"]   \n",
       "196956                        [\"Enseignement spécialisé\"]   \n",
       "196977                             [\"Études supérieures\"]   \n",
       "197022                             [\"Étudiant stagiaire\"]   \n",
       "198318                             [\"6ème primaire\",\"CP\"]   \n",
       "\n",
       "                                          json_discipline  \\\n",
       "6                                                      []   \n",
       "780                                                    []   \n",
       "20180                                                  []   \n",
       "40120                                                  []   \n",
       "85286       [\"Mathématiques\", \"Sciences et technologies\"]   \n",
       "90263                                                  []   \n",
       "114254                                                 []   \n",
       "119129                                                 []   \n",
       "140885                                                 []   \n",
       "142145                         [\"Histoire et géographie\"]   \n",
       "194847                                                 []   \n",
       "196802                                           [\"Arts\"]   \n",
       "196805                                  [\"Mathématiques\"]   \n",
       "196813                                                 []   \n",
       "196856                                                 []   \n",
       "196874                                                 []   \n",
       "196885                                  [\"Mathématiques\"]   \n",
       "196922                                                 []   \n",
       "196934  [\"Sciences et technologies\", \"Enseignement pro...   \n",
       "196942                                                 []   \n",
       "196945                                                 []   \n",
       "196948                                                 []   \n",
       "196956                                                 []   \n",
       "196977                                                 []   \n",
       "197022                     [\"Enseignement professionnel\"]   \n",
       "198318                                                 []   \n",
       "\n",
       "                                       json_etablissement  \\\n",
       "6       [{\"id\": 1901, \"nom\": \"Ecole élémentaire publiq...   \n",
       "780                                                   NaN   \n",
       "20180                                                 NaN   \n",
       "40120   [{\"id\": 1968, \"nom\": \"Lycée professionnel priv...   \n",
       "85286                                                  []   \n",
       "90263                                                  []   \n",
       "114254                                                 []   \n",
       "119129  [{\"id\": 37170, \"nom\": \"Collège Théodore Despey...   \n",
       "140885  [{\"id\": 19224, \"nom\": \"Ecole primaire publique...   \n",
       "142145  [{\"id\": 7659, \"nom\": \"Ecole maternelle la riba...   \n",
       "194847  [{\"id\":3801,\"nom\":\"E.E.PU CAMBON 28 rue Cambon...   \n",
       "196802                                                 []   \n",
       "196805                                                 []   \n",
       "196813                                                 []   \n",
       "196856                                                 []   \n",
       "196874                                                 []   \n",
       "196885                                                 []   \n",
       "196922                                                 []   \n",
       "196934  [{\"id\": 53145, \"nom\": \"Lycée professionnel Hon...   \n",
       "196942  [{\"id\": 11854, \"nom\": \"Ecole élémentaire Rolan...   \n",
       "196945  [{\"id\": 9488, \"nom\": \"Collège Edmond Rostand\",...   \n",
       "196948  [{\"id\": 11306, \"nom\": \"Ecole élémentaire publi...   \n",
       "196956  [{\"id\": 35418, \"nom\": \"Collège Jean Rostand\", ...   \n",
       "196977  [{\"id\": 49938, \"nom\": \"Collège Gustave Eiffel\"...   \n",
       "197022                                                 []   \n",
       "198318                                                 []   \n",
       "\n",
       "                                            json_metadata           created_at  \n",
       "6       [{\"key\":\"newsletter\",\"value\":\"undefined\",\"crea...  2017-01-15 16:50:11  \n",
       "780     [{\"key\": \"parcoursOffertCanvasId\", \"value\": 44...  2017-08-17 09:16:35  \n",
       "20180   [{\"key\": \"programme_thematique\", \"value\": null...  2019-04-24 08:22:53  \n",
       "40120   [{\"key\": \"inscrit_caprentree\", \"value\": \"true\"...  2020-08-20 12:00:56  \n",
       "85286   [{\"key\": \"etablissement_1\", \"value\": \"\", \"crea...  2021-10-21 13:06:33  \n",
       "90263   [{\"key\":\"newsletter\",\"value\":\"true\",\"created_a...  2022-02-08 09:04:53  \n",
       "114254  [{\"key\": \"neo2023\", \"value\": \"true\", \"created_...  2022-09-29 19:10:51  \n",
       "119129  [{\"key\": \"newsletter\", \"value\": \"undefined\", \"...  2022-11-04 08:48:18  \n",
       "140885  [{\"key\": \"newsletter\", \"value\": \"false\", \"crea...  2023-07-19 15:05:16  \n",
       "142145  [{\"key\": \"newsletter\", \"value\": \"undefined\", \"...  2023-07-25 10:07:34  \n",
       "194847  [{\"key\":\"newsletter\",\"value\":\"undefined\",\"crea...  2024-11-15 09:56:38  \n",
       "196802  [{\"key\": \"newsletter\", \"value\": \"true\", \"creat...  2024-12-20 07:55:41  \n",
       "196805  [{\"key\": \"newsletter\", \"value\": \"undefined\", \"...  2024-12-20 10:51:31  \n",
       "196813  [{\"key\": \"newsletter\", \"value\": \"false\", \"crea...  2024-12-20 18:41:48  \n",
       "196856  [{\"key\": \"newsletter\", \"value\": false, \"create...  2024-12-22 22:02:54  \n",
       "196874  [{\"key\": \"newsletter\", \"value\": \"false\", \"crea...  2024-12-23 16:00:18  \n",
       "196885  [{\"key\": \"newsletter\", \"value\": \"undefined\", \"...  2024-12-24 10:11:40  \n",
       "196922  [{\"key\": \"newsletter\", \"value\": \"true\", \"creat...  2024-12-26 08:26:42  \n",
       "196934  [{\"key\": \"newsletter\", \"value\": \"false\", \"crea...  2024-12-26 17:04:31  \n",
       "196942  [{\"key\": \"newsletter\", \"value\": \"false\", \"crea...  2024-12-27 09:30:35  \n",
       "196945  [{\"key\": \"newsletter\", \"value\": \"undefined\", \"...  2024-12-27 12:01:49  \n",
       "196948  [{\"key\": \"newsletter\", \"value\": \"undefined\", \"...  2024-12-27 13:42:09  \n",
       "196956  [{\"key\": \"newsletter\", \"value\": \"false\", \"crea...  2024-12-27 17:55:29  \n",
       "196977  [{\"key\": \"newsletter\", \"value\": \"false\", \"crea...  2024-12-29 10:06:07  \n",
       "197022  [{\"key\": \"newsletter\", \"value\": \"true\", \"creat...  2024-12-30 19:12:44  \n",
       "198318  [{\"key\":\"newsletter\",\"value\":\"undefined\",\"crea...  2025-01-28 15:29:13  "
      ]
     },
     "execution_count": 49,
     "metadata": {},
     "output_type": "execute_result"
    }
   ],
   "source": [
    "categories_rares = [\n",
    "    \"Études supérieures\", \"Enseignement spécialisé\", \"Maternelle\",\n",
    "    \"Elémentaire\", \"Collège\", \"Lycée\", \"Étudiant stagiaire\",\n",
    "    \"6ème primaire\", \"\", \"Autres\"\n",
    "]\n",
    "\n",
    "def contains_rare_category(niveaux_str):\n",
    "    if pd.isna(niveaux_str):\n",
    "        return False\n",
    "    niveaux_list = json.loads(niveaux_str)\n",
    "    return any(niveau in categories_rares for niveau in niveaux_list)\n",
    "\n",
    "mask_rare = df_users['json_niveau'].apply(contains_rare_category)\n",
    "\n",
    "df_rare = df_users[mask_rare].copy()\n",
    "df_rare"
   ]
  },
  {
   "cell_type": "code",
   "execution_count": null,
   "id": "e2ce6ffa",
   "metadata": {
    "hidden": true
   },
   "outputs": [],
   "source": [
    "categories_rares = [\n",
    "    \"Études supérieures\", \"Enseignement spécialisé\", \"Maternelle\",\n",
    "    \"Elémentaire\", \"Collège\", \"Lycée\", \"Étudiant stagiaire\",\n",
    "    \"6ème primaire\", \"\", \"Autres\"\n",
    "]\n",
    "\n",
    "def clean_json_niveau(niveaux_str):\n",
    "    if pd.isna(niveaux_str):\n",
    "        return niveaux_str\n",
    "\n",
    "    try:\n",
    "        niveaux_list = json.loads(niveaux_str)\n",
    "\n",
    "        # Séparer les éléments rares des éléments valides\n",
    "        elements_rares = [niveau for niveau in niveaux_list if niveau in categories_rares]\n",
    "        elements_valides = [niveau for niveau in niveaux_list if niveau not in categories_rares]\n",
    "\n",
    "        # Si il y a des éléments valides, on garde que ceux-là\n",
    "        if elements_valides:\n",
    "            return json.dumps(elements_valides, ensure_ascii=False)\n",
    "        # Sinon, on garde les éléments rares (cas où il n'y a que ça)\n",
    "        else:\n",
    "            return json.dumps(elements_rares, ensure_ascii=False)\n",
    "\n",
    "    except:\n",
    "        return niveaux_str\n",
    "\n",
    "# Appliquer le nettoyage\n",
    "df_users['json_niveau'] = df_users['json_niveau'].apply(clean_json_niveau)"
   ]
  },
  {
   "cell_type": "code",
   "execution_count": 51,
   "id": "513a7e97",
   "metadata": {
    "hidden": true
   },
   "outputs": [
    {
     "data": {
      "text/html": [
       "<div>\n",
       "<style scoped>\n",
       "    .dataframe tbody tr th:only-of-type {\n",
       "        vertical-align: middle;\n",
       "    }\n",
       "\n",
       "    .dataframe tbody tr th {\n",
       "        vertical-align: top;\n",
       "    }\n",
       "\n",
       "    .dataframe thead th {\n",
       "        text-align: right;\n",
       "    }\n",
       "</style>\n",
       "<table border=\"1\" class=\"dataframe\">\n",
       "  <thead>\n",
       "    <tr style=\"text-align: right;\">\n",
       "      <th></th>\n",
       "      <th>id</th>\n",
       "      <th>statut_infolettre</th>\n",
       "      <th>statut_mailchimp</th>\n",
       "      <th>codepostal</th>\n",
       "      <th>anciennete</th>\n",
       "      <th>aucun_etablissement</th>\n",
       "      <th>json_niveau</th>\n",
       "      <th>json_discipline</th>\n",
       "      <th>json_etablissement</th>\n",
       "      <th>json_metadata</th>\n",
       "      <th>created_at</th>\n",
       "    </tr>\n",
       "  </thead>\n",
       "  <tbody>\n",
       "    <tr>\n",
       "      <th>40120</th>\n",
       "      <td>42074</td>\n",
       "      <td>0</td>\n",
       "      <td>subscribed</td>\n",
       "      <td>31060</td>\n",
       "      <td>18.0</td>\n",
       "      <td>0</td>\n",
       "      <td>[\"Études supérieures\"]</td>\n",
       "      <td>[]</td>\n",
       "      <td>[{\"id\": 1968, \"nom\": \"Lycée professionnel priv...</td>\n",
       "      <td>[{\"key\": \"inscrit_caprentree\", \"value\": \"true\"...</td>\n",
       "      <td>2020-08-20 12:00:56</td>\n",
       "    </tr>\n",
       "    <tr>\n",
       "      <th>140885</th>\n",
       "      <td>143747</td>\n",
       "      <td>0</td>\n",
       "      <td>subscribed</td>\n",
       "      <td>95680</td>\n",
       "      <td>1.0</td>\n",
       "      <td>0</td>\n",
       "      <td>[\"Enseignement spécialisé\"]</td>\n",
       "      <td>[]</td>\n",
       "      <td>[{\"id\": 19224, \"nom\": \"Ecole primaire publique...</td>\n",
       "      <td>[{\"key\": \"newsletter\", \"value\": \"false\", \"crea...</td>\n",
       "      <td>2023-07-19 15:05:16</td>\n",
       "    </tr>\n",
       "    <tr>\n",
       "      <th>196802</th>\n",
       "      <td>199671</td>\n",
       "      <td>1</td>\n",
       "      <td>subscribed</td>\n",
       "      <td>NaN</td>\n",
       "      <td>42.0</td>\n",
       "      <td>1</td>\n",
       "      <td>[\"Enseignement spécialisé\"]</td>\n",
       "      <td>[\"Arts\"]</td>\n",
       "      <td>[]</td>\n",
       "      <td>[{\"key\": \"newsletter\", \"value\": \"true\", \"creat...</td>\n",
       "      <td>2024-12-20 07:55:41</td>\n",
       "    </tr>\n",
       "    <tr>\n",
       "      <th>196805</th>\n",
       "      <td>199674</td>\n",
       "      <td>0</td>\n",
       "      <td>subscribed</td>\n",
       "      <td>NaN</td>\n",
       "      <td>19.0</td>\n",
       "      <td>1</td>\n",
       "      <td>[\"Études supérieures\"]</td>\n",
       "      <td>[\"Mathématiques\"]</td>\n",
       "      <td>[]</td>\n",
       "      <td>[{\"key\": \"newsletter\", \"value\": \"undefined\", \"...</td>\n",
       "      <td>2024-12-20 10:51:31</td>\n",
       "    </tr>\n",
       "    <tr>\n",
       "      <th>196813</th>\n",
       "      <td>199682</td>\n",
       "      <td>0</td>\n",
       "      <td>subscribed</td>\n",
       "      <td>NaN</td>\n",
       "      <td>25.0</td>\n",
       "      <td>1</td>\n",
       "      <td>[\"Études supérieures\"]</td>\n",
       "      <td>[]</td>\n",
       "      <td>[]</td>\n",
       "      <td>[{\"key\": \"newsletter\", \"value\": \"false\", \"crea...</td>\n",
       "      <td>2024-12-20 18:41:48</td>\n",
       "    </tr>\n",
       "    <tr>\n",
       "      <th>196856</th>\n",
       "      <td>199725</td>\n",
       "      <td>0</td>\n",
       "      <td>unsubscribed</td>\n",
       "      <td>NaN</td>\n",
       "      <td>1.0</td>\n",
       "      <td>1</td>\n",
       "      <td>[\"Études supérieures\"]</td>\n",
       "      <td>[]</td>\n",
       "      <td>[]</td>\n",
       "      <td>[{\"key\": \"newsletter\", \"value\": false, \"create...</td>\n",
       "      <td>2024-12-22 22:02:54</td>\n",
       "    </tr>\n",
       "    <tr>\n",
       "      <th>196874</th>\n",
       "      <td>199743</td>\n",
       "      <td>0</td>\n",
       "      <td>subscribed</td>\n",
       "      <td>NaN</td>\n",
       "      <td>59.0</td>\n",
       "      <td>1</td>\n",
       "      <td>[\"Études supérieures\"]</td>\n",
       "      <td>[]</td>\n",
       "      <td>[]</td>\n",
       "      <td>[{\"key\": \"newsletter\", \"value\": \"false\", \"crea...</td>\n",
       "      <td>2024-12-23 16:00:18</td>\n",
       "    </tr>\n",
       "    <tr>\n",
       "      <th>196885</th>\n",
       "      <td>199754</td>\n",
       "      <td>1</td>\n",
       "      <td>subscribed</td>\n",
       "      <td>NaN</td>\n",
       "      <td>32.0</td>\n",
       "      <td>1</td>\n",
       "      <td>[\"Enseignement spécialisé\"]</td>\n",
       "      <td>[\"Mathématiques\"]</td>\n",
       "      <td>[]</td>\n",
       "      <td>[{\"key\": \"newsletter\", \"value\": \"undefined\", \"...</td>\n",
       "      <td>2024-12-24 10:11:40</td>\n",
       "    </tr>\n",
       "    <tr>\n",
       "      <th>196922</th>\n",
       "      <td>199791</td>\n",
       "      <td>1</td>\n",
       "      <td>subscribed</td>\n",
       "      <td>NaN</td>\n",
       "      <td>0.0</td>\n",
       "      <td>1</td>\n",
       "      <td>[\"Études supérieures\"]</td>\n",
       "      <td>[]</td>\n",
       "      <td>[]</td>\n",
       "      <td>[{\"key\": \"newsletter\", \"value\": \"true\", \"creat...</td>\n",
       "      <td>2024-12-26 08:26:42</td>\n",
       "    </tr>\n",
       "    <tr>\n",
       "      <th>196942</th>\n",
       "      <td>199811</td>\n",
       "      <td>0</td>\n",
       "      <td>subscribed</td>\n",
       "      <td>91170</td>\n",
       "      <td>27.0</td>\n",
       "      <td>0</td>\n",
       "      <td>[\"Enseignement spécialisé\"]</td>\n",
       "      <td>[]</td>\n",
       "      <td>[{\"id\": 11854, \"nom\": \"Ecole élémentaire Rolan...</td>\n",
       "      <td>[{\"key\": \"newsletter\", \"value\": \"false\", \"crea...</td>\n",
       "      <td>2024-12-27 09:30:35</td>\n",
       "    </tr>\n",
       "    <tr>\n",
       "      <th>196945</th>\n",
       "      <td>199814</td>\n",
       "      <td>0</td>\n",
       "      <td>subscribed</td>\n",
       "      <td>62700</td>\n",
       "      <td>20.0</td>\n",
       "      <td>0</td>\n",
       "      <td>[\"Enseignement spécialisé\"]</td>\n",
       "      <td>[]</td>\n",
       "      <td>[{\"id\": 9488, \"nom\": \"Collège Edmond Rostand\",...</td>\n",
       "      <td>[{\"key\": \"newsletter\", \"value\": \"undefined\", \"...</td>\n",
       "      <td>2024-12-27 12:01:49</td>\n",
       "    </tr>\n",
       "    <tr>\n",
       "      <th>196948</th>\n",
       "      <td>199817</td>\n",
       "      <td>0</td>\n",
       "      <td>subscribed</td>\n",
       "      <td>92250</td>\n",
       "      <td>1.0</td>\n",
       "      <td>0</td>\n",
       "      <td>[\"6ème primaire\"]</td>\n",
       "      <td>[]</td>\n",
       "      <td>[{\"id\": 11306, \"nom\": \"Ecole élémentaire publi...</td>\n",
       "      <td>[{\"key\": \"newsletter\", \"value\": \"undefined\", \"...</td>\n",
       "      <td>2024-12-27 13:42:09</td>\n",
       "    </tr>\n",
       "    <tr>\n",
       "      <th>196956</th>\n",
       "      <td>199825</td>\n",
       "      <td>0</td>\n",
       "      <td>subscribed</td>\n",
       "      <td>53200</td>\n",
       "      <td>20.0</td>\n",
       "      <td>0</td>\n",
       "      <td>[\"Enseignement spécialisé\"]</td>\n",
       "      <td>[]</td>\n",
       "      <td>[{\"id\": 35418, \"nom\": \"Collège Jean Rostand\", ...</td>\n",
       "      <td>[{\"key\": \"newsletter\", \"value\": \"false\", \"crea...</td>\n",
       "      <td>2024-12-27 17:55:29</td>\n",
       "    </tr>\n",
       "    <tr>\n",
       "      <th>196977</th>\n",
       "      <td>199846</td>\n",
       "      <td>0</td>\n",
       "      <td>subscribed</td>\n",
       "      <td>39700</td>\n",
       "      <td>0.0</td>\n",
       "      <td>0</td>\n",
       "      <td>[\"Études supérieures\"]</td>\n",
       "      <td>[]</td>\n",
       "      <td>[{\"id\": 49938, \"nom\": \"Collège Gustave Eiffel\"...</td>\n",
       "      <td>[{\"key\": \"newsletter\", \"value\": \"false\", \"crea...</td>\n",
       "      <td>2024-12-29 10:06:07</td>\n",
       "    </tr>\n",
       "    <tr>\n",
       "      <th>197022</th>\n",
       "      <td>199891</td>\n",
       "      <td>1</td>\n",
       "      <td>subscribed</td>\n",
       "      <td>NaN</td>\n",
       "      <td>0.0</td>\n",
       "      <td>1</td>\n",
       "      <td>[\"Étudiant stagiaire\"]</td>\n",
       "      <td>[\"Enseignement professionnel\"]</td>\n",
       "      <td>[]</td>\n",
       "      <td>[{\"key\": \"newsletter\", \"value\": \"true\", \"creat...</td>\n",
       "      <td>2024-12-30 19:12:44</td>\n",
       "    </tr>\n",
       "  </tbody>\n",
       "</table>\n",
       "</div>"
      ],
      "text/plain": [
       "            id  statut_infolettre statut_mailchimp codepostal  anciennete  \\\n",
       "40120    42074                  0       subscribed      31060        18.0   \n",
       "140885  143747                  0       subscribed      95680         1.0   \n",
       "196802  199671                  1       subscribed        NaN        42.0   \n",
       "196805  199674                  0       subscribed        NaN        19.0   \n",
       "196813  199682                  0       subscribed        NaN        25.0   \n",
       "196856  199725                  0     unsubscribed        NaN         1.0   \n",
       "196874  199743                  0       subscribed        NaN        59.0   \n",
       "196885  199754                  1       subscribed        NaN        32.0   \n",
       "196922  199791                  1       subscribed        NaN         0.0   \n",
       "196942  199811                  0       subscribed      91170        27.0   \n",
       "196945  199814                  0       subscribed      62700        20.0   \n",
       "196948  199817                  0       subscribed      92250         1.0   \n",
       "196956  199825                  0       subscribed      53200        20.0   \n",
       "196977  199846                  0       subscribed      39700         0.0   \n",
       "197022  199891                  1       subscribed        NaN         0.0   \n",
       "\n",
       "        aucun_etablissement                  json_niveau  \\\n",
       "40120                     0       [\"Études supérieures\"]   \n",
       "140885                    0  [\"Enseignement spécialisé\"]   \n",
       "196802                    1  [\"Enseignement spécialisé\"]   \n",
       "196805                    1       [\"Études supérieures\"]   \n",
       "196813                    1       [\"Études supérieures\"]   \n",
       "196856                    1       [\"Études supérieures\"]   \n",
       "196874                    1       [\"Études supérieures\"]   \n",
       "196885                    1  [\"Enseignement spécialisé\"]   \n",
       "196922                    1       [\"Études supérieures\"]   \n",
       "196942                    0  [\"Enseignement spécialisé\"]   \n",
       "196945                    0  [\"Enseignement spécialisé\"]   \n",
       "196948                    0            [\"6ème primaire\"]   \n",
       "196956                    0  [\"Enseignement spécialisé\"]   \n",
       "196977                    0       [\"Études supérieures\"]   \n",
       "197022                    1       [\"Étudiant stagiaire\"]   \n",
       "\n",
       "                       json_discipline  \\\n",
       "40120                               []   \n",
       "140885                              []   \n",
       "196802                        [\"Arts\"]   \n",
       "196805               [\"Mathématiques\"]   \n",
       "196813                              []   \n",
       "196856                              []   \n",
       "196874                              []   \n",
       "196885               [\"Mathématiques\"]   \n",
       "196922                              []   \n",
       "196942                              []   \n",
       "196945                              []   \n",
       "196948                              []   \n",
       "196956                              []   \n",
       "196977                              []   \n",
       "197022  [\"Enseignement professionnel\"]   \n",
       "\n",
       "                                       json_etablissement  \\\n",
       "40120   [{\"id\": 1968, \"nom\": \"Lycée professionnel priv...   \n",
       "140885  [{\"id\": 19224, \"nom\": \"Ecole primaire publique...   \n",
       "196802                                                 []   \n",
       "196805                                                 []   \n",
       "196813                                                 []   \n",
       "196856                                                 []   \n",
       "196874                                                 []   \n",
       "196885                                                 []   \n",
       "196922                                                 []   \n",
       "196942  [{\"id\": 11854, \"nom\": \"Ecole élémentaire Rolan...   \n",
       "196945  [{\"id\": 9488, \"nom\": \"Collège Edmond Rostand\",...   \n",
       "196948  [{\"id\": 11306, \"nom\": \"Ecole élémentaire publi...   \n",
       "196956  [{\"id\": 35418, \"nom\": \"Collège Jean Rostand\", ...   \n",
       "196977  [{\"id\": 49938, \"nom\": \"Collège Gustave Eiffel\"...   \n",
       "197022                                                 []   \n",
       "\n",
       "                                            json_metadata           created_at  \n",
       "40120   [{\"key\": \"inscrit_caprentree\", \"value\": \"true\"...  2020-08-20 12:00:56  \n",
       "140885  [{\"key\": \"newsletter\", \"value\": \"false\", \"crea...  2023-07-19 15:05:16  \n",
       "196802  [{\"key\": \"newsletter\", \"value\": \"true\", \"creat...  2024-12-20 07:55:41  \n",
       "196805  [{\"key\": \"newsletter\", \"value\": \"undefined\", \"...  2024-12-20 10:51:31  \n",
       "196813  [{\"key\": \"newsletter\", \"value\": \"false\", \"crea...  2024-12-20 18:41:48  \n",
       "196856  [{\"key\": \"newsletter\", \"value\": false, \"create...  2024-12-22 22:02:54  \n",
       "196874  [{\"key\": \"newsletter\", \"value\": \"false\", \"crea...  2024-12-23 16:00:18  \n",
       "196885  [{\"key\": \"newsletter\", \"value\": \"undefined\", \"...  2024-12-24 10:11:40  \n",
       "196922  [{\"key\": \"newsletter\", \"value\": \"true\", \"creat...  2024-12-26 08:26:42  \n",
       "196942  [{\"key\": \"newsletter\", \"value\": \"false\", \"crea...  2024-12-27 09:30:35  \n",
       "196945  [{\"key\": \"newsletter\", \"value\": \"undefined\", \"...  2024-12-27 12:01:49  \n",
       "196948  [{\"key\": \"newsletter\", \"value\": \"undefined\", \"...  2024-12-27 13:42:09  \n",
       "196956  [{\"key\": \"newsletter\", \"value\": \"false\", \"crea...  2024-12-27 17:55:29  \n",
       "196977  [{\"key\": \"newsletter\", \"value\": \"false\", \"crea...  2024-12-29 10:06:07  \n",
       "197022  [{\"key\": \"newsletter\", \"value\": \"true\", \"creat...  2024-12-30 19:12:44  "
      ]
     },
     "execution_count": 51,
     "metadata": {},
     "output_type": "execute_result"
    }
   ],
   "source": [
    "mask_rare = df_users['json_niveau'].apply(contains_rare_category)\n",
    "\n",
    "df_rare = df_users[mask_rare].copy()\n",
    "df_rare"
   ]
  },
  {
   "cell_type": "code",
   "execution_count": null,
   "id": "9376d3e4",
   "metadata": {
    "hidden": true
   },
   "outputs": [],
   "source": [
    "niveaux_rares_remain = set()\n",
    "\n",
    "for niveaux_str in df_rare['json_niveau'].dropna():\n",
    "    try:\n",
    "        niveaux_list = json.loads(niveaux_str)\n",
    "        niveaux_rares_remain.update(niveaux_list)\n",
    "    except:\n",
    "        print(f\"Erreur de parsing pour : {niveaux_str}\")"
   ]
  },
  {
   "cell_type": "code",
   "execution_count": 53,
   "id": "e4dbfb15",
   "metadata": {
    "hidden": true
   },
   "outputs": [
    {
     "data": {
      "text/plain": [
       "{'6ème primaire',\n",
       " 'Enseignement spécialisé',\n",
       " 'Études supérieures',\n",
       " 'Étudiant stagiaire'}"
      ]
     },
     "execution_count": 53,
     "metadata": {},
     "output_type": "execute_result"
    }
   ],
   "source": [
    "niveaux_rares_remain"
   ]
  },
  {
   "cell_type": "code",
   "execution_count": null,
   "id": "1142167a",
   "metadata": {
    "hidden": true
   },
   "outputs": [],
   "source": [
    "def replace_categories(niveaux_str):\n",
    "    if pd.isna(niveaux_str):\n",
    "        return niveaux_str\n",
    "\n",
    "    try:\n",
    "        niveaux_list = json.loads(niveaux_str)\n",
    "\n",
    "        # Remplacer les catégories\n",
    "        niveaux_replaced = []\n",
    "        for niveau in niveaux_list:\n",
    "            if niveau == \"Enseignement spécialisé\":\n",
    "                niveaux_replaced.append(\"ASH\")\n",
    "            elif niveau == \"Études supérieures\":\n",
    "                niveaux_replaced.append(\"POST BAC\")\n",
    "            else:\n",
    "                niveaux_replaced.append(niveau)\n",
    "\n",
    "        return json.dumps(niveaux_replaced, ensure_ascii=False)\n",
    "\n",
    "    except:\n",
    "        return niveaux_str\n",
    "\n",
    "df_users['json_niveau'] = df_users['json_niveau'].apply(replace_categories)\n"
   ]
  },
  {
   "cell_type": "code",
   "execution_count": 55,
   "id": "e2ac10ca",
   "metadata": {
    "hidden": true
   },
   "outputs": [
    {
     "data": {
      "text/html": [
       "<div>\n",
       "<style scoped>\n",
       "    .dataframe tbody tr th:only-of-type {\n",
       "        vertical-align: middle;\n",
       "    }\n",
       "\n",
       "    .dataframe tbody tr th {\n",
       "        vertical-align: top;\n",
       "    }\n",
       "\n",
       "    .dataframe thead th {\n",
       "        text-align: right;\n",
       "    }\n",
       "</style>\n",
       "<table border=\"1\" class=\"dataframe\">\n",
       "  <thead>\n",
       "    <tr style=\"text-align: right;\">\n",
       "      <th></th>\n",
       "      <th>id</th>\n",
       "      <th>statut_infolettre</th>\n",
       "      <th>statut_mailchimp</th>\n",
       "      <th>codepostal</th>\n",
       "      <th>anciennete</th>\n",
       "      <th>aucun_etablissement</th>\n",
       "      <th>json_niveau</th>\n",
       "      <th>json_discipline</th>\n",
       "      <th>json_etablissement</th>\n",
       "      <th>json_metadata</th>\n",
       "      <th>created_at</th>\n",
       "    </tr>\n",
       "  </thead>\n",
       "  <tbody>\n",
       "    <tr>\n",
       "      <th>196948</th>\n",
       "      <td>199817</td>\n",
       "      <td>0</td>\n",
       "      <td>subscribed</td>\n",
       "      <td>92250</td>\n",
       "      <td>1.0</td>\n",
       "      <td>0</td>\n",
       "      <td>[\"6ème primaire\"]</td>\n",
       "      <td>[]</td>\n",
       "      <td>[{\"id\": 11306, \"nom\": \"Ecole élémentaire publi...</td>\n",
       "      <td>[{\"key\": \"newsletter\", \"value\": \"undefined\", \"...</td>\n",
       "      <td>2024-12-27 13:42:09</td>\n",
       "    </tr>\n",
       "    <tr>\n",
       "      <th>197022</th>\n",
       "      <td>199891</td>\n",
       "      <td>1</td>\n",
       "      <td>subscribed</td>\n",
       "      <td>NaN</td>\n",
       "      <td>0.0</td>\n",
       "      <td>1</td>\n",
       "      <td>[\"Étudiant stagiaire\"]</td>\n",
       "      <td>[\"Enseignement professionnel\"]</td>\n",
       "      <td>[]</td>\n",
       "      <td>[{\"key\": \"newsletter\", \"value\": \"true\", \"creat...</td>\n",
       "      <td>2024-12-30 19:12:44</td>\n",
       "    </tr>\n",
       "  </tbody>\n",
       "</table>\n",
       "</div>"
      ],
      "text/plain": [
       "            id  statut_infolettre statut_mailchimp codepostal  anciennete  \\\n",
       "196948  199817                  0       subscribed      92250         1.0   \n",
       "197022  199891                  1       subscribed        NaN         0.0   \n",
       "\n",
       "        aucun_etablissement             json_niveau  \\\n",
       "196948                    0       [\"6ème primaire\"]   \n",
       "197022                    1  [\"Étudiant stagiaire\"]   \n",
       "\n",
       "                       json_discipline  \\\n",
       "196948                              []   \n",
       "197022  [\"Enseignement professionnel\"]   \n",
       "\n",
       "                                       json_etablissement  \\\n",
       "196948  [{\"id\": 11306, \"nom\": \"Ecole élémentaire publi...   \n",
       "197022                                                 []   \n",
       "\n",
       "                                            json_metadata           created_at  \n",
       "196948  [{\"key\": \"newsletter\", \"value\": \"undefined\", \"...  2024-12-27 13:42:09  \n",
       "197022  [{\"key\": \"newsletter\", \"value\": \"true\", \"creat...  2024-12-30 19:12:44  "
      ]
     },
     "execution_count": 55,
     "metadata": {},
     "output_type": "execute_result"
    }
   ],
   "source": [
    "mask_rare = df_users['json_niveau'].apply(contains_rare_category)\n",
    "\n",
    "df_rare = df_users[mask_rare].copy()\n",
    "df_rare"
   ]
  },
  {
   "cell_type": "code",
   "execution_count": 56,
   "id": "a2d49676",
   "metadata": {
    "hidden": true
   },
   "outputs": [],
   "source": [
    "df_users = df_users.drop([196948, 197022])"
   ]
  },
  {
   "cell_type": "code",
   "execution_count": 57,
   "id": "14630d08",
   "metadata": {
    "hidden": true
   },
   "outputs": [],
   "source": [
    "df_users = df_users.reset_index(drop=True)"
   ]
  },
  {
   "cell_type": "code",
   "execution_count": 58,
   "id": "a393c5a3",
   "metadata": {
    "hidden": true
   },
   "outputs": [
    {
     "data": {
      "text/plain": [
       "{'1ère',\n",
       " '2nde',\n",
       " '3e',\n",
       " '4e',\n",
       " '5e',\n",
       " '6e',\n",
       " 'ASH',\n",
       " 'Bac Pro',\n",
       " 'CAP',\n",
       " 'CE1',\n",
       " 'CE2',\n",
       " 'CM1',\n",
       " 'CM2',\n",
       " 'CP',\n",
       " 'Direction',\n",
       " 'Formateur-trice /Inspecteur-trice',\n",
       " 'GS',\n",
       " 'MS',\n",
       " 'POST BAC',\n",
       " 'PS',\n",
       " 'Professeur-e documentaliste',\n",
       " 'SEGPA',\n",
       " 'TPS',\n",
       " 'Terminale'}"
      ]
     },
     "metadata": {},
     "output_type": "display_data"
    },
    {
     "data": {
      "text/plain": [
       "24"
      ]
     },
     "metadata": {},
     "output_type": "display_data"
    }
   ],
   "source": [
    "all_niveaux = set()\n",
    "\n",
    "for niveaux_str in df_users['json_niveau'].dropna():\n",
    "    try:\n",
    "        niveaux_list = json.loads(niveaux_str)\n",
    "        all_niveaux.update(niveaux_list)  # Ajouter tous les éléments au set\n",
    "    except:\n",
    "        print(f\"Erreur de parsing pour : {niveaux_str}\")\n",
    "display(all_niveaux)\n",
    "display(len(all_niveaux))"
   ]
  },
  {
   "cell_type": "code",
   "execution_count": 59,
   "id": "1e610b43",
   "metadata": {
    "hidden": true
   },
   "outputs": [
    {
     "name": "stdout",
     "output_type": "stream",
     "text": [
      "Fréquence de chaque niveau :\n",
      "  3e: 26328\n",
      "  6e: 26078\n",
      "  4e: 25041\n",
      "  5e: 24667\n",
      "  GS: 23100\n",
      "  CE2: 22502\n",
      "  MS: 22077\n",
      "  CM1: 21916\n",
      "  CE1: 21838\n",
      "  CP: 21649\n",
      "  CM2: 20864\n",
      "  PS: 19899\n",
      "  2nde: 14123\n",
      "  Bac Pro: 12398\n",
      "  1ère: 12099\n",
      "  Terminale: 11928\n",
      "  ASH: 8139\n",
      "  TPS: 6931\n",
      "  POST BAC: 5485\n",
      "  CAP: 5331\n",
      "  Formateur-trice /Inspecteur-trice: 5250\n",
      "  SEGPA: 2586\n",
      "  Direction: 1873\n",
      "  Professeur-e documentaliste: 942\n"
     ]
    }
   ],
   "source": [
    "# Compter chaque niveau individuellement\n",
    "niveau_counts = Counter()\n",
    "\n",
    "for niveaux_str in df_users['json_niveau'].dropna():\n",
    "    niveaux_list = json.loads(niveaux_str)\n",
    "    niveau_counts.update(niveaux_list)\n",
    "\n",
    "print(\"Fréquence de chaque niveau :\")\n",
    "for niveau, count in niveau_counts.most_common():\n",
    "    print(f\"  {niveau}: {count}\")"
   ]
  },
  {
   "cell_type": "markdown",
   "id": "36b64810",
   "metadata": {
    "heading_collapsed": true,
    "hidden": true
   },
   "source": [
    "#### OneHotEncode Niveaux"
   ]
  },
  {
   "cell_type": "code",
   "execution_count": 60,
   "id": "0897e091",
   "metadata": {
    "hidden": true
   },
   "outputs": [
    {
     "data": {
      "text/plain": [
       "{'1ère',\n",
       " '2nde',\n",
       " '3e',\n",
       " '4e',\n",
       " '5e',\n",
       " '6e',\n",
       " 'ASH',\n",
       " 'Bac Pro',\n",
       " 'CAP',\n",
       " 'CE1',\n",
       " 'CE2',\n",
       " 'CM1',\n",
       " 'CM2',\n",
       " 'CP',\n",
       " 'Direction',\n",
       " 'Formateur-trice /Inspecteur-trice',\n",
       " 'GS',\n",
       " 'MS',\n",
       " 'POST BAC',\n",
       " 'PS',\n",
       " 'Professeur-e documentaliste',\n",
       " 'SEGPA',\n",
       " 'TPS',\n",
       " 'Terminale'}"
      ]
     },
     "execution_count": 60,
     "metadata": {},
     "output_type": "execute_result"
    }
   ],
   "source": [
    "all_niveaux"
   ]
  },
  {
   "cell_type": "code",
   "execution_count": 61,
   "id": "0e6b7b40",
   "metadata": {
    "hidden": true
   },
   "outputs": [],
   "source": [
    "# Drop where niveaux is NaN\n",
    "df_users = df_users.drop([33664, 33721, 33745, 52368])\n",
    "df_users = df_users.reset_index(drop=True)"
   ]
  },
  {
   "cell_type": "code",
   "execution_count": 62,
   "id": "959be451",
   "metadata": {
    "hidden": true
   },
   "outputs": [],
   "source": [
    "for niveau in sorted(all_niveaux):\n",
    "    col_name = f\"niveau_{niveau}\".replace(\" \", \"_\").replace(\"-\", \"_\").replace(\"è\", \"e\").replace(\"é\", \"e\").lower()\n",
    "    df_users[col_name] = 0"
   ]
  },
  {
   "cell_type": "code",
   "execution_count": 63,
   "id": "eb51028b",
   "metadata": {
    "hidden": true
   },
   "outputs": [],
   "source": [
    "for idx, niveaux_str in df_users['json_niveau'].items():\n",
    "    niveaux_list = json.loads(niveaux_str)\n",
    "    for niveau in niveaux_list:\n",
    "        col_name = f\"niveau_{niveau}\".replace(\" \", \"_\").replace(\"-\", \"_\").replace(\"è\", \"e\").replace(\"é\", \"e\").lower()\n",
    "        if col_name in df_users.columns:\n",
    "            df_users.loc[idx, col_name] = 1"
   ]
  },
  {
   "cell_type": "markdown",
   "id": "22f2bcfa",
   "metadata": {
    "heading_collapsed": true,
    "hidden": true
   },
   "source": [
    "####  Encode `degre`"
   ]
  },
  {
   "cell_type": "code",
   "execution_count": null,
   "id": "6829b799",
   "metadata": {
    "hidden": true
   },
   "outputs": [],
   "source": [
    "# Définir les niveaux par degré\n",
    "niveaux_primaires = ['TPS', 'PS', 'MS', 'GS', 'CP', 'CE1', 'CE2', 'CM1', 'CM2', 'Direction', 'ASH']\n",
    "niveaux_secondaires = ['6e', '5e', '4e', '3e', '2nde', '1ère', 'Terminale', 'Bac Pro', 'CAP', 'SEGPA', 'Professeur-e documentaliste', 'POST BAC']\n",
    "niveaux_formateurs = ['Formateur-trice /Inspecteur-trice']\n",
    "\n",
    "# Créer la colonne degre (0 par défaut)\n",
    "df_users['degre'] = 0\n",
    "\n",
    "# Remplir la colonne\n",
    "for idx, niveaux_str in df_users['json_niveau'].items():\n",
    "    if isinstance(niveaux_str, str):\n",
    "        try:\n",
    "            niveaux_list = json.loads(niveaux_str)\n",
    "\n",
    "            # Compter par catégorie\n",
    "            count_primaire = sum(1 for niveau in niveaux_list if niveau in niveaux_primaires)\n",
    "            count_secondaire = sum(1 for niveau in niveaux_list if niveau in niveaux_secondaires)\n",
    "            count_formateur = sum(1 for niveau in niveaux_list if niveau in niveaux_formateurs)\n",
    "\n",
    "            # Logique de priorité : formateur > majorité primaire/secondaire\n",
    "            if count_formateur > 0:\n",
    "                df_users.loc[idx, 'degre'] = 3  # Formateur\n",
    "            elif count_primaire > count_secondaire:\n",
    "                df_users.loc[idx, 'degre'] = 1  # Primaire\n",
    "            elif count_secondaire > count_primaire:\n",
    "                df_users.loc[idx, 'degre'] = 2  # Secondaire\n",
    "            elif count_primaire == count_secondaire and count_primaire > 0:\n",
    "                df_users.loc[idx, 'degre'] = 1  # En cas d'égalité, primaire par défaut\n",
    "\n",
    "        except:\n",
    "            pass"
   ]
  },
  {
   "cell_type": "markdown",
   "id": "a5d181fc",
   "metadata": {
    "heading_collapsed": true,
    "hidden": true
   },
   "source": [
    "#### Encode `grandsNiveaux`"
   ]
  },
  {
   "cell_type": "code",
   "execution_count": null,
   "id": "23bf9b6c",
   "metadata": {
    "hidden": true
   },
   "outputs": [
    {
     "name": "stdout",
     "output_type": "stream",
     "text": [
      "Distribution par établissement :\n",
      "maternelle: 52119\n",
      "elementaire: 77946\n",
      "college: 46890\n",
      "lycee: 21604\n",
      "lycee_pro: 14763\n",
      "autre: 10539\n"
     ]
    }
   ],
   "source": [
    "niveaux_maternelle = ['TPS', 'PS', 'MS', 'GS', 'Direction','ASH']\n",
    "niveaux_elementaire = ['CP', 'CE1', 'CE2', 'CM1', 'CM2', 'ASH', 'Direction']\n",
    "niveaux_college = ['6e', '5e', '4e', '3e', 'SEGPA', 'Professeur-e documentaliste']\n",
    "niveaux_lycee = ['2nde', '1ère', 'Terminale', 'Professeur-e documentaliste']\n",
    "niveaux_lycee_pro = ['Bac Pro', 'CAP']\n",
    "niveaux_autre = ['POST BAC', 'Formateur-trice /Inspecteur-trice']\n",
    "\n",
    "etablissements = ['maternelle', 'elementaire', 'college', 'lycee', 'lycee_pro', 'autre']\n",
    "\n",
    "for etab in etablissements:\n",
    "    df_users[etab] = 0\n",
    "\n",
    "for idx, niveaux_str in df_users['json_niveau'].items():\n",
    "    if isinstance(niveaux_str, str):\n",
    "        try:\n",
    "            niveaux_list = json.loads(niveaux_str)\n",
    "\n",
    "            if any(niveau in niveaux_maternelle for niveau in niveaux_list):\n",
    "                df_users.loc[idx, 'maternelle'] = 1\n",
    "            if any(niveau in niveaux_elementaire for niveau in niveaux_list):\n",
    "                df_users.loc[idx, 'elementaire'] = 1\n",
    "            if any(niveau in niveaux_college for niveau in niveaux_list):\n",
    "                df_users.loc[idx, 'college'] = 1\n",
    "            if any(niveau in niveaux_lycee for niveau in niveaux_list):\n",
    "                df_users.loc[idx, 'lycee'] = 1\n",
    "            if any(niveau in niveaux_lycee_pro for niveau in niveaux_list):\n",
    "                df_users.loc[idx, 'lycee_pro'] = 1\n",
    "            if any(niveau in niveaux_autre for niveau in niveaux_list):\n",
    "                df_users.loc[idx, 'autre'] = 1\n",
    "\n",
    "        except:\n",
    "            pass\n",
    "\n",
    "print(\"Distribution par établissement :\")\n",
    "for etab in etablissements:\n",
    "    count = df_users[etab].sum()\n",
    "    print(f\"{etab}: {count}\")"
   ]
  },
  {
   "cell_type": "markdown",
   "id": "d0be99b9",
   "metadata": {
    "heading_collapsed": true,
    "hidden": true
   },
   "source": [
    "#### Drop `json_niveau`"
   ]
  },
  {
   "cell_type": "code",
   "execution_count": 74,
   "id": "c2475f19",
   "metadata": {
    "hidden": true
   },
   "outputs": [],
   "source": [
    "df_users = df_users.drop('json_niveau', axis=1)"
   ]
  },
  {
   "cell_type": "markdown",
   "id": "2b3b2ba0",
   "metadata": {
    "heading_collapsed": true,
    "hidden": true
   },
   "source": [
    "### `json_etablissement`"
   ]
  },
  {
   "cell_type": "code",
   "execution_count": 79,
   "id": "96047812",
   "metadata": {
    "collapsed": true,
    "hidden": true
   },
   "outputs": [
    {
     "name": "stdout",
     "output_type": "stream",
     "text": [
      "\n",
      "1. Index 182910:\n",
      "   []\n",
      "\n",
      "2. Index 174124:\n",
      "   [{\"id\": 46564, \"nom\": \"Ecole primaire privée Montessori de Lyon\", \"eefe\": false, \"pays\": \"France\", \"ville\": \"Lyon 6e  Arrondissement\", \"region\": \"Auvergne-Rhône-Alpes\", \"adresse\": \"8 rue Barrier\", \"academie\": \"Lyon\", \"code_pays\": \"FRA\", \"code_postal\": \"69006\", \"code_etablissement\": \"0693085D\", \"etat_etablissement\": \"OUVERT\", \"type_etablissement\": \"ECOLE DE NIVEAU ELEMENTAIRE\", \"code_type_etablissement\": \"151\"}]\n",
      "\n",
      "3. Index 180018:\n",
      "   []\n",
      "\n",
      "4. Index 85169:\n",
      "   [{\"id\": 48358, \"nom\": \"Collège Jules Verne\", \"ville\": \"Les Mureaux\", \"region\": \"Ile-de-France\", \"adresse\": \"Rue Albert Thomas\", \"academie\": \"Versailles\", \"code_postal\": \"78130\", \"code_etablissement\": \"0780180X\", \"etat_etablissement\": \"OUVERT\", \"type_etablissement\": \"COLLEGE\"}]\n",
      "\n",
      "5. Index 146421:\n",
      "   [{\"id\": 17424, \"nom\": \"Ecole Primaire\", \"eefe\": false, \"pays\": \"France\", \"ville\": \"Périssac\", \"region\": \"Nouvelle-Aquitaine\", \"adresse\": \"9 avenue des Ecoles\", \"academie\": \"Bordeaux\", \"code_pays\": \"FRA\", \"code_postal\": \"33240\", \"code_etablissement\": \"0330985S\", \"etat_etablissement\": \"OUVERT\", \"type_etablissement\": \"ECOLE DE NIVEAU ELEMENTAIRE\", \"code_type_etablissement\": \"151\"}]\n",
      "\n",
      "6. Index 146836:\n",
      "   [{\"id\": 48110, \"nom\": \"Lycée d'enseignement général Marie Curie\", \"eefe\": false, \"pays\": \"France\", \"ville\": \"Sceaux\", \"region\": \"Ile-de-France\", \"adresse\": \"1 rue Constant Pilate\", \"academie\": \"Versailles\", \"code_pays\": \"FRA\", \"code_postal\": \"92331\", \"code_etablissement\": \"0920146J\", \"etat_etablissement\": \"OUVERT\", \"type_etablissement\": \"LYCEE D ENSEIGNEMENT GENERAL\", \"code_type_etablissement\": \"302\"}]\n",
      "\n",
      "7. Index 67445:\n",
      "   []\n",
      "\n",
      "8. Index 195394:\n",
      "   [{\"id\":36174,\"nom\":\"Ecole primaire privée Saint Joseph\",\"code_etablissement\":\"0593724C\",\"eefe\":false,\"code_pays\":\"FRA\",\"pays\":\"France\",\"ville\":\"Cysoing\",\"region\":\"Hauts-de-France\",\"code_postal\":\"59830\",\"adresse\":\"136 rue Salvador Allende\",\"type_etablissement\":\"ECOLE DE NIVEAU ELEMENTAIRE\",\"code_type_etablissement\":\"151\",\"academie\":\"Lille\",\"etat_etablissement\":\"OUVERT\"}]\n",
      "\n",
      "9. Index 167769:\n",
      "   [{\"id\": 41525, \"nom\": \"Ecole primaire publique\", \"eefe\": false, \"pays\": \"France\", \"ville\": \"Saint-Yrieix-la-Perche\", \"region\": \"Nouvelle-Aquitaine\", \"adresse\": \"Rue Colonel du Garreau de la Méchenie\", \"academie\": \"Limoges\", \"code_pays\": \"FRA\", \"code_postal\": \"87500\", \"code_etablissement\": \"0870498U\", \"etat_etablissement\": \"OUVERT\", \"type_etablissement\": \"ECOLE DE NIVEAU ELEMENTAIRE\", \"code_type_etablissement\": \"151\"}]\n",
      "\n",
      "10. Index 154090:\n",
      "   []\n",
      "\n",
      "==================================================\n",
      "Total d'entrées json_etablissement non-nulles : 152814\n",
      "Valeurs uniques : 68921\n"
     ]
    }
   ],
   "source": [
    "# Extract 10 to see how it's done\n",
    "\n",
    "for i, (idx, etab) in enumerate(df_users['json_etablissement'].dropna().sample(10, random_state=42).items(), 1):\n",
    "    print(f\"\\n{i}. Index {idx}:\")\n",
    "    print(f\"   {etab}\")\n",
    "\n",
    "# Voir quelques stats générales\n",
    "print(f\"\\n\" + \"=\" * 50)\n",
    "print(f\"Total d'entrées json_etablissement non-nulles : {df_users['json_etablissement'].notna().sum()}\")\n",
    "print(f\"Valeurs uniques : {df_users['json_etablissement'].nunique()}\")"
   ]
  },
  {
   "cell_type": "code",
   "execution_count": null,
   "id": "0bcb5e0f",
   "metadata": {
    "hidden": true
   },
   "outputs": [],
   "source": [
    "def extract_etablissement_info(etab_str):\n",
    "    if pd.isna(etab_str)or etab_str == '[]':\n",
    "        return np.nan, np.nan, np.nan\n",
    "\n",
    "    try:\n",
    "        etab_list = json.loads(etab_str)\n",
    "\n",
    "        # Vérifier qu'on a bien une liste non vide\n",
    "        if isinstance(etab_list, list) and len(etab_list) > 0:\n",
    "            etab_obj = etab_list[0]  # Prendre le premier (et probablement unique) établissement\n",
    "\n",
    "            # Extraire les infos avec valeur par défaut 'NR'\n",
    "            code_postal = etab_obj.get('code_postal', 'NR')\n",
    "            academie = etab_obj.get('academie', 'NR')\n",
    "            type_etablissement = etab_obj.get('type_etablissement', 'NR')\n",
    "\n",
    "            return code_postal, academie, type_etablissement\n",
    "        else:\n",
    "            return 'NR', 'NR', 'NR'\n",
    "\n",
    "    except:\n",
    "        return 'NR', 'NR', 'NR'\n",
    "\n",
    "# Appliquer l'extraction et créer les 3 colonnes\n",
    "df_users[['code_postal_etab', 'academie_etab', 'type_etablissement_etab']] = df_users['json_etablissement'].apply(\n",
    "    lambda x: pd.Series(extract_etablissement_info(x))\n",
    ")"
   ]
  },
  {
   "cell_type": "code",
   "execution_count": 81,
   "id": "d8eddac9",
   "metadata": {
    "hidden": true
   },
   "outputs": [
    {
     "data": {
      "text/html": [
       "<div>\n",
       "<style scoped>\n",
       "    .dataframe tbody tr th:only-of-type {\n",
       "        vertical-align: middle;\n",
       "    }\n",
       "\n",
       "    .dataframe tbody tr th {\n",
       "        vertical-align: top;\n",
       "    }\n",
       "\n",
       "    .dataframe thead th {\n",
       "        text-align: right;\n",
       "    }\n",
       "</style>\n",
       "<table border=\"1\" class=\"dataframe\">\n",
       "  <thead>\n",
       "    <tr style=\"text-align: right;\">\n",
       "      <th></th>\n",
       "      <th>code_postal_etab</th>\n",
       "      <th>academie_etab</th>\n",
       "      <th>type_etablissement_etab</th>\n",
       "    </tr>\n",
       "  </thead>\n",
       "  <tbody>\n",
       "    <tr>\n",
       "      <th>0</th>\n",
       "      <td>78770</td>\n",
       "      <td>Versailles</td>\n",
       "      <td>ECOLE MATERNELLE</td>\n",
       "    </tr>\n",
       "    <tr>\n",
       "      <th>1</th>\n",
       "      <td>NaN</td>\n",
       "      <td>NaN</td>\n",
       "      <td>NaN</td>\n",
       "    </tr>\n",
       "    <tr>\n",
       "      <th>2</th>\n",
       "      <td>NaN</td>\n",
       "      <td>NaN</td>\n",
       "      <td>NaN</td>\n",
       "    </tr>\n",
       "    <tr>\n",
       "      <th>3</th>\n",
       "      <td>93260</td>\n",
       "      <td>Créteil</td>\n",
       "      <td>ECOLE MATERNELLE</td>\n",
       "    </tr>\n",
       "    <tr>\n",
       "      <th>4</th>\n",
       "      <td>NaN</td>\n",
       "      <td>NaN</td>\n",
       "      <td>NaN</td>\n",
       "    </tr>\n",
       "    <tr>\n",
       "      <th>...</th>\n",
       "      <td>...</td>\n",
       "      <td>...</td>\n",
       "      <td>...</td>\n",
       "    </tr>\n",
       "    <tr>\n",
       "      <th>198884</th>\n",
       "      <td>69270</td>\n",
       "      <td>Lyon</td>\n",
       "      <td>ECOLE DE NIVEAU ELEMENTAIRE</td>\n",
       "    </tr>\n",
       "    <tr>\n",
       "      <th>198885</th>\n",
       "      <td>NaN</td>\n",
       "      <td>NaN</td>\n",
       "      <td>NaN</td>\n",
       "    </tr>\n",
       "    <tr>\n",
       "      <th>198886</th>\n",
       "      <td>49270</td>\n",
       "      <td>Nantes</td>\n",
       "      <td>ECOLE DE NIVEAU ELEMENTAIRE</td>\n",
       "    </tr>\n",
       "    <tr>\n",
       "      <th>198887</th>\n",
       "      <td>52210</td>\n",
       "      <td>Reims</td>\n",
       "      <td>ECOLE DE NIVEAU ELEMENTAIRE</td>\n",
       "    </tr>\n",
       "    <tr>\n",
       "      <th>198888</th>\n",
       "      <td>77133</td>\n",
       "      <td>Créteil</td>\n",
       "      <td>ECOLE DE NIVEAU ELEMENTAIRE</td>\n",
       "    </tr>\n",
       "  </tbody>\n",
       "</table>\n",
       "<p>198889 rows × 3 columns</p>\n",
       "</div>"
      ],
      "text/plain": [
       "       code_postal_etab academie_etab      type_etablissement_etab\n",
       "0                 78770    Versailles             ECOLE MATERNELLE\n",
       "1                   NaN           NaN                          NaN\n",
       "2                   NaN           NaN                          NaN\n",
       "3                 93260       Créteil             ECOLE MATERNELLE\n",
       "4                   NaN           NaN                          NaN\n",
       "...                 ...           ...                          ...\n",
       "198884            69270          Lyon  ECOLE DE NIVEAU ELEMENTAIRE\n",
       "198885              NaN           NaN                          NaN\n",
       "198886            49270        Nantes  ECOLE DE NIVEAU ELEMENTAIRE\n",
       "198887            52210         Reims  ECOLE DE NIVEAU ELEMENTAIRE\n",
       "198888            77133       Créteil  ECOLE DE NIVEAU ELEMENTAIRE\n",
       "\n",
       "[198889 rows x 3 columns]"
      ]
     },
     "execution_count": 81,
     "metadata": {},
     "output_type": "execute_result"
    }
   ],
   "source": [
    "df_users[['code_postal_etab', 'academie_etab', 'type_etablissement_etab']]"
   ]
  },
  {
   "cell_type": "code",
   "execution_count": null,
   "id": "8fd0c9ad",
   "metadata": {
    "hidden": true
   },
   "outputs": [],
   "source": [
    "def complete_codepostal(row):\n",
    "    codepostal = row['codepostal']\n",
    "    code_postal_etab = row['code_postal_etab']\n",
    "\n",
    "    # Cas 1: codepostal NaN et code_postal_etab NaN → NaN\n",
    "    if pd.isna(codepostal) and pd.isna(code_postal_etab):\n",
    "        return np.nan\n",
    "\n",
    "    # Cas 2: codepostal NaN et code_postal_etab a une valeur → code_postal_etab\n",
    "    elif pd.isna(codepostal) and pd.notna(code_postal_etab):\n",
    "        return code_postal_etab\n",
    "\n",
    "    # Cas 3: codepostal a une valeur et code_postal_etab NaN → ne rien faire (garder codepostal)\n",
    "    elif pd.notna(codepostal) and pd.isna(code_postal_etab):\n",
    "        return codepostal\n",
    "\n",
    "    # Cas 4: codepostal a une valeur et code_postal_etab a une valeur → code_postal_etab (priorité)\n",
    "    elif pd.notna(codepostal) and pd.notna(code_postal_etab):\n",
    "        return code_postal_etab\n",
    "\n",
    "df_users['codepostal'] = df_users.apply(complete_codepostal, axis=1)"
   ]
  },
  {
   "cell_type": "code",
   "execution_count": 111,
   "id": "92503424",
   "metadata": {
    "hidden": true
   },
   "outputs": [
    {
     "data": {
      "text/plain": [
       "False    132194\n",
       "True      66695\n",
       "Name: codepostal, dtype: int64"
      ]
     },
     "execution_count": 111,
     "metadata": {},
     "output_type": "execute_result"
    }
   ],
   "source": [
    "df_users.codepostal.isna().value_counts()"
   ]
  },
  {
   "cell_type": "code",
   "execution_count": 112,
   "id": "302b2398",
   "metadata": {
    "hidden": true
   },
   "outputs": [
    {
     "data": {
      "text/plain": [
       "False    101049\n",
       "True      97840\n",
       "Name: code_postal_etab, dtype: int64"
      ]
     },
     "execution_count": 112,
     "metadata": {},
     "output_type": "execute_result"
    }
   ],
   "source": [
    "df_users.code_postal_etab.isna().value_counts()"
   ]
  },
  {
   "cell_type": "markdown",
   "id": "d1dc0c04",
   "metadata": {
    "hidden": true
   },
   "source": [
    "**Drop `aucun_etablissement`**"
   ]
  },
  {
   "cell_type": "code",
   "execution_count": 113,
   "id": "00085b15",
   "metadata": {
    "hidden": true
   },
   "outputs": [
    {
     "data": {
      "text/plain": [
       "'Column `aucun_etablissement` dropped. New shape : (198889, 43)'"
      ]
     },
     "execution_count": 113,
     "metadata": {},
     "output_type": "execute_result"
    }
   ],
   "source": [
    "drop_col('aucun_etablissement')"
   ]
  },
  {
   "cell_type": "markdown",
   "id": "c38815d5",
   "metadata": {
    "hidden": true
   },
   "source": [
    "**Drop `json_etablissement`**"
   ]
  },
  {
   "cell_type": "code",
   "execution_count": 120,
   "id": "755a6564",
   "metadata": {
    "hidden": true
   },
   "outputs": [
    {
     "data": {
      "text/plain": [
       "'Column `json_etablissement` dropped. New shape : (198889, 42)'"
      ]
     },
     "execution_count": 120,
     "metadata": {},
     "output_type": "execute_result"
    }
   ],
   "source": [
    "drop_col('json_etablissement')"
   ]
  },
  {
   "cell_type": "markdown",
   "id": "a9138097",
   "metadata": {
    "heading_collapsed": true,
    "hidden": true
   },
   "source": [
    "#### Create `departement`"
   ]
  },
  {
   "cell_type": "code",
   "execution_count": null,
   "id": "b6a3771e",
   "metadata": {
    "hidden": true
   },
   "outputs": [],
   "source": [
    "def extract_departement(code_postal):\n",
    "    if pd.isna(code_postal):\n",
    "        return np.nan\n",
    "\n",
    "    # Convertir en string et s'assurer qu'on a 5 chiffres (zfill pour ajouter les 0)\n",
    "    cp = str(code_postal).strip().zfill(5)\n",
    "\n",
    "    # Vérifier que c'est numérique après padding\n",
    "    if not cp.isdigit():\n",
    "        return np.nan\n",
    "\n",
    "    # Cas spéciaux des DOM-TOM (3 chiffres)\n",
    "    if cp.startswith('97') or cp.startswith('98'):\n",
    "        return cp[:3]  # 971, 972, 973, 974, 975, 976, 977, 978, 984, 986, 987, 988\n",
    "\n",
    "    # Cas général (2 chiffres) - garder le zéro initial\n",
    "    return cp[:2]\n",
    "\n",
    "df_users['departement'] = df_users['codepostal'].apply(extract_departement)"
   ]
  },
  {
   "cell_type": "markdown",
   "id": "b160bd3a",
   "metadata": {
    "heading_collapsed": true,
    "hidden": true
   },
   "source": [
    "#### complete `academie_etab`"
   ]
  },
  {
   "cell_type": "code",
   "execution_count": null,
   "id": "44f32b65",
   "metadata": {
    "hidden": true
   },
   "outputs": [],
   "source": [
    "dept_to_academie = {\n",
    "    # Clermont-Ferrand\n",
    "    '03': 'Clermont-Ferrand', '15': 'Clermont-Ferrand', '43': 'Clermont-Ferrand', '63': 'Clermont-Ferrand',\n",
    "\n",
    "    # Grenoble\n",
    "    '07': 'Grenoble', '26': 'Grenoble', '38': 'Grenoble', '73': 'Grenoble', '74': 'Grenoble',\n",
    "\n",
    "    # Lyon\n",
    "    '01': 'Lyon', '42': 'Lyon', '69': 'Lyon', '69D': 'Lyon', '69M': 'Lyon',\n",
    "\n",
    "    # Besançon\n",
    "    '25': 'Besançon', '39': 'Besançon', '70': 'Besançon', '90': 'Besançon',\n",
    "\n",
    "    # Dijon\n",
    "    '21': 'Dijon', '58': 'Dijon', '71': 'Dijon', '89': 'Dijon',\n",
    "\n",
    "    # Rennes\n",
    "    '22': 'Rennes', '29': 'Rennes', '35': 'Rennes', '56': 'Rennes',\n",
    "\n",
    "    # Orléans-Tours\n",
    "    '18': 'Orléans-Tours', '28': 'Orléans-Tours', '36': 'Orléans-Tours', '37': 'Orléans-Tours', '41': 'Orléans-Tours', '45': 'Orléans-Tours',\n",
    "\n",
    "    # Corse\n",
    "    '2A': 'Corse', '2B': 'Corse',\n",
    "\n",
    "    # Nancy-Metz\n",
    "    '54': 'Nancy-Metz', '55': 'Nancy-Metz', '57': 'Nancy-Metz', '88': 'Nancy-Metz',\n",
    "\n",
    "    # Reims\n",
    "    '08': 'Reims', '10': 'Reims', '51': 'Reims', '52': 'Reims',\n",
    "\n",
    "    # Strasbourg\n",
    "    '67': 'Strasbourg', '68': 'Strasbourg',\n",
    "\n",
    "    # Guadeloupe\n",
    "    '971': 'Guadeloupe', '977': 'Guadeloupe', '978': 'Guadeloupe',\n",
    "\n",
    "    # Guyane\n",
    "    '973': 'Guyane',\n",
    "\n",
    "    # Amiens\n",
    "    '02': 'Amiens', '60': 'Amiens', '80': 'Amiens',\n",
    "\n",
    "    # Lille\n",
    "    '59': 'Lille', '62': 'Lille',\n",
    "\n",
    "    # Créteil\n",
    "    '77': 'Créteil', '93': 'Créteil', '94': 'Créteil',\n",
    "\n",
    "    # Paris\n",
    "    '75': 'Paris',\n",
    "\n",
    "    # Versailles\n",
    "    '78': 'Versailles', '91': 'Versailles', '92': 'Versailles', '95': 'Versailles',\n",
    "\n",
    "    # Martinique\n",
    "    '972': 'Martinique',\n",
    "\n",
    "    # Normandie\n",
    "    '14': 'Normandie', '27': 'Normandie', '50': 'Normandie', '61': 'Normandie', '76': 'Normandie', '975': 'Normandie',\n",
    "\n",
    "    # Bordeaux\n",
    "    '24': 'Bordeaux', '33': 'Bordeaux', '40': 'Bordeaux', '47': 'Bordeaux', '64': 'Bordeaux',\n",
    "\n",
    "    # Limoges\n",
    "    '19': 'Limoges', '23': 'Limoges', '87': 'Limoges',\n",
    "\n",
    "    # Poitiers\n",
    "    '16': 'Poitiers', '17': 'Poitiers', '79': 'Poitiers', '86': 'Poitiers',\n",
    "\n",
    "    # Montpellier\n",
    "    '11': 'Montpellier', '30': 'Montpellier', '34': 'Montpellier', '48': 'Montpellier', '66': 'Montpellier',\n",
    "\n",
    "    # Toulouse\n",
    "    '09': 'Toulouse', '12': 'Toulouse', '31': 'Toulouse', '32': 'Toulouse', '46': 'Toulouse', '65': 'Toulouse', '81': 'Toulouse', '82': 'Toulouse',\n",
    "\n",
    "    # Nantes\n",
    "    '44': 'Nantes', '49': 'Nantes', '53': 'Nantes', '72': 'Nantes', '85': 'Nantes',\n",
    "\n",
    "    # Aix-Marseille\n",
    "    '04': 'Aix-Marseille', '05': 'Aix-Marseille', '13': 'Aix-Marseille', '84': 'Aix-Marseille',\n",
    "\n",
    "    # Nice\n",
    "    '06': 'Nice', '83': 'Nice',\n",
    "\n",
    "    # La Réunion\n",
    "    '974': 'La Réunion',\n",
    "\n",
    "    # Mayotte\n",
    "    '976': 'Mayotte'\n",
    "}\n",
    "\n",
    "def complete_academie(row):\n",
    "    academie_etab = row['academie_etab']\n",
    "    departement = row['departement']\n",
    "\n",
    "    if pd.notna(academie_etab):\n",
    "        return academie_etab\n",
    "\n",
    "    if pd.notna(departement) and departement in dept_to_academie:\n",
    "        return dept_to_academie[departement]\n",
    "\n",
    "    return np.nan\n",
    "\n",
    "df_users['academie_etab'] = df_users.apply(complete_academie, axis=1)"
   ]
  },
  {
   "cell_type": "markdown",
   "id": "0e06e78e",
   "metadata": {
    "heading_collapsed": true,
    "hidden": true
   },
   "source": [
    "### `json_discipline`"
   ]
  },
  {
   "cell_type": "code",
   "execution_count": null,
   "id": "6c426e1c",
   "metadata": {
    "hidden": true
   },
   "outputs": [],
   "source": [
    "def extract_discipline(row):\n",
    "    maternelle = row['maternelle']\n",
    "    elementaire = row['elementaire']\n",
    "    json_discipline = row['json_discipline']\n",
    "\n",
    "    # Si maternelle ou élémentaire = 1, on met NaN\n",
    "    if maternelle == 1 or elementaire == 1:\n",
    "        return np.nan\n",
    "\n",
    "    # Sinon, on extrait la première discipline du JSON\n",
    "    if pd.notna(json_discipline):\n",
    "        try:\n",
    "            discipline_list = json.loads(json_discipline)\n",
    "\n",
    "            # Vérifier qu'on a bien une liste non vide\n",
    "            if isinstance(discipline_list, list) and len(discipline_list) > 0:\n",
    "                return discipline_list[0]  # Premier élément au format string\n",
    "            else:\n",
    "                return np.nan\n",
    "        except:\n",
    "            return np.nan\n",
    "\n",
    "    return np.nan\n",
    "\n",
    "# Créer la colonne discipline\n",
    "df_users['discipline'] = df_users.apply(extract_discipline, axis=1)"
   ]
  },
  {
   "cell_type": "code",
   "execution_count": 126,
   "id": "f4e028d0",
   "metadata": {
    "hidden": true
   },
   "outputs": [
    {
     "data": {
      "text/plain": [
       "'Column `json_discipline` dropped. New shape : (198889, 43)'"
      ]
     },
     "execution_count": 126,
     "metadata": {},
     "output_type": "execute_result"
    }
   ],
   "source": [
    "drop_col('json_discipline')"
   ]
  },
  {
   "cell_type": "markdown",
   "id": "2817d83e",
   "metadata": {
    "heading_collapsed": true,
    "hidden": true
   },
   "source": [
    "### Explore `json_metadata`"
   ]
  },
  {
   "cell_type": "code",
   "execution_count": 130,
   "id": "500628a1",
   "metadata": {
    "collapsed": true,
    "hidden": true
   },
   "outputs": [
    {
     "name": "stdout",
     "output_type": "stream",
     "text": [
      "\n",
      "1. Index 124196:\n",
      "   [{\"key\": \"newsletter\", \"value\": \"false\", \"created_at\": \"2023-02-03T22:01:53.360Z\", \"updated_at\": \"2023-02-03T22:03:27.960Z\"}, {\"key\": \"etablissement_1\", \"value\": \"0100375D - Ecole élémentaire Saint-Exupéry 10420 - Academie de Reims\", \"created_at\": \"2023-02-03T22:01:53.360Z\", \"updated_at\": \"2023-02-03T22:03:27.960Z\"}, {\"key\": \"etablissement_2\", \"value\": \"\", \"created_at\": \"2023-02-03T22:01:53.360Z\", \"updated_at\": \"2023-02-03T22:03:27.960Z\"}, {\"key\": \"etablissement_3\", \"value\": \"\", \"created_at\": \"2023-02-03T22:01:53.360Z\", \"updated_at\": \"2023-02-03T22:03:27.960Z\"}, {\"key\": \"etablissement_4\", \"value\": \"\", \"created_at\": \"2023-02-03T22:01:53.360Z\", \"updated_at\": \"2023-02-03T22:03:27.960Z\"}, {\"key\": \"etablissement_5\", \"value\": \"\", \"created_at\": \"2023-02-03T22:01:53.360Z\", \"updated_at\": \"2023-02-03T22:03:27.960Z\"}, {\"key\": \"etablissement_6\", \"value\": \"\", \"created_at\": \"2023-02-03T22:01:53.360Z\", \"updated_at\": \"2023-02-03T22:03:27.960Z\"}, {\"key\": \"telechargement_sequence_14\", \"value\": \"true\", \"created_at\": \"2023-02-03T22:01:53.360Z\", \"updated_at\": \"2023-02-03T22:03:27.960Z\"}, {\"key\": \"premier_atelier\", \"value\": true, \"created_at\": \"2023-02-03T22:03:30.217Z\", \"updated_at\": \"2023-02-03T22:03:30.217Z\"}, {\"key\": \"premiere_fiche_outils\", \"value\": true, \"created_at\": \"2023-03-02T19:51:10.813Z\", \"updated_at\": \"2023-03-02T19:51:10.813Z\"}, {\"key\": \"telechargement_fiche_outils_167\", \"value\": true, \"created_at\": \"2023-03-02T19:51:11.442Z\", \"updated_at\": \"2023-03-02T19:51:11.442Z\"}, {\"key\": \"programme_thematique\", \"value\": \"ei-s-pbe, te-o-ppp\", \"created_at\": \"\", \"updated_at\": \"\"}]\n",
      "\n",
      "2. Index 58850:\n",
      "   [{\"key\": \"etablissement_1\", \"value\": \"0710167W - Ecole maternelle Vivant Denon 71100 - Academie de Dijon\", \"created_at\": \"2023-02-09T16:14:00.264Z\", \"updated_at\": \"2023-08-17T13:14:43.363Z\"}, {\"key\": \"etablissement_2\", \"value\": \"0711721K - Ecole primaire Vivant Denon 71100 - Academie de Dijon\", \"created_at\": \"2023-02-09T16:14:00.264Z\", \"updated_at\": \"2023-08-17T13:14:43.363Z\"}, {\"key\": \"etablissement_3\", \"value\": \"\", \"created_at\": \"2023-02-09T16:14:00.264Z\", \"updated_at\": \"2023-08-17T13:14:43.363Z\"}, {\"key\": \"etablissement_4\", \"value\": \"\", \"created_at\": \"2023-02-09T16:14:00.264Z\", \"updated_at\": \"2023-08-17T13:14:43.363Z\"}, {\"key\": \"etablissement_5\", \"value\": \"\", \"created_at\": \"2023-02-09T16:14:00.264Z\", \"updated_at\": \"2023-08-17T13:14:43.363Z\"}, {\"key\": \"etablissement_6\", \"value\": \"\", \"created_at\": \"2023-02-09T16:14:00.264Z\", \"updated_at\": \"2023-08-17T13:14:43.363Z\"}, {\"key\": \"telechargement_guide_pratique_3\", \"value\": \"true\", \"created_at\": \"2023-02-09T16:14:00.264Z\", \"updated_at\": \"2023-08-17T13:14:43.363Z\"}, {\"key\": \"premier_guide_pratique\", \"value\": \"true\", \"created_at\": \"2023-02-09T16:15:38.906Z\", \"updated_at\": \"2023-08-17T13:14:43.363Z\"}, {\"key\": \"telechargement_guide_pratique_10\", \"value\": \"true\", \"created_at\": \"2023-02-09T16:15:39.782Z\", \"updated_at\": \"2023-08-17T13:14:43.363Z\"}, {\"key\": \"telechargement_fiche_outils_133\", \"value\": true, \"created_at\": \"2023-08-17T13:14:45.505Z\", \"updated_at\": \"2023-08-17T13:14:45.505Z\"}, {\"key\": \"telechargement_alma_5\", \"value\": \"true\", \"created_at\": \"2023-09-14T23:34:31.665Z\", \"updated_at\": \"2023-09-14T23:35:29.100Z\"}, {\"key\": \"almastudio\", \"value\": \"true\", \"created_at\": \"2023-09-14T23:34:31.665Z\", \"updated_at\": \"2023-09-14T23:35:29.100Z\"}, {\"key\": \"programme_thematique\", \"value\": null, \"created_at\": \"\", \"updated_at\": \"\"}]\n",
      "\n",
      "3. Index 142029:\n",
      "   [{\"key\": \"newsletter\", \"value\": \"false\", \"created_at\": \"2023-08-15T19:44:33.265Z\", \"updated_at\": \"2023-08-15T19:44:33.265Z\"}, {\"key\": \"etablissement_1\", \"value\": \"0711054K - Collège Saint-Exupéry 71003 - Academie de Dijon\", \"created_at\": \"2023-08-15T19:44:33.265Z\", \"updated_at\": \"2023-08-15T19:44:33.265Z\"}, {\"key\": \"etablissement_2\", \"value\": \"\", \"created_at\": \"2023-08-15T19:44:33.265Z\", \"updated_at\": \"2023-08-15T19:44:33.265Z\"}, {\"key\": \"etablissement_3\", \"value\": \"\", \"created_at\": \"2023-08-15T19:44:33.265Z\", \"updated_at\": \"2023-08-15T19:44:33.265Z\"}, {\"key\": \"etablissement_4\", \"value\": \"\", \"created_at\": \"2023-08-15T19:44:33.265Z\", \"updated_at\": \"2023-08-15T19:44:33.265Z\"}, {\"key\": \"etablissement_5\", \"value\": \"\", \"created_at\": \"2023-08-15T19:44:33.265Z\", \"updated_at\": \"2023-08-15T19:44:33.265Z\"}, {\"key\": \"etablissement_6\", \"value\": \"\", \"created_at\": \"2023-08-15T19:44:33.265Z\", \"updated_at\": \"2023-08-15T19:44:33.265Z\"}, {\"key\": \"inscrit_atelier_505\", \"value\": true, \"created_at\": \"2023-08-15T19:44:35.684Z\", \"updated_at\": \"2023-08-15T19:44:35.684Z\"}, {\"key\": \"premier_atelier\", \"value\": true, \"created_at\": \"2023-08-15T19:44:35.972Z\", \"updated_at\": \"2023-08-15T19:44:35.972Z\"}, {\"key\": \"programme_thematique\", \"value\": \"ei-a-ppa, ei-f-ppa, ei-o-obe\", \"created_at\": \"\", \"updated_at\": \"\"}]\n",
      "\n",
      "4. Index 42009:\n",
      "   [{\"key\": \"inscrit_caprentree\", \"value\": \"true\", \"created_at\": \"2020-08-28T10:29:40.815Z\", \"updated_at\": \"2020-08-28T10:29:40.815Z\"}, {\"key\": \"programme_thematique\", \"value\": null, \"created_at\": \"\", \"updated_at\": \"\"}]\n",
      "\n",
      "5. Index 119088:\n",
      "   [{\"key\": \"newsletter\", \"value\": \"false\", \"created_at\": \"2022-12-04T09:21:01.805Z\", \"updated_at\": \"2022-12-04T09:21:01.805Z\"}, {\"key\": \"telechargement_guide_pratique_294\", \"value\": \"true\", \"created_at\": \"2022-12-04T09:21:01.805Z\", \"updated_at\": \"2022-12-04T09:21:01.805Z\"}, {\"key\": \"programme_thematique\", \"value\": null, \"created_at\": \"\", \"updated_at\": \"\"}]\n",
      "\n",
      "6. Index 179523:\n",
      "   [{\"key\": \"newsletter\", \"value\": \"true\", \"created_at\": \"2024-08-07T00:31:52.938Z\", \"updated_at\": \"2024-08-07T00:31:53.488Z\"}, {\"key\": \"inscrit_kit_pedagogie_universelle\", \"value\": \"true\", \"created_at\": \"2024-08-07T00:31:53.488Z\", \"updated_at\": \"2024-08-07T00:31:53.488Z\"}, {\"key\": \"premier_dispositif\", \"value\": \"true\", \"created_at\": \"2024-08-07T00:31:53.488Z\", \"updated_at\": \"2024-08-07T00:31:53.488Z\"}, {\"key\": \"etablissement_1\", \"value\": \"0060932F - Ecole élémentaire La Corniche Fleurie 6200 - Academie de Nice\", \"created_at\": \"2024-08-07T00:31:53.488Z\", \"updated_at\": \"2024-08-07T00:31:53.488Z\"}, {\"key\": \"etablissement_2\", \"value\": \"\", \"created_at\": \"2024-08-07T00:31:53.488Z\", \"updated_at\": \"2024-08-07T00:31:53.488Z\"}, {\"key\": \"etablissement_3\", \"value\": \"\", \"created_at\": \"2024-08-07T00:31:53.488Z\", \"updated_at\": \"2024-08-07T00:31:53.488Z\"}, {\"key\": \"etablissement_4\", \"value\": \"\", \"created_at\": \"2024-08-07T00:31:53.488Z\", \"updated_at\": \"2024-08-07T00:31:53.488Z\"}, {\"key\": \"etablissement_5\", \"value\": \"\", \"created_at\": \"2024-08-07T00:31:53.488Z\", \"updated_at\": \"2024-08-07T00:31:53.488Z\"}, {\"key\": \"etablissement_6\", \"value\": \"\", \"created_at\": \"2024-08-07T00:31:53.488Z\", \"updated_at\": \"2024-08-07T00:31:53.488Z\"}]\n",
      "\n",
      "7. Index 1224:\n",
      "   [{\"key\": \"anciennete\", \"value\": \"1\", \"created_at\": \"2017-08-21 13:12:07\", \"updated_at\": \"2017-08-21 13:12:07\"}, {\"key\": \"kit_survie\", \"value\": \"1\", \"created_at\": \"2017-08-21 13:12:07\", \"updated_at\": \"2017-08-21 13:12:07\"}, {\"key\": \"genre\", \"value\": \"F\", \"created_at\": \"2017-08-21 13:15:31\", \"updated_at\": \"2017-08-21 13:15:31\"}, {\"key\": \"bio\", \"value\": \"Enseignante depuis un an, dans le Val de Marne (94). \", \"created_at\": \"2017-08-21 13:15:31\", \"updated_at\": \"2017-08-21 13:15:32\"}, {\"key\": \"competence[315]\", \"value\": \"competence\", \"created_at\": \"2017-08-21 13:16:36\", \"updated_at\": \"2017-08-21 13:16:36\"}, {\"key\": \"competence[316]\", \"value\": \"competence\", \"created_at\": \"2017-08-21 13:16:36\", \"updated_at\": \"2017-08-21 13:16:36\"}, {\"key\": \"competence[317]\", \"value\": \"competence\", \"created_at\": \"2017-08-21 13:16:36\", \"updated_at\": \"2017-08-21 13:16:36\"}, {\"key\": \"competence[318]\", \"value\": \"competence\", \"created_at\": \"2017-08-21 13:16:36\", \"updated_at\": \"2017-08-21 13:16:36\"}, {\"key\": \"competence[319]\", \"value\": \"competence\", \"created_at\": \"2017-08-21 13:16:36\", \"updated_at\": \"2017-08-21 13:16:36\"}, {\"key\": \"competence[320]\", \"value\": \"competence\", \"created_at\": \"2017-08-21 13:16:36\", \"updated_at\": \"2017-08-21 13:16:36\"}, {\"key\": \"competence[321]\", \"value\": \"competence\", \"created_at\": \"2017-08-21 13:16:36\", \"updated_at\": \"2017-08-21 13:16:36\"}, {\"key\": \"competence[322]\", \"value\": \"competence\", \"created_at\": \"2017-08-21 13:16:36\", \"updated_at\": \"2017-08-21 13:16:36\"}, {\"key\": \"programme_thematique\", \"value\": null, \"created_at\": \"\", \"updated_at\": \"\"}]\n",
      "\n",
      "8. Index 51010:\n",
      "   [{\"key\": \"inscrit_caprentree\", \"value\": \"true\", \"created_at\": \"2020-10-19T17:07:16.928Z\", \"updated_at\": \"2020-10-19T17:07:16.928Z\"}, {\"key\": \"programme_thematique\", \"value\": null, \"created_at\": \"\", \"updated_at\": \"\"}]\n",
      "\n",
      "9. Index 192256:\n",
      "   [{\"key\":\"newsletter\",\"value\":\"true\",\"created_at\":\"2025-02-17T10:15:06.613Z\",\"updated_at\":\"2025-02-17T10:15:07.335Z\"},{\"key\":\"premier_guide_pratique\",\"value\":true,\"created_at\":\"2025-02-17T10:15:08.793Z\",\"updated_at\":\"2025-02-17T10:15:08.793Z\"},{\"key\":\"telechargement_guide_pratique_294\",\"value\":true,\"created_at\":\"2025-02-17T10:15:09.559Z\",\"updated_at\":\"2025-02-17T10:15:09.559Z\"},{\"key\":\"programme_thematique\",\"value\":\"ei-o-obe, ei-a-ppa, ei-f-ppa\",\"created_at\":\"2025-02-17T10:15:09.559Z\",\"updated_at\":\"2025-02-17T12:37:50.341Z\"},{\"key\":\"premiere_fiche_outils\",\"value\":true,\"created_at\":\"2025-02-17T10:52:52.422Z\",\"updated_at\":\"2025-02-17T10:52:52.422Z\"},{\"key\":\"telechargement_fiche_outils_50\",\"value\":true,\"created_at\":\"2025-02-17T10:52:53.180Z\",\"updated_at\":\"2025-02-17T10:52:53.180Z\"},{\"key\":\"telechargement_guide_pratique_425\",\"value\":true,\"created_at\":\"2025-02-17T12:42:17.043Z\",\"updated_at\":\"2025-02-17T12:42:17.043Z\"}]\n",
      "\n",
      "10. Index 39648:\n",
      "   [{\"key\": \"inscrit_caprentree\", \"value\": \"true\", \"created_at\": \"2020-08-24T19:26:17.906Z\", \"updated_at\": \"2020-08-24T19:26:17.906Z\"}, {\"key\": \"programme_thematique\", \"value\": null, \"created_at\": \"\", \"updated_at\": \"\"}]\n",
      "\n",
      "==================================================\n",
      "Total d'entrées json_metadata non-nulles : 193717\n"
     ]
    },
    {
     "name": "stdout",
     "output_type": "stream",
     "text": [
      "Valeurs uniques : 186695\n"
     ]
    }
   ],
   "source": [
    "# Extract 10 to see how it's done\n",
    "\n",
    "for i, (idx, etab) in enumerate(df_users['json_metadata'].dropna().sample(10, random_state=42).items(), 1):\n",
    "    print(f\"\\n{i}. Index {idx}:\")\n",
    "    print(f\"   {etab}\")\n",
    "\n",
    "# Voir quelques stats générales\n",
    "print(f\"\\n\" + \"=\" * 50)\n",
    "print(f\"Total d'entrées json_metadata non-nulles : {df_users['json_metadata'].notna().sum()}\")\n",
    "print(f\"Valeurs uniques : {df_users['json_metadata'].nunique()}\")"
   ]
  },
  {
   "cell_type": "markdown",
   "id": "ed02fbcb",
   "metadata": {
    "hidden": true
   },
   "source": [
    "**Theses data will be completed with interaction_events**  \n",
    "So, let's drop the column"
   ]
  },
  {
   "cell_type": "code",
   "execution_count": 131,
   "id": "833890be",
   "metadata": {
    "hidden": true
   },
   "outputs": [
    {
     "data": {
      "text/plain": [
       "'Column `json_metadata` dropped. New shape : (198889, 42)'"
      ]
     },
     "execution_count": 131,
     "metadata": {},
     "output_type": "execute_result"
    }
   ],
   "source": [
    "drop_col('json_metadata')"
   ]
  },
  {
   "cell_type": "markdown",
   "id": "9f239f97",
   "metadata": {
    "heading_collapsed": true,
    "hidden": true
   },
   "source": [
    "### Update `anciennete`"
   ]
  },
  {
   "cell_type": "code",
   "execution_count": null,
   "id": "653313e9",
   "metadata": {
    "hidden": true
   },
   "outputs": [],
   "source": [
    "def update_anciennete(row):\n",
    "    anciennete = row['anciennete']\n",
    "    created_at = row['created_at']\n",
    "\n",
    "    if pd.isna(created_at):\n",
    "        return anciennete\n",
    "\n",
    "    try:\n",
    "        if isinstance(created_at, str):\n",
    "            created_date = pd.to_datetime(created_at)\n",
    "        else:\n",
    "            created_date = created_at\n",
    "\n",
    "        annee_creation = created_date.year\n",
    "        ecart_annees = 2025 - annee_creation\n",
    "\n",
    "        if pd.isna(anciennete):\n",
    "            return ecart_annees\n",
    "\n",
    "        return anciennete + ecart_annees\n",
    "\n",
    "    except:\n",
    "        return anciennete\n",
    "\n",
    "df_users['anciennete'] = df_users.apply(update_anciennete, axis=1)"
   ]
  },
  {
   "cell_type": "markdown",
   "id": "1b31decd",
   "metadata": {
    "heading_collapsed": true,
    "hidden": true
   },
   "source": [
    "### Only need day, not time in `created_at`"
   ]
  },
  {
   "cell_type": "code",
   "execution_count": 151,
   "id": "1e50d1eb",
   "metadata": {
    "hidden": true
   },
   "outputs": [],
   "source": [
    "df_users['created_at'] = pd.to_datetime(df_users['created_at']).dt.date"
   ]
  },
  {
   "cell_type": "markdown",
   "id": "1c7df2a3",
   "metadata": {},
   "source": [
    "## Global view of table"
   ]
  },
  {
   "cell_type": "code",
   "execution_count": 133,
   "id": "87327fdf",
   "metadata": {},
   "outputs": [
    {
     "data": {
      "text/plain": [
       "(198889, 42)"
      ]
     },
     "execution_count": 133,
     "metadata": {},
     "output_type": "execute_result"
    }
   ],
   "source": [
    "df_users.shape"
   ]
  },
  {
   "cell_type": "code",
   "execution_count": 134,
   "id": "9515766b",
   "metadata": {},
   "outputs": [
    {
     "data": {
      "text/plain": [
       "Index(['id', 'statut_infolettre', 'statut_mailchimp', 'codepostal',\n",
       "       'anciennete', 'created_at', 'niveau_1ere', 'niveau_2nde', 'niveau_3e',\n",
       "       'niveau_4e', 'niveau_5e', 'niveau_6e', 'niveau_ash', 'niveau_bac_pro',\n",
       "       'niveau_cap', 'niveau_ce1', 'niveau_ce2', 'niveau_cm1', 'niveau_cm2',\n",
       "       'niveau_cp', 'niveau_direction',\n",
       "       'niveau_formateur_trice_/inspecteur_trice', 'niveau_gs', 'niveau_ms',\n",
       "       'niveau_post_bac', 'niveau_ps', 'niveau_professeur_e_documentaliste',\n",
       "       'niveau_segpa', 'niveau_tps', 'niveau_terminale', 'degre', 'maternelle',\n",
       "       'elementaire', 'college', 'lycee', 'lycee_pro', 'autre',\n",
       "       'code_postal_etab', 'academie_etab', 'type_etablissement_etab',\n",
       "       'departement', 'discipline'],\n",
       "      dtype='object')"
      ]
     },
     "execution_count": 134,
     "metadata": {},
     "output_type": "execute_result"
    }
   ],
   "source": [
    "df_users.columns"
   ]
  },
  {
   "cell_type": "code",
   "execution_count": 135,
   "id": "402a4099",
   "metadata": {},
   "outputs": [
    {
     "data": {
      "text/plain": [
       "id                                            int64\n",
       "statut_infolettre                             int64\n",
       "statut_mailchimp                             object\n",
       "codepostal                                   object\n",
       "anciennete                                  float64\n",
       "created_at                                   object\n",
       "niveau_1ere                                   int64\n",
       "niveau_2nde                                   int64\n",
       "niveau_3e                                     int64\n",
       "niveau_4e                                     int64\n",
       "niveau_5e                                     int64\n",
       "niveau_6e                                     int64\n",
       "niveau_ash                                    int64\n",
       "niveau_bac_pro                                int64\n",
       "niveau_cap                                    int64\n",
       "niveau_ce1                                    int64\n",
       "niveau_ce2                                    int64\n",
       "niveau_cm1                                    int64\n",
       "niveau_cm2                                    int64\n",
       "niveau_cp                                     int64\n",
       "niveau_direction                              int64\n",
       "niveau_formateur_trice_/inspecteur_trice      int64\n",
       "niveau_gs                                     int64\n",
       "niveau_ms                                     int64\n",
       "niveau_post_bac                               int64\n",
       "niveau_ps                                     int64\n",
       "niveau_professeur_e_documentaliste            int64\n",
       "niveau_segpa                                  int64\n",
       "niveau_tps                                    int64\n",
       "niveau_terminale                              int64\n",
       "degre                                         int64\n",
       "maternelle                                    int64\n",
       "elementaire                                   int64\n",
       "college                                       int64\n",
       "lycee                                         int64\n",
       "lycee_pro                                     int64\n",
       "autre                                         int64\n",
       "code_postal_etab                             object\n",
       "academie_etab                                object\n",
       "type_etablissement_etab                      object\n",
       "departement                                  object\n",
       "discipline                                   object\n",
       "dtype: object"
      ]
     },
     "execution_count": 135,
     "metadata": {},
     "output_type": "execute_result"
    }
   ],
   "source": [
    "df_users.dtypes"
   ]
  },
  {
   "cell_type": "code",
   "execution_count": 152,
   "id": "3a516fea",
   "metadata": {},
   "outputs": [
    {
     "data": {
      "text/html": [
       "<div>\n",
       "<style scoped>\n",
       "    .dataframe tbody tr th:only-of-type {\n",
       "        vertical-align: middle;\n",
       "    }\n",
       "\n",
       "    .dataframe tbody tr th {\n",
       "        vertical-align: top;\n",
       "    }\n",
       "\n",
       "    .dataframe thead th {\n",
       "        text-align: right;\n",
       "    }\n",
       "</style>\n",
       "<table border=\"1\" class=\"dataframe\">\n",
       "  <thead>\n",
       "    <tr style=\"text-align: right;\">\n",
       "      <th></th>\n",
       "      <th>id</th>\n",
       "      <th>statut_infolettre</th>\n",
       "      <th>statut_mailchimp</th>\n",
       "      <th>codepostal</th>\n",
       "      <th>anciennete</th>\n",
       "      <th>created_at</th>\n",
       "      <th>niveau_1ere</th>\n",
       "      <th>niveau_2nde</th>\n",
       "      <th>niveau_3e</th>\n",
       "      <th>niveau_4e</th>\n",
       "      <th>...</th>\n",
       "      <th>elementaire</th>\n",
       "      <th>college</th>\n",
       "      <th>lycee</th>\n",
       "      <th>lycee_pro</th>\n",
       "      <th>autre</th>\n",
       "      <th>code_postal_etab</th>\n",
       "      <th>academie_etab</th>\n",
       "      <th>type_etablissement_etab</th>\n",
       "      <th>departement</th>\n",
       "      <th>discipline</th>\n",
       "    </tr>\n",
       "  </thead>\n",
       "  <tbody>\n",
       "    <tr>\n",
       "      <th>150199</th>\n",
       "      <td>156779</td>\n",
       "      <td>0</td>\n",
       "      <td>subscribed</td>\n",
       "      <td>91150</td>\n",
       "      <td>10.0</td>\n",
       "      <td>2023-09-09</td>\n",
       "      <td>0</td>\n",
       "      <td>0</td>\n",
       "      <td>0</td>\n",
       "      <td>1</td>\n",
       "      <td>...</td>\n",
       "      <td>0</td>\n",
       "      <td>1</td>\n",
       "      <td>0</td>\n",
       "      <td>0</td>\n",
       "      <td>0</td>\n",
       "      <td>91150</td>\n",
       "      <td>Versailles</td>\n",
       "      <td>ECOLE DE NIVEAU ELEMENTAIRE</td>\n",
       "      <td>91</td>\n",
       "      <td>NaN</td>\n",
       "    </tr>\n",
       "    <tr>\n",
       "      <th>59457</th>\n",
       "      <td>64162</td>\n",
       "      <td>0</td>\n",
       "      <td>cleaned</td>\n",
       "      <td>93000</td>\n",
       "      <td>4.0</td>\n",
       "      <td>2021-03-10</td>\n",
       "      <td>0</td>\n",
       "      <td>0</td>\n",
       "      <td>0</td>\n",
       "      <td>0</td>\n",
       "      <td>...</td>\n",
       "      <td>1</td>\n",
       "      <td>0</td>\n",
       "      <td>0</td>\n",
       "      <td>0</td>\n",
       "      <td>0</td>\n",
       "      <td>NaN</td>\n",
       "      <td>Créteil</td>\n",
       "      <td>NaN</td>\n",
       "      <td>93</td>\n",
       "      <td>NaN</td>\n",
       "    </tr>\n",
       "    <tr>\n",
       "      <th>27777</th>\n",
       "      <td>30806</td>\n",
       "      <td>1</td>\n",
       "      <td>subscribed</td>\n",
       "      <td>NaN</td>\n",
       "      <td>5.0</td>\n",
       "      <td>2020-03-09</td>\n",
       "      <td>0</td>\n",
       "      <td>0</td>\n",
       "      <td>0</td>\n",
       "      <td>0</td>\n",
       "      <td>...</td>\n",
       "      <td>1</td>\n",
       "      <td>0</td>\n",
       "      <td>0</td>\n",
       "      <td>0</td>\n",
       "      <td>0</td>\n",
       "      <td>NaN</td>\n",
       "      <td>NaN</td>\n",
       "      <td>NaN</td>\n",
       "      <td>NaN</td>\n",
       "      <td>NaN</td>\n",
       "    </tr>\n",
       "    <tr>\n",
       "      <th>145045</th>\n",
       "      <td>151489</td>\n",
       "      <td>0</td>\n",
       "      <td>subscribed</td>\n",
       "      <td>88204</td>\n",
       "      <td>25.0</td>\n",
       "      <td>2023-08-28</td>\n",
       "      <td>0</td>\n",
       "      <td>0</td>\n",
       "      <td>0</td>\n",
       "      <td>0</td>\n",
       "      <td>...</td>\n",
       "      <td>0</td>\n",
       "      <td>0</td>\n",
       "      <td>1</td>\n",
       "      <td>0</td>\n",
       "      <td>1</td>\n",
       "      <td>88204</td>\n",
       "      <td>Nancy-Metz</td>\n",
       "      <td>LYCEE POLYVALENT</td>\n",
       "      <td>88</td>\n",
       "      <td>Sciences et technologies</td>\n",
       "    </tr>\n",
       "    <tr>\n",
       "      <th>8377</th>\n",
       "      <td>9550</td>\n",
       "      <td>1</td>\n",
       "      <td>subscribed</td>\n",
       "      <td>62960</td>\n",
       "      <td>8.0</td>\n",
       "      <td>2018-07-11</td>\n",
       "      <td>0</td>\n",
       "      <td>0</td>\n",
       "      <td>1</td>\n",
       "      <td>1</td>\n",
       "      <td>...</td>\n",
       "      <td>0</td>\n",
       "      <td>1</td>\n",
       "      <td>0</td>\n",
       "      <td>0</td>\n",
       "      <td>0</td>\n",
       "      <td>NaN</td>\n",
       "      <td>Lille</td>\n",
       "      <td>NaN</td>\n",
       "      <td>62</td>\n",
       "      <td>Langues vivantes</td>\n",
       "    </tr>\n",
       "    <tr>\n",
       "      <th>74750</th>\n",
       "      <td>79736</td>\n",
       "      <td>1</td>\n",
       "      <td>subscribed</td>\n",
       "      <td>NaN</td>\n",
       "      <td>35.0</td>\n",
       "      <td>2021-08-24</td>\n",
       "      <td>0</td>\n",
       "      <td>0</td>\n",
       "      <td>0</td>\n",
       "      <td>0</td>\n",
       "      <td>...</td>\n",
       "      <td>0</td>\n",
       "      <td>0</td>\n",
       "      <td>0</td>\n",
       "      <td>0</td>\n",
       "      <td>0</td>\n",
       "      <td>NaN</td>\n",
       "      <td>NaN</td>\n",
       "      <td>NaN</td>\n",
       "      <td>NaN</td>\n",
       "      <td>NaN</td>\n",
       "    </tr>\n",
       "    <tr>\n",
       "      <th>33783</th>\n",
       "      <td>37473</td>\n",
       "      <td>1</td>\n",
       "      <td>subscribed</td>\n",
       "      <td>14100</td>\n",
       "      <td>31.0</td>\n",
       "      <td>2020-07-28</td>\n",
       "      <td>0</td>\n",
       "      <td>0</td>\n",
       "      <td>0</td>\n",
       "      <td>0</td>\n",
       "      <td>...</td>\n",
       "      <td>1</td>\n",
       "      <td>0</td>\n",
       "      <td>0</td>\n",
       "      <td>0</td>\n",
       "      <td>0</td>\n",
       "      <td>NaN</td>\n",
       "      <td>Normandie</td>\n",
       "      <td>NaN</td>\n",
       "      <td>14</td>\n",
       "      <td>NaN</td>\n",
       "    </tr>\n",
       "    <tr>\n",
       "      <th>17481</th>\n",
       "      <td>19306</td>\n",
       "      <td>1</td>\n",
       "      <td>subscribed</td>\n",
       "      <td>NaN</td>\n",
       "      <td>6.0</td>\n",
       "      <td>2019-02-26</td>\n",
       "      <td>0</td>\n",
       "      <td>0</td>\n",
       "      <td>0</td>\n",
       "      <td>0</td>\n",
       "      <td>...</td>\n",
       "      <td>0</td>\n",
       "      <td>0</td>\n",
       "      <td>0</td>\n",
       "      <td>0</td>\n",
       "      <td>0</td>\n",
       "      <td>NaN</td>\n",
       "      <td>NaN</td>\n",
       "      <td>NaN</td>\n",
       "      <td>NaN</td>\n",
       "      <td>NaN</td>\n",
       "    </tr>\n",
       "    <tr>\n",
       "      <th>157350</th>\n",
       "      <td>164162</td>\n",
       "      <td>0</td>\n",
       "      <td>subscribed</td>\n",
       "      <td>64000</td>\n",
       "      <td>6.0</td>\n",
       "      <td>2023-10-11</td>\n",
       "      <td>0</td>\n",
       "      <td>0</td>\n",
       "      <td>0</td>\n",
       "      <td>0</td>\n",
       "      <td>...</td>\n",
       "      <td>0</td>\n",
       "      <td>0</td>\n",
       "      <td>0</td>\n",
       "      <td>0</td>\n",
       "      <td>0</td>\n",
       "      <td>64000</td>\n",
       "      <td>Bordeaux</td>\n",
       "      <td>ECOLE DE NIVEAU ELEMENTAIRE</td>\n",
       "      <td>64</td>\n",
       "      <td>NaN</td>\n",
       "    </tr>\n",
       "    <tr>\n",
       "      <th>104591</th>\n",
       "      <td>110310</td>\n",
       "      <td>1</td>\n",
       "      <td>unsubscribed</td>\n",
       "      <td>88000</td>\n",
       "      <td>27.0</td>\n",
       "      <td>2022-08-22</td>\n",
       "      <td>0</td>\n",
       "      <td>0</td>\n",
       "      <td>0</td>\n",
       "      <td>0</td>\n",
       "      <td>...</td>\n",
       "      <td>1</td>\n",
       "      <td>0</td>\n",
       "      <td>0</td>\n",
       "      <td>0</td>\n",
       "      <td>0</td>\n",
       "      <td>88000</td>\n",
       "      <td>Nancy-Metz</td>\n",
       "      <td>ECOLE DE NIVEAU ELEMENTAIRE</td>\n",
       "      <td>88</td>\n",
       "      <td>NaN</td>\n",
       "    </tr>\n",
       "  </tbody>\n",
       "</table>\n",
       "<p>10 rows × 42 columns</p>\n",
       "</div>"
      ],
      "text/plain": [
       "            id  statut_infolettre statut_mailchimp codepostal  anciennete  \\\n",
       "150199  156779                  0       subscribed      91150        10.0   \n",
       "59457    64162                  0          cleaned      93000         4.0   \n",
       "27777    30806                  1       subscribed        NaN         5.0   \n",
       "145045  151489                  0       subscribed      88204        25.0   \n",
       "8377      9550                  1       subscribed      62960         8.0   \n",
       "74750    79736                  1       subscribed        NaN        35.0   \n",
       "33783    37473                  1       subscribed      14100        31.0   \n",
       "17481    19306                  1       subscribed        NaN         6.0   \n",
       "157350  164162                  0       subscribed      64000         6.0   \n",
       "104591  110310                  1     unsubscribed      88000        27.0   \n",
       "\n",
       "        created_at  niveau_1ere  niveau_2nde  niveau_3e  niveau_4e  ...  \\\n",
       "150199  2023-09-09            0            0          0          1  ...   \n",
       "59457   2021-03-10            0            0          0          0  ...   \n",
       "27777   2020-03-09            0            0          0          0  ...   \n",
       "145045  2023-08-28            0            0          0          0  ...   \n",
       "8377    2018-07-11            0            0          1          1  ...   \n",
       "74750   2021-08-24            0            0          0          0  ...   \n",
       "33783   2020-07-28            0            0          0          0  ...   \n",
       "17481   2019-02-26            0            0          0          0  ...   \n",
       "157350  2023-10-11            0            0          0          0  ...   \n",
       "104591  2022-08-22            0            0          0          0  ...   \n",
       "\n",
       "        elementaire  college  lycee  lycee_pro  autre  code_postal_etab  \\\n",
       "150199            0        1      0          0      0             91150   \n",
       "59457             1        0      0          0      0               NaN   \n",
       "27777             1        0      0          0      0               NaN   \n",
       "145045            0        0      1          0      1             88204   \n",
       "8377              0        1      0          0      0               NaN   \n",
       "74750             0        0      0          0      0               NaN   \n",
       "33783             1        0      0          0      0               NaN   \n",
       "17481             0        0      0          0      0               NaN   \n",
       "157350            0        0      0          0      0             64000   \n",
       "104591            1        0      0          0      0             88000   \n",
       "\n",
       "        academie_etab      type_etablissement_etab  departement  \\\n",
       "150199     Versailles  ECOLE DE NIVEAU ELEMENTAIRE           91   \n",
       "59457         Créteil                          NaN           93   \n",
       "27777             NaN                          NaN          NaN   \n",
       "145045     Nancy-Metz             LYCEE POLYVALENT           88   \n",
       "8377            Lille                          NaN           62   \n",
       "74750             NaN                          NaN          NaN   \n",
       "33783       Normandie                          NaN           14   \n",
       "17481             NaN                          NaN          NaN   \n",
       "157350       Bordeaux  ECOLE DE NIVEAU ELEMENTAIRE           64   \n",
       "104591     Nancy-Metz  ECOLE DE NIVEAU ELEMENTAIRE           88   \n",
       "\n",
       "                      discipline  \n",
       "150199                       NaN  \n",
       "59457                        NaN  \n",
       "27777                        NaN  \n",
       "145045  Sciences et technologies  \n",
       "8377            Langues vivantes  \n",
       "74750                        NaN  \n",
       "33783                        NaN  \n",
       "17481                        NaN  \n",
       "157350                       NaN  \n",
       "104591                       NaN  \n",
       "\n",
       "[10 rows x 42 columns]"
      ]
     },
     "execution_count": 152,
     "metadata": {},
     "output_type": "execute_result"
    }
   ],
   "source": [
    "df_users.sample(10)"
   ]
  },
  {
   "cell_type": "markdown",
   "id": "132a7123",
   "metadata": {},
   "source": [
    "## Rename columns for understandable names"
   ]
  },
  {
   "cell_type": "code",
   "execution_count": 153,
   "id": "99b048cd",
   "metadata": {
    "collapsed": true
   },
   "outputs": [
    {
     "data": {
      "text/plain": [
       "Index(['id', 'statut_infolettre', 'statut_mailchimp', 'codepostal',\n",
       "       'anciennete', 'created_at', 'niveau_1ere', 'niveau_2nde', 'niveau_3e',\n",
       "       'niveau_4e', 'niveau_5e', 'niveau_6e', 'niveau_ash', 'niveau_bac_pro',\n",
       "       'niveau_cap', 'niveau_ce1', 'niveau_ce2', 'niveau_cm1', 'niveau_cm2',\n",
       "       'niveau_cp', 'niveau_direction',\n",
       "       'niveau_formateur_trice_/inspecteur_trice', 'niveau_gs', 'niveau_ms',\n",
       "       'niveau_post_bac', 'niveau_ps', 'niveau_professeur_e_documentaliste',\n",
       "       'niveau_segpa', 'niveau_tps', 'niveau_terminale', 'degre', 'maternelle',\n",
       "       'elementaire', 'college', 'lycee', 'lycee_pro', 'autre',\n",
       "       'code_postal_etab', 'academie_etab', 'type_etablissement_etab',\n",
       "       'departement', 'discipline'],\n",
       "      dtype='object')"
      ]
     },
     "execution_count": 153,
     "metadata": {},
     "output_type": "execute_result"
    }
   ],
   "source": [
    "df_users.columns"
   ]
  },
  {
   "cell_type": "code",
   "execution_count": null,
   "id": "78543a82",
   "metadata": {},
   "outputs": [],
   "source": [
    "# df_users = df_users.rename(columns={\n",
    "#     'codepostal': 'code_postal',\n",
    "#     'type_etablissement_etab': 'type_etab',\n",
    "#     'academie_etab': 'academie',\n",
    "#     'niveau_formateur_trice_/inspecteur_trice': 'niveau_formateur',\n",
    "#     'niveau_professeur_e_documentaliste': 'niveau_documentaliste'\n",
    "# })\n",
    "\n",
    "colonnes_ordre = [\n",
    "    'id', 'statut_infolettre', 'statut_mailchimp', 'code_postal', 'departement', 'academie',\n",
    "    'anciennete', 'created_at', 'degre', 'maternelle', 'elementaire', 'college', 'lycee', 'lycee_pro', 'autre',\n",
    "    'type_etab', 'discipline',\n",
    "    'niveau_tps',\n",
    "    'niveau_ps',\n",
    "    'niveau_ms',\n",
    "    'niveau_gs',\n",
    "    'niveau_cp',\n",
    "    'niveau_ce1',\n",
    "    'niveau_ce2',\n",
    "    'niveau_cm1',\n",
    "    'niveau_cm2',\n",
    "    'niveau_6e',\n",
    "    'niveau_5e',\n",
    "    'niveau_4e',\n",
    "    'niveau_3e',\n",
    "    'niveau_2nde',\n",
    "    'niveau_1ere',\n",
    "    'niveau_terminale',\n",
    "    'niveau_cap',\n",
    "    'niveau_bac_pro',\n",
    "    'niveau_post_bac',\n",
    "    'niveau_segpa',\n",
    "    'niveau_ash',\n",
    "    'niveau_direction',\n",
    "    'niveau_formateur',\n",
    "    'niveau_documentaliste',\n",
    "\n",
    "]\n",
    "\n",
    "df_users = df_users[colonnes_ordre]"
   ]
  },
  {
   "cell_type": "code",
   "execution_count": 157,
   "id": "58cf65e3",
   "metadata": {},
   "outputs": [
    {
     "data": {
      "text/html": [
       "<div>\n",
       "<style scoped>\n",
       "    .dataframe tbody tr th:only-of-type {\n",
       "        vertical-align: middle;\n",
       "    }\n",
       "\n",
       "    .dataframe tbody tr th {\n",
       "        vertical-align: top;\n",
       "    }\n",
       "\n",
       "    .dataframe thead th {\n",
       "        text-align: right;\n",
       "    }\n",
       "</style>\n",
       "<table border=\"1\" class=\"dataframe\">\n",
       "  <thead>\n",
       "    <tr style=\"text-align: right;\">\n",
       "      <th></th>\n",
       "      <th>id</th>\n",
       "      <th>statut_infolettre</th>\n",
       "      <th>statut_mailchimp</th>\n",
       "      <th>code_postal</th>\n",
       "      <th>departement</th>\n",
       "      <th>academie</th>\n",
       "      <th>anciennete</th>\n",
       "      <th>created_at</th>\n",
       "      <th>degre</th>\n",
       "      <th>maternelle</th>\n",
       "      <th>...</th>\n",
       "      <th>niveau_1ere</th>\n",
       "      <th>niveau_terminale</th>\n",
       "      <th>niveau_cap</th>\n",
       "      <th>niveau_bac_pro</th>\n",
       "      <th>niveau_post_bac</th>\n",
       "      <th>niveau_segpa</th>\n",
       "      <th>niveau_ash</th>\n",
       "      <th>niveau_direction</th>\n",
       "      <th>niveau_formateur</th>\n",
       "      <th>niveau_documentaliste</th>\n",
       "    </tr>\n",
       "  </thead>\n",
       "  <tbody>\n",
       "    <tr>\n",
       "      <th>0</th>\n",
       "      <td>1</td>\n",
       "      <td>1</td>\n",
       "      <td>subscribed</td>\n",
       "      <td>78770</td>\n",
       "      <td>78</td>\n",
       "      <td>Versailles</td>\n",
       "      <td>24.0</td>\n",
       "      <td>2016-12-31</td>\n",
       "      <td>1</td>\n",
       "      <td>1</td>\n",
       "      <td>...</td>\n",
       "      <td>0</td>\n",
       "      <td>0</td>\n",
       "      <td>0</td>\n",
       "      <td>0</td>\n",
       "      <td>0</td>\n",
       "      <td>0</td>\n",
       "      <td>0</td>\n",
       "      <td>0</td>\n",
       "      <td>0</td>\n",
       "      <td>0</td>\n",
       "    </tr>\n",
       "    <tr>\n",
       "      <th>1</th>\n",
       "      <td>2</td>\n",
       "      <td>1</td>\n",
       "      <td>unsubscribed</td>\n",
       "      <td>31130</td>\n",
       "      <td>31</td>\n",
       "      <td>Toulouse</td>\n",
       "      <td>9.0</td>\n",
       "      <td>2016-12-31</td>\n",
       "      <td>0</td>\n",
       "      <td>0</td>\n",
       "      <td>...</td>\n",
       "      <td>0</td>\n",
       "      <td>0</td>\n",
       "      <td>0</td>\n",
       "      <td>0</td>\n",
       "      <td>0</td>\n",
       "      <td>0</td>\n",
       "      <td>0</td>\n",
       "      <td>0</td>\n",
       "      <td>0</td>\n",
       "      <td>0</td>\n",
       "    </tr>\n",
       "    <tr>\n",
       "      <th>2</th>\n",
       "      <td>3</td>\n",
       "      <td>1</td>\n",
       "      <td>unsubscribed</td>\n",
       "      <td>NaN</td>\n",
       "      <td>NaN</td>\n",
       "      <td>NaN</td>\n",
       "      <td>8.0</td>\n",
       "      <td>2017-01-11</td>\n",
       "      <td>0</td>\n",
       "      <td>0</td>\n",
       "      <td>...</td>\n",
       "      <td>0</td>\n",
       "      <td>0</td>\n",
       "      <td>0</td>\n",
       "      <td>0</td>\n",
       "      <td>0</td>\n",
       "      <td>0</td>\n",
       "      <td>0</td>\n",
       "      <td>0</td>\n",
       "      <td>0</td>\n",
       "      <td>0</td>\n",
       "    </tr>\n",
       "    <tr>\n",
       "      <th>3</th>\n",
       "      <td>4</td>\n",
       "      <td>1</td>\n",
       "      <td>subscribed</td>\n",
       "      <td>93260</td>\n",
       "      <td>93</td>\n",
       "      <td>Créteil</td>\n",
       "      <td>12.0</td>\n",
       "      <td>2017-01-13</td>\n",
       "      <td>1</td>\n",
       "      <td>1</td>\n",
       "      <td>...</td>\n",
       "      <td>0</td>\n",
       "      <td>0</td>\n",
       "      <td>0</td>\n",
       "      <td>0</td>\n",
       "      <td>0</td>\n",
       "      <td>0</td>\n",
       "      <td>0</td>\n",
       "      <td>0</td>\n",
       "      <td>0</td>\n",
       "      <td>0</td>\n",
       "    </tr>\n",
       "    <tr>\n",
       "      <th>4</th>\n",
       "      <td>5</td>\n",
       "      <td>1</td>\n",
       "      <td>subscribed</td>\n",
       "      <td>75020</td>\n",
       "      <td>75</td>\n",
       "      <td>Paris</td>\n",
       "      <td>8.0</td>\n",
       "      <td>2017-01-13</td>\n",
       "      <td>2</td>\n",
       "      <td>0</td>\n",
       "      <td>...</td>\n",
       "      <td>1</td>\n",
       "      <td>0</td>\n",
       "      <td>0</td>\n",
       "      <td>0</td>\n",
       "      <td>0</td>\n",
       "      <td>0</td>\n",
       "      <td>0</td>\n",
       "      <td>0</td>\n",
       "      <td>0</td>\n",
       "      <td>0</td>\n",
       "    </tr>\n",
       "    <tr>\n",
       "      <th>...</th>\n",
       "      <td>...</td>\n",
       "      <td>...</td>\n",
       "      <td>...</td>\n",
       "      <td>...</td>\n",
       "      <td>...</td>\n",
       "      <td>...</td>\n",
       "      <td>...</td>\n",
       "      <td>...</td>\n",
       "      <td>...</td>\n",
       "      <td>...</td>\n",
       "      <td>...</td>\n",
       "      <td>...</td>\n",
       "      <td>...</td>\n",
       "      <td>...</td>\n",
       "      <td>...</td>\n",
       "      <td>...</td>\n",
       "      <td>...</td>\n",
       "      <td>...</td>\n",
       "      <td>...</td>\n",
       "      <td>...</td>\n",
       "      <td>...</td>\n",
       "    </tr>\n",
       "    <tr>\n",
       "      <th>198884</th>\n",
       "      <td>210716</td>\n",
       "      <td>0</td>\n",
       "      <td>subscribed</td>\n",
       "      <td>69270</td>\n",
       "      <td>69</td>\n",
       "      <td>Lyon</td>\n",
       "      <td>0.0</td>\n",
       "      <td>2025-07-10</td>\n",
       "      <td>1</td>\n",
       "      <td>1</td>\n",
       "      <td>...</td>\n",
       "      <td>0</td>\n",
       "      <td>0</td>\n",
       "      <td>0</td>\n",
       "      <td>0</td>\n",
       "      <td>0</td>\n",
       "      <td>0</td>\n",
       "      <td>0</td>\n",
       "      <td>0</td>\n",
       "      <td>0</td>\n",
       "      <td>0</td>\n",
       "    </tr>\n",
       "    <tr>\n",
       "      <th>198885</th>\n",
       "      <td>210717</td>\n",
       "      <td>0</td>\n",
       "      <td>NaN</td>\n",
       "      <td>NaN</td>\n",
       "      <td>NaN</td>\n",
       "      <td>NaN</td>\n",
       "      <td>7.0</td>\n",
       "      <td>2025-07-10</td>\n",
       "      <td>1</td>\n",
       "      <td>0</td>\n",
       "      <td>...</td>\n",
       "      <td>0</td>\n",
       "      <td>0</td>\n",
       "      <td>0</td>\n",
       "      <td>0</td>\n",
       "      <td>0</td>\n",
       "      <td>0</td>\n",
       "      <td>0</td>\n",
       "      <td>0</td>\n",
       "      <td>0</td>\n",
       "      <td>0</td>\n",
       "    </tr>\n",
       "    <tr>\n",
       "      <th>198886</th>\n",
       "      <td>210718</td>\n",
       "      <td>1</td>\n",
       "      <td>subscribed</td>\n",
       "      <td>49270</td>\n",
       "      <td>49</td>\n",
       "      <td>Nantes</td>\n",
       "      <td>0.0</td>\n",
       "      <td>2025-07-10</td>\n",
       "      <td>1</td>\n",
       "      <td>1</td>\n",
       "      <td>...</td>\n",
       "      <td>0</td>\n",
       "      <td>0</td>\n",
       "      <td>0</td>\n",
       "      <td>0</td>\n",
       "      <td>0</td>\n",
       "      <td>0</td>\n",
       "      <td>0</td>\n",
       "      <td>0</td>\n",
       "      <td>0</td>\n",
       "      <td>0</td>\n",
       "    </tr>\n",
       "    <tr>\n",
       "      <th>198887</th>\n",
       "      <td>210719</td>\n",
       "      <td>0</td>\n",
       "      <td>subscribed</td>\n",
       "      <td>52210</td>\n",
       "      <td>52</td>\n",
       "      <td>Reims</td>\n",
       "      <td>0.0</td>\n",
       "      <td>2025-07-10</td>\n",
       "      <td>1</td>\n",
       "      <td>0</td>\n",
       "      <td>...</td>\n",
       "      <td>0</td>\n",
       "      <td>0</td>\n",
       "      <td>0</td>\n",
       "      <td>0</td>\n",
       "      <td>0</td>\n",
       "      <td>0</td>\n",
       "      <td>0</td>\n",
       "      <td>0</td>\n",
       "      <td>0</td>\n",
       "      <td>0</td>\n",
       "    </tr>\n",
       "    <tr>\n",
       "      <th>198888</th>\n",
       "      <td>210720</td>\n",
       "      <td>1</td>\n",
       "      <td>subscribed</td>\n",
       "      <td>77133</td>\n",
       "      <td>77</td>\n",
       "      <td>Créteil</td>\n",
       "      <td>0.0</td>\n",
       "      <td>2025-07-10</td>\n",
       "      <td>1</td>\n",
       "      <td>1</td>\n",
       "      <td>...</td>\n",
       "      <td>0</td>\n",
       "      <td>0</td>\n",
       "      <td>0</td>\n",
       "      <td>0</td>\n",
       "      <td>0</td>\n",
       "      <td>0</td>\n",
       "      <td>0</td>\n",
       "      <td>0</td>\n",
       "      <td>0</td>\n",
       "      <td>0</td>\n",
       "    </tr>\n",
       "  </tbody>\n",
       "</table>\n",
       "<p>198889 rows × 41 columns</p>\n",
       "</div>"
      ],
      "text/plain": [
       "            id  statut_infolettre statut_mailchimp code_postal departement  \\\n",
       "0            1                  1       subscribed       78770          78   \n",
       "1            2                  1     unsubscribed       31130          31   \n",
       "2            3                  1     unsubscribed         NaN         NaN   \n",
       "3            4                  1       subscribed       93260          93   \n",
       "4            5                  1       subscribed       75020          75   \n",
       "...        ...                ...              ...         ...         ...   \n",
       "198884  210716                  0       subscribed       69270          69   \n",
       "198885  210717                  0              NaN         NaN         NaN   \n",
       "198886  210718                  1       subscribed       49270          49   \n",
       "198887  210719                  0       subscribed       52210          52   \n",
       "198888  210720                  1       subscribed       77133          77   \n",
       "\n",
       "          academie  anciennete  created_at  degre  maternelle  ...  \\\n",
       "0       Versailles        24.0  2016-12-31      1           1  ...   \n",
       "1         Toulouse         9.0  2016-12-31      0           0  ...   \n",
       "2              NaN         8.0  2017-01-11      0           0  ...   \n",
       "3          Créteil        12.0  2017-01-13      1           1  ...   \n",
       "4            Paris         8.0  2017-01-13      2           0  ...   \n",
       "...            ...         ...         ...    ...         ...  ...   \n",
       "198884        Lyon         0.0  2025-07-10      1           1  ...   \n",
       "198885         NaN         7.0  2025-07-10      1           0  ...   \n",
       "198886      Nantes         0.0  2025-07-10      1           1  ...   \n",
       "198887       Reims         0.0  2025-07-10      1           0  ...   \n",
       "198888     Créteil         0.0  2025-07-10      1           1  ...   \n",
       "\n",
       "        niveau_1ere  niveau_terminale  niveau_cap  niveau_bac_pro  \\\n",
       "0                 0                 0           0               0   \n",
       "1                 0                 0           0               0   \n",
       "2                 0                 0           0               0   \n",
       "3                 0                 0           0               0   \n",
       "4                 1                 0           0               0   \n",
       "...             ...               ...         ...             ...   \n",
       "198884            0                 0           0               0   \n",
       "198885            0                 0           0               0   \n",
       "198886            0                 0           0               0   \n",
       "198887            0                 0           0               0   \n",
       "198888            0                 0           0               0   \n",
       "\n",
       "        niveau_post_bac niveau_segpa niveau_ash  niveau_direction  \\\n",
       "0                     0            0          0                 0   \n",
       "1                     0            0          0                 0   \n",
       "2                     0            0          0                 0   \n",
       "3                     0            0          0                 0   \n",
       "4                     0            0          0                 0   \n",
       "...                 ...          ...        ...               ...   \n",
       "198884                0            0          0                 0   \n",
       "198885                0            0          0                 0   \n",
       "198886                0            0          0                 0   \n",
       "198887                0            0          0                 0   \n",
       "198888                0            0          0                 0   \n",
       "\n",
       "        niveau_formateur  niveau_documentaliste  \n",
       "0                      0                      0  \n",
       "1                      0                      0  \n",
       "2                      0                      0  \n",
       "3                      0                      0  \n",
       "4                      0                      0  \n",
       "...                  ...                    ...  \n",
       "198884                 0                      0  \n",
       "198885                 0                      0  \n",
       "198886                 0                      0  \n",
       "198887                 0                      0  \n",
       "198888                 0                      0  \n",
       "\n",
       "[198889 rows x 41 columns]"
      ]
     },
     "execution_count": 157,
     "metadata": {},
     "output_type": "execute_result"
    }
   ],
   "source": [
    "df_users"
   ]
  },
  {
   "cell_type": "markdown",
   "id": "b8e7400f",
   "metadata": {},
   "source": [
    "## Export new users_data"
   ]
  },
  {
   "cell_type": "code",
   "execution_count": 158,
   "id": "84d5f37b",
   "metadata": {},
   "outputs": [],
   "source": [
    "df_users.to_csv(\"../data/users_cleaned.csv\", index=False)"
   ]
  },
  {
   "cell_type": "code",
   "execution_count": 159,
   "id": "91545be0",
   "metadata": {},
   "outputs": [
    {
     "data": {
      "text/plain": [
       "Index(['id', 'statut_infolettre', 'statut_mailchimp', 'code_postal',\n",
       "       'departement', 'academie', 'anciennete', 'created_at', 'degre',\n",
       "       'maternelle', 'elementaire', 'college', 'lycee', 'lycee_pro', 'autre',\n",
       "       'type_etab', 'discipline', 'niveau_tps', 'niveau_ps', 'niveau_ms',\n",
       "       'niveau_gs', 'niveau_cp', 'niveau_ce1', 'niveau_ce2', 'niveau_cm1',\n",
       "       'niveau_cm2', 'niveau_6e', 'niveau_5e', 'niveau_4e', 'niveau_3e',\n",
       "       'niveau_2nde', 'niveau_1ere', 'niveau_terminale', 'niveau_cap',\n",
       "       'niveau_bac_pro', 'niveau_post_bac', 'niveau_segpa', 'niveau_ash',\n",
       "       'niveau_direction', 'niveau_formateur', 'niveau_documentaliste'],\n",
       "      dtype='object')"
      ]
     },
     "execution_count": 159,
     "metadata": {},
     "output_type": "execute_result"
    }
   ],
   "source": [
    "df_users.columns"
   ]
  }
 ],
 "metadata": {
  "kernelspec": {
   "display_name": "etreprof-lewagon-env",
   "language": "python",
   "name": "python3"
  },
  "language_info": {
   "codemirror_mode": {
    "name": "ipython",
    "version": 3
   },
   "file_extension": ".py",
   "mimetype": "text/x-python",
   "name": "python",
   "nbconvert_exporter": "python",
   "pygments_lexer": "ipython3",
   "version": "3.10.6"
  },
  "toc": {
   "base_numbering": 1,
   "nav_menu": {},
   "number_sections": true,
   "sideBar": true,
   "skip_h1_title": true,
   "title_cell": "Table of Contents",
   "title_sidebar": "Contents",
   "toc_cell": false,
   "toc_position": {
    "height": "calc(100% - 180px)",
    "left": "10px",
    "top": "150px",
    "width": "273px"
   },
   "toc_section_display": true,
   "toc_window_display": true
  }
 },
 "nbformat": 4,
 "nbformat_minor": 5
}
