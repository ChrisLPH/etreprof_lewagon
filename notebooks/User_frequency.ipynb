{
 "cells": [
  {
   "cell_type": "markdown",
   "id": "0a2cbf2e",
   "metadata": {},
   "source": [
    "# Frequency of user usage"
   ]
  },
  {
   "cell_type": "markdown",
   "id": "ba70552b",
   "metadata": {},
   "source": [
    "## Imports"
   ]
  },
  {
   "cell_type": "code",
   "execution_count": 26,
   "id": "f016efff",
   "metadata": {},
   "outputs": [],
   "source": [
    "import pandas as pd\n",
    "import numpy as np\n",
    "from datetime import datetime, timedelta\n",
    "from tqdm import tqdm"
   ]
  },
  {
   "cell_type": "markdown",
   "id": "c236e43d",
   "metadata": {},
   "source": [
    "## Import `interaction`"
   ]
  },
  {
   "cell_type": "code",
   "execution_count": 2,
   "id": "c0f383f2",
   "metadata": {},
   "outputs": [],
   "source": [
    "df_interactions = pd.read_csv('../raw_data/interaction_events.csv', low_memory=False)"
   ]
  },
  {
   "cell_type": "code",
   "execution_count": 3,
   "id": "8c81c154",
   "metadata": {},
   "outputs": [
    {
     "data": {
      "text/plain": [
       "(16675373, 11)"
      ]
     },
     "execution_count": 3,
     "metadata": {},
     "output_type": "execute_result"
    }
   ],
   "source": [
    "df_interactions.shape"
   ]
  },
  {
   "cell_type": "code",
   "execution_count": 4,
   "id": "f4420b40",
   "metadata": {},
   "outputs": [
    {
     "data": {
      "text/plain": [
       "Index(['id', 'user_id', 'type', 'content_type', 'content_id', 'context_type',\n",
       "       'context_id', 'thema_prio', 'url', 'created_at', 'updated_at'],\n",
       "      dtype='object')"
      ]
     },
     "execution_count": 4,
     "metadata": {},
     "output_type": "execute_result"
    }
   ],
   "source": [
    "df_interactions.columns"
   ]
  },
  {
   "cell_type": "markdown",
   "id": "ccc66c16",
   "metadata": {
    "heading_collapsed": true
   },
   "source": [
    "#### Old calcul way"
   ]
  },
  {
   "cell_type": "code",
   "execution_count": null,
   "id": "e7d10221",
   "metadata": {
    "hidden": true
   },
   "outputs": [],
   "source": [
    "# def create_temporal_engagement_df_optimized(df_interactions):\n",
    "#     \"\"\"\n",
    "#     Version encore plus optimisée utilisant groupby + apply\n",
    "#     \"\"\"\n",
    "#     print(\"🚀 Version optimisée avec groupby + apply...\")\n",
    "    \n",
    "#     # Préparation\n",
    "#     df_interactions['created_at'] = pd.to_datetime(df_interactions['created_at'])\n",
    "#     df_interactions = df_interactions.dropna(subset=['user_id', 'created_at'])\n",
    "    \n",
    "#     # Définition des périodes\n",
    "#     now = datetime.now()\n",
    "#     semaines = [(now - timedelta(weeks=i+1), now - timedelta(weeks=i)) for i in range(12)]\n",
    "#     mois = [(now - timedelta(days=30*(i+1)), now - timedelta(days=30*i)) for i in range(12)]\n",
    "#     annees = [(now - timedelta(days=365*(i+1)), now - timedelta(days=365*i)) for i in range(3)]\n",
    "    \n",
    "#     def process_user_group(group):\n",
    "#         \"\"\"Traite un groupe d'interactions pour un utilisateur\"\"\"\n",
    "#         dates = group['created_at']\n",
    "        \n",
    "#         result = {}\n",
    "        \n",
    "#         # Semaines\n",
    "#         for i, (debut, fin) in enumerate(semaines):\n",
    "#             result[f'nb_actions_semaine_{i}'] = dates[(dates >= debut) & (dates < fin)].count()\n",
    "        \n",
    "#         # Mois\n",
    "#         for i, (debut, fin) in enumerate(mois):\n",
    "#             result[f'nb_actions_mois_{i}'] = dates[(dates >= debut) & (dates < fin)].count()\n",
    "        \n",
    "#         # Années\n",
    "#         for i, (debut, fin) in enumerate(annees):\n",
    "#             result[f'nb_actions_annee_{i}'] = dates[(dates >= debut) & (dates < fin)].count()\n",
    "        \n",
    "#         # Date dernière action\n",
    "#         result['date_derniere_action'] = dates.max()\n",
    "        \n",
    "#         print(len(result))\n",
    "        \n",
    "#         return pd.Series(result)\n",
    "    \n",
    "#     # Application avec groupby + apply\n",
    "#     df_engagement = df_interactions.groupby('user_id').apply(process_user_group).reset_index()\n",
    "    \n",
    "#     print(\"✅ Calcul optimisé terminé !\")\n",
    "#     return df_engagement\n",
    "\n"
   ]
  },
  {
   "cell_type": "markdown",
   "id": "23216e20",
   "metadata": {},
   "source": [
    "#### Define a function to apply"
   ]
  },
  {
   "cell_type": "code",
   "execution_count": 34,
   "id": "88f88cc5",
   "metadata": {},
   "outputs": [],
   "source": [
    "\n",
    "def create_temporal_engagement_df_optimized(df_interactions):\n",
    "    \"\"\"\n",
    "    Create a temporal user engagement DataFrame from interaction data.\n",
    "    \n",
    "    This function analyzes user interactions to generate engagement metrics across\n",
    "    different time periods (weeks, months, years) and calculates usage statistics\n",
    "    for each user.\n",
    "    \n",
    "    Parameters\n",
    "    ----------\n",
    "    df_interactions : pandas.DataFrame\n",
    "        DataFrame containing user interactions with at minimum the columns:\n",
    "        - 'user_id' : Unique user identifier\n",
    "        - 'created_at' : Date/time of interaction (will be converted to datetime)\n",
    "    \n",
    "    Returns\n",
    "    -------\n",
    "    pandas.DataFrame\n",
    "        DataFrame with one row per unique user containing:\n",
    "        \n",
    "        Identification columns:\n",
    "        - 'id' : User identifier (formerly user_id)\n",
    "        - 'join_date' : Date of first interaction\n",
    "        - 'last_action_date' : Date of last interaction\n",
    "        - 'total_interactions' : Total number of interactions\n",
    "        \n",
    "        Weekly metrics (12 columns):\n",
    "        - 'week_minus_0' to 'week_minus_11' : Number of actions per week\n",
    "          (0 = current week, 11 = 11 weeks ago)\n",
    "        \n",
    "        Monthly metrics (12 columns):\n",
    "        - 'month_minus_0' to 'month_minus_11' : Number of actions per month\n",
    "          (0 = current month, 11 = 11 months ago)\n",
    "        \n",
    "        Yearly metrics (3 columns):\n",
    "        - 'year_minus_0' to 'year_minus_2' : Number of actions per year\n",
    "          (0 = current year, 2 = 2 years ago)\n",
    "    \n",
    "    Notes\n",
    "    -----\n",
    "    - Time periods are calculated retrospectively from datetime.now()\n",
    "    - Weeks = 7 days, months = 30 days, years = 365 days\n",
    "    - Rows with missing user_id or created_at are dropped\n",
    "    - Function displays progress bar via tqdm\n",
    "    - Execution time is measured and displayed\n",
    "    \n",
    "    Examples\n",
    "    --------\n",
    "    >>> df_interactions = pd.DataFrame({\n",
    "    ...     'user_id': [1, 1, 2, 2, 3],\n",
    "    ...     'created_at': ['2024-01-01', '2024-01-15', '2024-02-01', '2024-02-10', '2024-03-01']\n",
    "    ... })\n",
    "    >>> df_engagement = create_temporal_engagement_df_optimized(df_interactions)\n",
    "    🚀 Optimized version with groupby + apply...\n",
    "    📊 Unique users: 3\n",
    "    📊 Total interactions: 5\n",
    "    ⚡ Processing...\n",
    "    ✅ Optimized calculation completed in 0.12 seconds!\n",
    "    \n",
    "    Raises\n",
    "    ------\n",
    "    KeyError\n",
    "        If 'user_id' or 'created_at' columns are missing\n",
    "    ValueError\n",
    "        If datetime conversion fails for 'created_at'\n",
    "    \n",
    "    See Also\n",
    "    --------\n",
    "    pandas.DataFrame.groupby : Grouping method used for aggregation\n",
    "    tqdm.pandas : Progress bar for pandas operations \n",
    "    \"\"\"\n",
    "#     import time\n",
    "#     from tqdm import tqdm\n",
    "    \n",
    "    # Activate tqdm for pandas\n",
    "    tqdm.pandas()\n",
    "    \n",
    "    start_time = time.time()\n",
    "    \n",
    "    # Prepare\n",
    "    df_interactions['created_at'] = pd.to_datetime(df_interactions['created_at'])\n",
    "    df_interactions = df_interactions.dropna(subset=['user_id', 'created_at'])\n",
    "    \n",
    "    print(f\"📊 Unique users : {df_interactions['user_id'].nunique()}\")\n",
    "    print(f\"📊 Total interactions : {len(df_interactions)}\")\n",
    "    \n",
    "    # Define periods\n",
    "    now = datetime.now()\n",
    "    weeks = [(now - timedelta(weeks=i+1), now - timedelta(weeks=i)) for i in range(12)]\n",
    "    months = [(now - timedelta(days=30*(i+1)), now - timedelta(days=30*i)) for i in range(12)]\n",
    "    years = [(now - timedelta(days=365*(i+1)), now - timedelta(days=365*i)) for i in range(3)]\n",
    "    \n",
    "    def process_user_group(group):\n",
    "        \"\"\"\n",
    "        Process interaction group for a single user to calculate temporal engagement metrics.\n",
    "        \n",
    "        Parameters\n",
    "        ----------\n",
    "        group : pandas.DataFrame\n",
    "            Group of interactions for one user containing 'created_at' column.\n",
    "            \n",
    "        Returns\n",
    "        -------\n",
    "        pandas.Series\n",
    "            Series with engagement metrics: weekly/monthly/yearly counts,\n",
    "            join_date, last_action_date, and total_interactions.\n",
    "        \"\"\"\n",
    "        dates = group['created_at']\n",
    "        \n",
    "        result = {}\n",
    "        \n",
    "        # Weekks\n",
    "        for i, (debut, fin) in enumerate(weeks):\n",
    "            result[f'week_minus_{i}'] = dates[(dates >= debut) & (dates < fin)].count()\n",
    "        \n",
    "        # Months\n",
    "        for i, (debut, fin) in enumerate(months):\n",
    "            result[f'month_minus_{i}'] = dates[(dates >= debut) & (dates < fin)].count()\n",
    "        \n",
    "        # Years\n",
    "        for i, (debut, fin) in enumerate(years):\n",
    "            result[f'year_minus_{i}'] = dates[(dates >= debut) & (dates < fin)].count()\n",
    "        \n",
    "        # Complementary datas\n",
    "        result['join_date'] = dates.min()  # First interaction\n",
    "        result['last_action_date'] = dates.max()  # Last action\n",
    "        result['total_interactions'] = len(dates)  # Total number of interactions\n",
    "        \n",
    "        return pd.Series(result)\n",
    "    \n",
    "    print(\"⚡ Run in progress...\")\n",
    "    df_engagement = df_interactions.groupby('user_id').progress_apply(process_user_group).reset_index()\n",
    "    \n",
    "    df_engagement = df_engagement.rename(columns={'user_id': 'id'})\n",
    "    \n",
    "    # Reorder columns\n",
    "    column_order = ['id', 'join_date', 'last_action_date', 'total_interactions']\n",
    "    column_order.extend([f'week_minus_{i}' for i in range(12)])\n",
    "    column_order.extend([f'month_minus_{i}' for i in range(12)])\n",
    "    column_order.extend([f'year_minus_{i}' for i in range(3)])\n",
    "    \n",
    "    df_engagement = df_engagement[column_order]\n",
    "    \n",
    "    # Total execution time\n",
    "    end_time = time.time()\n",
    "    execution_time = end_time - start_time\n",
    "    \n",
    "    print(f\"✅ Time elapsed to run processing {execution_time:.2f} secondes!\")\n",
    "    \n",
    "    return df_engagement"
   ]
  },
  {
   "cell_type": "markdown",
   "id": "e0761776",
   "metadata": {},
   "source": [
    "#### Let's run on df"
   ]
  },
  {
   "cell_type": "code",
   "execution_count": 28,
   "id": "848a8704",
   "metadata": {},
   "outputs": [
    {
     "name": "stdout",
     "output_type": "stream",
     "text": [
      "🚀 Version optimisée avec groupby + apply...\n",
      "📊 Nombre d'utilisateurs uniques : 198937\n",
      "📊 Nombre d'interactions : 16675373\n",
      "⚡ Traitement en cours...\n"
     ]
    },
    {
     "name": "stderr",
     "output_type": "stream",
     "text": [
      "100%|█████████████████████████████████████████████████████████████████████████████████████████████████████████| 198937/198937 [45:01<00:00, 73.65it/s]\n"
     ]
    },
    {
     "name": "stdout",
     "output_type": "stream",
     "text": [
      "✅ Calcul optimisé terminé en 2704.17 secondes!\n",
      "⚡ Soit 45.1 minutes pour 198937 utilisateurs\n",
      "CPU times: user 44min 22s, sys: 1min 1s, total: 45min 24s\n",
      "Wall time: 45min 8s\n"
     ]
    }
   ],
   "source": [
    "df_engagement = create_temporal_engagement_df_optimized(df_interactions)"
   ]
  },
  {
   "cell_type": "code",
   "execution_count": 25,
   "id": "7c4a8903",
   "metadata": {},
   "outputs": [
    {
     "data": {
      "text/plain": [
       "(198937, 31)"
      ]
     },
     "execution_count": 25,
     "metadata": {},
     "output_type": "execute_result"
    }
   ],
   "source": [
    "df_engagement.shape"
   ]
  },
  {
   "cell_type": "code",
   "execution_count": 11,
   "id": "88b05376",
   "metadata": {},
   "outputs": [
    {
     "data": {
      "text/plain": [
       "Index(['user_id', 'nb_actions_semaine_0', 'nb_actions_semaine_1',\n",
       "       'nb_actions_semaine_2', 'nb_actions_semaine_3', 'nb_actions_semaine_4',\n",
       "       'nb_actions_semaine_5', 'nb_actions_semaine_6', 'nb_actions_semaine_7',\n",
       "       'nb_actions_semaine_8', 'nb_actions_semaine_9', 'nb_actions_semaine_10',\n",
       "       'nb_actions_semaine_11', 'nb_actions_mois_0', 'nb_actions_mois_1',\n",
       "       'nb_actions_mois_2', 'nb_actions_mois_3', 'nb_actions_mois_4',\n",
       "       'nb_actions_mois_5', 'nb_actions_mois_6', 'nb_actions_mois_7',\n",
       "       'nb_actions_mois_8', 'nb_actions_mois_9', 'nb_actions_mois_10',\n",
       "       'nb_actions_mois_11', 'nb_actions_annee_0', 'nb_actions_annee_1',\n",
       "       'nb_actions_annee_2', 'date_derniere_action'],\n",
       "      dtype='object')"
      ]
     },
     "execution_count": 11,
     "metadata": {},
     "output_type": "execute_result"
    }
   ],
   "source": [
    "df_engagement.columns"
   ]
  },
  {
   "cell_type": "markdown",
   "id": "ae3806d4",
   "metadata": {},
   "source": [
    "### Import users_cleaned database"
   ]
  },
  {
   "cell_type": "code",
   "execution_count": 35,
   "id": "a5205a75",
   "metadata": {},
   "outputs": [
    {
     "name": "stdout",
     "output_type": "stream",
     "text": [
      "/home/chris/code/ChrisLPH/etreprof_lewagon/notebooks\r\n"
     ]
    }
   ],
   "source": [
    "!pwd"
   ]
  },
  {
   "cell_type": "code",
   "execution_count": 36,
   "id": "30b331d4",
   "metadata": {},
   "outputs": [],
   "source": [
    "df_users = pd.read_csv(\"../data/users_cleaned.csv\", low_memory=False)"
   ]
  },
  {
   "cell_type": "code",
   "execution_count": 37,
   "id": "b4244b61",
   "metadata": {},
   "outputs": [
    {
     "name": "stdout",
     "output_type": "stream",
     "text": [
      "CPU times: user 94.8 ms, sys: 97.9 ms, total: 193 ms\n",
      "Wall time: 190 ms\n"
     ]
    }
   ],
   "source": [
    "%%time\n",
    "df_users_enriched = df_users.merge(df_engagement, on='id', how='left')"
   ]
  },
  {
   "cell_type": "code",
   "execution_count": 38,
   "id": "3e1646aa",
   "metadata": {},
   "outputs": [
    {
     "data": {
      "text/html": [
       "<div>\n",
       "<style scoped>\n",
       "    .dataframe tbody tr th:only-of-type {\n",
       "        vertical-align: middle;\n",
       "    }\n",
       "\n",
       "    .dataframe tbody tr th {\n",
       "        vertical-align: top;\n",
       "    }\n",
       "\n",
       "    .dataframe thead th {\n",
       "        text-align: right;\n",
       "    }\n",
       "</style>\n",
       "<table border=\"1\" class=\"dataframe\">\n",
       "  <thead>\n",
       "    <tr style=\"text-align: right;\">\n",
       "      <th></th>\n",
       "      <th>id</th>\n",
       "      <th>statut_infolettre</th>\n",
       "      <th>statut_mailchimp</th>\n",
       "      <th>code_postal</th>\n",
       "      <th>departement</th>\n",
       "      <th>academie</th>\n",
       "      <th>anciennete</th>\n",
       "      <th>created_at</th>\n",
       "      <th>degre</th>\n",
       "      <th>maternelle</th>\n",
       "      <th>...</th>\n",
       "      <th>month_minus_5</th>\n",
       "      <th>month_minus_6</th>\n",
       "      <th>month_minus_7</th>\n",
       "      <th>month_minus_8</th>\n",
       "      <th>month_minus_9</th>\n",
       "      <th>month_minus_10</th>\n",
       "      <th>month_minus_11</th>\n",
       "      <th>year_minus_0</th>\n",
       "      <th>year_minus_1</th>\n",
       "      <th>year_minus_2</th>\n",
       "    </tr>\n",
       "  </thead>\n",
       "  <tbody>\n",
       "    <tr>\n",
       "      <th>0</th>\n",
       "      <td>1</td>\n",
       "      <td>1</td>\n",
       "      <td>subscribed</td>\n",
       "      <td>78770</td>\n",
       "      <td>78.0</td>\n",
       "      <td>Versailles</td>\n",
       "      <td>24.0</td>\n",
       "      <td>2016-12-31</td>\n",
       "      <td>1</td>\n",
       "      <td>1</td>\n",
       "      <td>...</td>\n",
       "      <td>13.0</td>\n",
       "      <td>18.0</td>\n",
       "      <td>22.0</td>\n",
       "      <td>8.0</td>\n",
       "      <td>8.0</td>\n",
       "      <td>12.0</td>\n",
       "      <td>4.0</td>\n",
       "      <td>239.0</td>\n",
       "      <td>132.0</td>\n",
       "      <td>27.0</td>\n",
       "    </tr>\n",
       "    <tr>\n",
       "      <th>1</th>\n",
       "      <td>2</td>\n",
       "      <td>1</td>\n",
       "      <td>unsubscribed</td>\n",
       "      <td>31130</td>\n",
       "      <td>31.0</td>\n",
       "      <td>Toulouse</td>\n",
       "      <td>9.0</td>\n",
       "      <td>2016-12-31</td>\n",
       "      <td>0</td>\n",
       "      <td>0</td>\n",
       "      <td>...</td>\n",
       "      <td>0.0</td>\n",
       "      <td>0.0</td>\n",
       "      <td>0.0</td>\n",
       "      <td>0.0</td>\n",
       "      <td>0.0</td>\n",
       "      <td>0.0</td>\n",
       "      <td>0.0</td>\n",
       "      <td>0.0</td>\n",
       "      <td>0.0</td>\n",
       "      <td>2.0</td>\n",
       "    </tr>\n",
       "    <tr>\n",
       "      <th>2</th>\n",
       "      <td>3</td>\n",
       "      <td>1</td>\n",
       "      <td>unsubscribed</td>\n",
       "      <td>NaN</td>\n",
       "      <td>NaN</td>\n",
       "      <td>NaN</td>\n",
       "      <td>8.0</td>\n",
       "      <td>2017-01-11</td>\n",
       "      <td>0</td>\n",
       "      <td>0</td>\n",
       "      <td>...</td>\n",
       "      <td>0.0</td>\n",
       "      <td>0.0</td>\n",
       "      <td>0.0</td>\n",
       "      <td>0.0</td>\n",
       "      <td>0.0</td>\n",
       "      <td>0.0</td>\n",
       "      <td>0.0</td>\n",
       "      <td>0.0</td>\n",
       "      <td>0.0</td>\n",
       "      <td>2.0</td>\n",
       "    </tr>\n",
       "    <tr>\n",
       "      <th>3</th>\n",
       "      <td>4</td>\n",
       "      <td>1</td>\n",
       "      <td>subscribed</td>\n",
       "      <td>93260</td>\n",
       "      <td>93.0</td>\n",
       "      <td>Créteil</td>\n",
       "      <td>12.0</td>\n",
       "      <td>2017-01-13</td>\n",
       "      <td>1</td>\n",
       "      <td>1</td>\n",
       "      <td>...</td>\n",
       "      <td>35.0</td>\n",
       "      <td>12.0</td>\n",
       "      <td>34.0</td>\n",
       "      <td>39.0</td>\n",
       "      <td>59.0</td>\n",
       "      <td>64.0</td>\n",
       "      <td>47.0</td>\n",
       "      <td>449.0</td>\n",
       "      <td>746.0</td>\n",
       "      <td>307.0</td>\n",
       "    </tr>\n",
       "    <tr>\n",
       "      <th>4</th>\n",
       "      <td>5</td>\n",
       "      <td>1</td>\n",
       "      <td>subscribed</td>\n",
       "      <td>75020</td>\n",
       "      <td>75.0</td>\n",
       "      <td>Paris</td>\n",
       "      <td>8.0</td>\n",
       "      <td>2017-01-13</td>\n",
       "      <td>2</td>\n",
       "      <td>0</td>\n",
       "      <td>...</td>\n",
       "      <td>20.0</td>\n",
       "      <td>11.0</td>\n",
       "      <td>16.0</td>\n",
       "      <td>21.0</td>\n",
       "      <td>13.0</td>\n",
       "      <td>10.0</td>\n",
       "      <td>13.0</td>\n",
       "      <td>188.0</td>\n",
       "      <td>189.0</td>\n",
       "      <td>117.0</td>\n",
       "    </tr>\n",
       "  </tbody>\n",
       "</table>\n",
       "<p>5 rows × 71 columns</p>\n",
       "</div>"
      ],
      "text/plain": [
       "   id  statut_infolettre statut_mailchimp code_postal  departement  \\\n",
       "0   1                  1       subscribed       78770         78.0   \n",
       "1   2                  1     unsubscribed       31130         31.0   \n",
       "2   3                  1     unsubscribed         NaN          NaN   \n",
       "3   4                  1       subscribed       93260         93.0   \n",
       "4   5                  1       subscribed       75020         75.0   \n",
       "\n",
       "     academie  anciennete  created_at  degre  maternelle  ...  month_minus_5  \\\n",
       "0  Versailles        24.0  2016-12-31      1           1  ...           13.0   \n",
       "1    Toulouse         9.0  2016-12-31      0           0  ...            0.0   \n",
       "2         NaN         8.0  2017-01-11      0           0  ...            0.0   \n",
       "3     Créteil        12.0  2017-01-13      1           1  ...           35.0   \n",
       "4       Paris         8.0  2017-01-13      2           0  ...           20.0   \n",
       "\n",
       "   month_minus_6  month_minus_7  month_minus_8  month_minus_9 month_minus_10  \\\n",
       "0           18.0           22.0            8.0            8.0           12.0   \n",
       "1            0.0            0.0            0.0            0.0            0.0   \n",
       "2            0.0            0.0            0.0            0.0            0.0   \n",
       "3           12.0           34.0           39.0           59.0           64.0   \n",
       "4           11.0           16.0           21.0           13.0           10.0   \n",
       "\n",
       "  month_minus_11  year_minus_0  year_minus_1  year_minus_2  \n",
       "0            4.0         239.0         132.0          27.0  \n",
       "1            0.0           0.0           0.0           2.0  \n",
       "2            0.0           0.0           0.0           2.0  \n",
       "3           47.0         449.0         746.0         307.0  \n",
       "4           13.0         188.0         189.0         117.0  \n",
       "\n",
       "[5 rows x 71 columns]"
      ]
     },
     "execution_count": 38,
     "metadata": {},
     "output_type": "execute_result"
    }
   ],
   "source": [
    "df_users_enriched.head()"
   ]
  },
  {
   "cell_type": "code",
   "execution_count": 39,
   "id": "571f4428",
   "metadata": {},
   "outputs": [
    {
     "data": {
      "text/plain": [
       "(198889, 71)"
      ]
     },
     "execution_count": 39,
     "metadata": {},
     "output_type": "execute_result"
    }
   ],
   "source": [
    "df_users_enriched.shape"
   ]
  },
  {
   "cell_type": "code",
   "execution_count": 40,
   "id": "94b35b00",
   "metadata": {},
   "outputs": [],
   "source": [
    "df_users_enriched.to_csv(\"../data/users_cleaned_and_frequency.csv\", index=False)"
   ]
  },
  {
   "cell_type": "code",
   "execution_count": null,
   "id": "20b659ba",
   "metadata": {},
   "outputs": [],
   "source": []
  },
  {
   "cell_type": "code",
   "execution_count": null,
   "id": "99bb335f",
   "metadata": {},
   "outputs": [],
   "source": []
  },
  {
   "cell_type": "code",
   "execution_count": null,
   "id": "6e42b607",
   "metadata": {},
   "outputs": [],
   "source": []
  },
  {
   "cell_type": "code",
   "execution_count": null,
   "id": "75b286cc",
   "metadata": {},
   "outputs": [],
   "source": []
  },
  {
   "cell_type": "code",
   "execution_count": null,
   "id": "4246b408",
   "metadata": {},
   "outputs": [],
   "source": []
  }
 ],
 "metadata": {
  "kernelspec": {
   "display_name": "Python 3 (ipykernel)",
   "language": "python",
   "name": "python3"
  },
  "language_info": {
   "codemirror_mode": {
    "name": "ipython",
    "version": 3
   },
   "file_extension": ".py",
   "mimetype": "text/x-python",
   "name": "python",
   "nbconvert_exporter": "python",
   "pygments_lexer": "ipython3",
   "version": "3.10.6"
  },
  "toc": {
   "base_numbering": 1,
   "nav_menu": {},
   "number_sections": true,
   "sideBar": true,
   "skip_h1_title": true,
   "title_cell": "Table of Contents",
   "title_sidebar": "Contents",
   "toc_cell": false,
   "toc_position": {},
   "toc_section_display": true,
   "toc_window_display": false
  }
 },
 "nbformat": 4,
 "nbformat_minor": 5
}
