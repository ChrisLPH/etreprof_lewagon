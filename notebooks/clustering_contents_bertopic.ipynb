{
 "cells": [
  {
   "cell_type": "markdown",
   "id": "6487c261-1aee-4fb7-a431-e79c1ace6a7c",
   "metadata": {},
   "source": [
    "# How to cluster contents using BERTopic \n",
    "**Link** : [BERTopic](https://maartengr.github.io/BERTopic/index.html)"
   ]
  },
  {
   "cell_type": "markdown",
   "id": "2539b218-1a2f-4e87-b973-63a5429eb195",
   "metadata": {},
   "source": [
    "## Imports"
   ]
  },
  {
   "cell_type": "code",
   "execution_count": null,
   "id": "fb2baeef-3329-4c8a-8eaf-a649b4448cfe",
   "metadata": {
    "scrolled": true
   },
   "outputs": [],
   "source": [
    "! pip install bertopic"
   ]
  },
  {
   "cell_type": "code",
   "execution_count": null,
   "id": "3ba062eb-2d63-43b5-b893-a0e6e4dfea68",
   "metadata": {},
   "outputs": [],
   "source": [
    "import pandas as pd\n",
    "import numpy as np\n",
    "import pickle\n",
    "import re\n",
    "from bertopic import BERTopic\n",
    "from sentence_transformers import SentenceTransformer\n",
    "from sklearn.feature_extraction.text import CountVectorizer\n",
    "from umap import UMAP\n",
    "from hdbscan import HDBSCAN"
   ]
  },
  {
   "cell_type": "markdown",
   "id": "022ba5b5-99ef-4bf4-94c6-58a487842f25",
   "metadata": {},
   "source": [
    "## Import and clean df"
   ]
  },
  {
   "cell_type": "code",
   "execution_count": null,
   "id": "c24621a3-21ec-437e-bb20-26f8be4c4312",
   "metadata": {},
   "outputs": [],
   "source": [
    "url = \"../raw_data/contents_v3.csv\"\n",
    "df_content = pd.read_csv(url)"
   ]
  },
  {
   "cell_type": "code",
   "execution_count": null,
   "id": "e1d329b2-480c-4e67-bf2c-c1536257b101",
   "metadata": {},
   "outputs": [],
   "source": [
    "df_filtered = df_content[df_content['markdown'].notna() & (df_content['markdown'] != '')].copy()"
   ]
  },
  {
   "cell_type": "code",
   "execution_count": null,
   "id": "375d5582-654b-46b6-880a-0527b2a92a31",
   "metadata": {},
   "outputs": [],
   "source": [
    "df_filtered = df_filtered[df_filtered['type'].isin(['article', 'fiche_outils', 'guide_pratique'])].copy()"
   ]
  },
  {
   "cell_type": "code",
   "execution_count": null,
   "id": "e3dbb1bf-a7c8-4573-9aec-b91504cc93bc",
   "metadata": {},
   "outputs": [],
   "source": [
    "df = df_filtered[['id', 'type', 'markdown']].copy()"
   ]
  },
  {
   "cell_type": "code",
   "execution_count": null,
   "id": "b115c039-d8d1-4025-9921-594d80f82b04",
   "metadata": {},
   "outputs": [],
   "source": [
    "def clean_text(text):\n",
    "    if pd.isna(text):\n",
    "        return \"\"\n",
    "    \n",
    "    text = re.sub(r'#+\\s*', '', text)  # Headers\n",
    "    text = re.sub(r'\\*{1,2}([^*]+)\\*{1,2}', r'\\1', text)  # Bold/italic\n",
    "    text = re.sub(r'`([^`]+)`', r'\\1', text)  # Code\n",
    "    text = re.sub(r'\\[([^\\]]+)\\]\\([^)]+\\)', r'\\1', text)  # Links\n",
    "    text = re.sub(r'\\s+', ' ', text).strip()\n",
    "    \n",
    "    return text if len(text.split()) >= 3 else \"\""
   ]
  },
  {
   "cell_type": "code",
   "execution_count": null,
   "id": "197c311c-d494-4092-b5f5-bed79d31de5d",
   "metadata": {},
   "outputs": [],
   "source": [
    "df['markdown_clean'] = df['markdown'].apply(clean_text)"
   ]
  },
  {
   "cell_type": "code",
   "execution_count": null,
   "id": "a0a9f09a-1976-4ddb-9869-e1fd8cbefcee",
   "metadata": {},
   "outputs": [],
   "source": [
    "df_valid = df[df['markdown_clean'] != ''].copy()"
   ]
  },
  {
   "cell_type": "markdown",
   "id": "df3d2bbf-1f68-480e-a61a-c82ef5e5848d",
   "metadata": {},
   "source": [
    "## Let's model !"
   ]
  },
  {
   "cell_type": "code",
   "execution_count": null,
   "id": "0dbd22c6-ad9c-4a48-a289-8773ee376202",
   "metadata": {},
   "outputs": [],
   "source": [
    "embedding_model = SentenceTransformer('OrdalieTech/Solon-embeddings-large-0.1')"
   ]
  },
  {
   "cell_type": "code",
   "execution_count": null,
   "id": "57e571a0-366b-4dae-b84b-0c8d39ef8d61",
   "metadata": {},
   "outputs": [],
   "source": [
    "french_stopwords = [\n",
    "    'le', 'de', 'et', 'à', 'un', 'il', 'être', 'en', 'avoir', 'que', 'pour',\n",
    "    'dans', 'ce', 'son', 'une', 'sur', 'avec', 'ne', 'se', 'pas', 'tout',\n",
    "    'plus', 'par', 'grand', 'mais', 'comme', 'premier', 'leur', 'temps',\n",
    "    'même', 'si', 'faire', 'ces', 'du', 'la', 'les', 'des', 'ses', 'nous',\n",
    "    'vous', 'ils', 'elle', 'elles', 'cette', 'celui', 'ceux', 'celle',\n",
    "    'élève', 'élèves', 'enseignant', 'enseignants', 'école', 'classe'\n",
    "]"
   ]
  },
  {
   "cell_type": "code",
   "execution_count": null,
   "id": "6edaf55f-e53e-44b7-acee-0ac6820771e8",
   "metadata": {},
   "outputs": [],
   "source": [
    "vectorizer = CountVectorizer(\n",
    "    ngram_range=(1, 2),\n",
    "    stop_words=french_stopwords,\n",
    "    min_df=2,\n",
    "    max_df=0.8,\n",
    "    max_features=1000\n",
    ")"
   ]
  },
  {
   "cell_type": "code",
   "execution_count": null,
   "id": "76e3b7b7-f50e-4889-b966-ecaf73d9654b",
   "metadata": {},
   "outputs": [],
   "source": [
    "umap_model = UMAP(\n",
    "    n_neighbors=15,\n",
    "    n_components=5,\n",
    "    min_dist=0.0,\n",
    "    metric='cosine',\n",
    "    random_state=42\n",
    ")"
   ]
  },
  {
   "cell_type": "code",
   "execution_count": null,
   "id": "f2c6aa3e-e707-4b59-a899-46b340ff0115",
   "metadata": {},
   "outputs": [],
   "source": [
    "hdbscan_model = HDBSCAN(\n",
    "    min_cluster_size=5,  # Minimum 5 docs par cluster\n",
    "    metric='euclidean',\n",
    "    cluster_selection_method='eom',\n",
    "    prediction_data=True\n",
    ")"
   ]
  },
  {
   "cell_type": "code",
   "execution_count": null,
   "id": "34a565c5-d611-41a9-84c9-482d00e43978",
   "metadata": {},
   "outputs": [],
   "source": [
    "topic_model = BERTopic(\n",
    "    embedding_model=embedding_model,\n",
    "    umap_model=umap_model,\n",
    "    hdbscan_model=hdbscan_model,\n",
    "    vectorizer_model=vectorizer,\n",
    "    nr_topics=\"auto\",\n",
    "    language=\"french\",\n",
    "    verbose=True,\n",
    "    calculate_probabilities=True\n",
    ")"
   ]
  },
  {
   "cell_type": "code",
   "execution_count": null,
   "id": "02e4ff05-5509-4925-8ca2-b22cefc1ba3a",
   "metadata": {},
   "outputs": [],
   "source": [
    "documents = df_valid['markdown_clean'].tolist()\n",
    "topics, probabilities = topic_model.fit_transform(documents)"
   ]
  },
  {
   "cell_type": "code",
   "execution_count": null,
   "id": "366dbceb-a1ef-4f09-b13b-9be07e8dcce0",
   "metadata": {},
   "outputs": [],
   "source": [
    "df_valid['topic'] = topics\n",
    "df_valid['topic_probability'] = probabilities.max(axis=1)"
   ]
  },
  {
   "cell_type": "code",
   "execution_count": null,
   "id": "a29f106d-bb75-44e1-bb69-216538aeeb10",
   "metadata": {},
   "outputs": [],
   "source": [
    "topic_by_type = df_valid.groupby(['type', 'topic']).size().unstack(fill_value=0)"
   ]
  },
  {
   "cell_type": "code",
   "execution_count": null,
   "id": "ead17842-ca2e-4b98-928e-b688b16a9062",
   "metadata": {},
   "outputs": [],
   "source": [
    "topic_info = topic_model.get_topic_info()\n",
    "topic_info"
   ]
  },
  {
   "cell_type": "code",
   "execution_count": null,
   "id": "a7364a7f-0a46-4340-b339-f160503f9ce5",
   "metadata": {},
   "outputs": [],
   "source": []
  },
  {
   "cell_type": "code",
   "execution_count": null,
   "id": "e0f790e5-b81a-494f-b519-a9623c604890",
   "metadata": {},
   "outputs": [],
   "source": [
    "topic_labels = {}\n",
    "for idx, row in topic_info.iterrows():\n",
    "    topic_num = row['Topic']\n",
    "    if topic_num == -1:\n",
    "        topic_labels[topic_num] = \"Divers/Outliers\"\n",
    "    else:\n",
    "        # Prendre les 3 premiers mots-clés comme label\n",
    "        keywords = row['Representation'][:3]\n",
    "        label = \" | \".join(keywords).title()\n",
    "        topic_labels[topic_num] = label"
   ]
  },
  {
   "cell_type": "code",
   "execution_count": null,
   "id": "afbbd5e6-9b6f-4737-b2c9-05a434ea6865",
   "metadata": {},
   "outputs": [],
   "source": [
    "df_valid['topic_label'] = df_valid['topic'].map(topic_labels)"
   ]
  },
  {
   "cell_type": "code",
   "execution_count": null,
   "id": "67308c2d-63a7-481d-bea1-31621305edbf",
   "metadata": {},
   "outputs": [],
   "source": [
    "topic_stats = df_valid.groupby(['topic', 'topic_label']).agg({\n",
    "    'id': 'count',\n",
    "    'topic_probability': 'mean'\n",
    "}).round(3)\n",
    "topic_stats.columns = ['count', 'avg_probability']\n",
    "topic_stats = topic_stats.reset_index()"
   ]
  },
  {
   "cell_type": "code",
   "execution_count": null,
   "id": "b7a6d8ce-f603-4a33-9fce-09114445d5bd",
   "metadata": {},
   "outputs": [],
   "source": [
    "cross_analysis = pd.crosstab(df_valid['topic_label'], df_valid['type'], margins=True)"
   ]
  },
  {
   "cell_type": "code",
   "execution_count": null,
   "id": "31502539-3560-4651-91c1-8d0be9e059ca",
   "metadata": {},
   "outputs": [],
   "source": [
    "cross_analysis"
   ]
  },
  {
   "cell_type": "markdown",
   "id": "96bd07cc-e0a8-47e8-9a7f-cf0ea04dfe4b",
   "metadata": {},
   "source": [
    "## Export pickles"
   ]
  },
  {
   "cell_type": "code",
   "execution_count": null,
   "id": "d5fcbb10-8890-4dcf-9df3-e5a572943314",
   "metadata": {},
   "outputs": [],
   "source": [
    "from google.colab import drive\n",
    "drive.mount('/content/drive')\n",
    "\n",
    "with open('/content/drive/MyDrive/bertopic_model_etreprof.pkl', 'wb') as f:\n",
    "    pickle.dump(topic_model, f)\n",
    "\n",
    "with open('/content/drive/MyDrive/topic_labels_etreprof.pkl', 'wb') as f:\n",
    "    pickle.dump(topic_labels, f)"
   ]
  }
 ],
 "metadata": {
  "kernelspec": {
   "display_name": "Python 3 (ipykernel)",
   "language": "python",
   "name": "python3"
  },
  "language_info": {
   "codemirror_mode": {
    "name": "ipython",
    "version": 3
   },
   "file_extension": ".py",
   "mimetype": "text/x-python",
   "name": "python",
   "nbconvert_exporter": "python",
   "pygments_lexer": "ipython3",
   "version": "3.10.6"
  }
 },
 "nbformat": 4,
 "nbformat_minor": 5
}
